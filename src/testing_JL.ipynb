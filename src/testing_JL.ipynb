{
 "cells": [
  {
   "cell_type": "code",
   "execution_count": 1,
   "metadata": {
    "collapsed": true
   },
   "outputs": [],
   "source": [
    "%matplotlib inline\n",
    "import matplotlib.pyplot as plt\n",
    "import numpy as np\n",
    "import pandas as pd\n",
    "import networkx as nx\n",
    "from graph import *"
   ]
  },
  {
   "cell_type": "code",
   "execution_count": 2,
   "metadata": {
    "collapsed": true
   },
   "outputs": [],
   "source": [
    "import logging\n",
    "\n",
    "logger = logging.getLogger(__name__)\n",
    "logger.setLevel(logging.INFO)\n",
    "handler = logging.StreamHandler()\n",
    "handler.setLevel(logging.INFO)\n",
    "handler.setFormatter(logging.Formatter('%(asctime)s - Forest: %(levelname)s - %(message)s', \"%I:%M:%S\"))\n",
    "logger.addHandler(handler)"
   ]
  },
  {
   "cell_type": "code",
   "execution_count": 3,
   "metadata": {
    "collapsed": true
   },
   "outputs": [],
   "source": [
    "interactome_file = \"../PCSF_compare/data/iRefIndex_v13_MIScore_interactome_fixed.costs.txt\"\n",
    "prize_file = \"../PCSF_compare/data/20170323_ALS_CTR_iMNs_protein_log2FC1_FDR0.01.tsv\"\n",
    "expression_file = \"../PCSF_compare/data/iMNs_ALS_CTR_expr_log2FC.tsv\"\n",
    "\n",
    "graph = Graph(interactome_file, {})"
   ]
  },
  {
   "cell_type": "code",
   "execution_count": 4,
   "metadata": {
    "collapsed": true
   },
   "outputs": [],
   "source": [
    "prizes_df = pd.read_csv(prize_file, sep='\\t', names=[\"name\", \"prize\"])\n",
    "expr_df = pd.read_csv(expression_file, sep='\\t')\n",
    "\n",
    "node_attributes_df = prizes_df.merge(expr_df, on=\"name\", how=\"outer\")"
   ]
  },
  {
   "cell_type": "code",
   "execution_count": 5,
   "metadata": {},
   "outputs": [
    {
     "name": "stderr",
     "output_type": "stream",
     "text": [
      "10:42:24 - Forest: INFO - Duplicated gene symbols in node attributes dataframe (we'll keep the max prize):\n"
     ]
    }
   ],
   "source": [
    "graph.prepare_node_attributes(node_attributes_df)"
   ]
  },
  {
   "cell_type": "code",
   "execution_count": 9,
   "metadata": {},
   "outputs": [],
   "source": [
    "terminals = pd.Series(graph.prizes).nonzero()[0].tolist()\n",
    "dummy_edges, dummy_costs, root, dummy_prize = graph._add_dummy_node(connected_to=terminals)\n"
   ]
  },
  {
   "cell_type": "code",
   "execution_count": 11,
   "metadata": {},
   "outputs": [
    {
     "data": {
      "text/plain": [
       "(array([[15405,   565],\n",
       "        [15405,   596],\n",
       "        [15405,   736],\n",
       "        [15405,   743],\n",
       "        [15405,   791],\n",
       "        [15405,   824],\n",
       "        [15405,   833],\n",
       "        [15405,   864],\n",
       "        [15405,  1047],\n",
       "        [15405,  1165],\n",
       "        [15405,  1326],\n",
       "        [15405,  1355],\n",
       "        [15405,  1374],\n",
       "        [15405,  1458],\n",
       "        [15405,  1467],\n",
       "        [15405,  1469],\n",
       "        [15405,  1504],\n",
       "        [15405,  1561],\n",
       "        [15405,  1755],\n",
       "        [15405,  1907],\n",
       "        [15405,  1980],\n",
       "        [15405,  1986],\n",
       "        [15405,  2236],\n",
       "        [15405,  2239],\n",
       "        [15405,  2406],\n",
       "        [15405,  2429],\n",
       "        [15405,  2465],\n",
       "        [15405,  2494],\n",
       "        [15405,  2571],\n",
       "        [15405,  2697],\n",
       "        [15405,  2736],\n",
       "        [15405,  2774],\n",
       "        [15405,  2775],\n",
       "        [15405,  2877],\n",
       "        [15405,  2878],\n",
       "        [15405,  2978],\n",
       "        [15405,  3101],\n",
       "        [15405,  3196],\n",
       "        [15405,  3397],\n",
       "        [15405,  3481],\n",
       "        [15405,  3512],\n",
       "        [15405,  3535],\n",
       "        [15405,  3976],\n",
       "        [15405,  4025],\n",
       "        [15405,  4160],\n",
       "        [15405,  4184],\n",
       "        [15405,  4185],\n",
       "        [15405,  4260],\n",
       "        [15405,  4306],\n",
       "        [15405,  4770],\n",
       "        [15405,  4864],\n",
       "        [15405,  4964],\n",
       "        [15405,  4982],\n",
       "        [15405,  4985],\n",
       "        [15405,  5013],\n",
       "        [15405,  5070],\n",
       "        [15405,  5119],\n",
       "        [15405,  5221],\n",
       "        [15405,  5287],\n",
       "        [15405,  5331],\n",
       "        [15405,  5640],\n",
       "        [15405,  5674],\n",
       "        [15405,  5753],\n",
       "        [15405,  5773],\n",
       "        [15405,  5784],\n",
       "        [15405,  5786],\n",
       "        [15405,  5852],\n",
       "        [15405,  5886],\n",
       "        [15405,  5904],\n",
       "        [15405,  5921],\n",
       "        [15405,  6156],\n",
       "        [15405,  6282],\n",
       "        [15405,  6284],\n",
       "        [15405,  6647],\n",
       "        [15405,  6657],\n",
       "        [15405,  6693],\n",
       "        [15405,  6986],\n",
       "        [15405,  6988],\n",
       "        [15405,  7124],\n",
       "        [15405,  7504],\n",
       "        [15405,  7505],\n",
       "        [15405,  7541],\n",
       "        [15405,  7612],\n",
       "        [15405,  8088],\n",
       "        [15405,  8232],\n",
       "        [15405,  8306],\n",
       "        [15405,  8380],\n",
       "        [15405,  8606],\n",
       "        [15405,  8652],\n",
       "        [15405,  8727],\n",
       "        [15405,  8749],\n",
       "        [15405,  8837],\n",
       "        [15405,  8857],\n",
       "        [15405,  8879],\n",
       "        [15405,  8954],\n",
       "        [15405,  9156],\n",
       "        [15405,  9197],\n",
       "        [15405,  9234],\n",
       "        [15405,  9341],\n",
       "        [15405,  9389],\n",
       "        [15405,  9625],\n",
       "        [15405,  9662],\n",
       "        [15405,  9708],\n",
       "        [15405,  9749],\n",
       "        [15405,  9779],\n",
       "        [15405,  9781],\n",
       "        [15405,  9783],\n",
       "        [15405,  9858],\n",
       "        [15405, 10001],\n",
       "        [15405, 10115],\n",
       "        [15405, 10456],\n",
       "        [15405, 10460],\n",
       "        [15405, 10461],\n",
       "        [15405, 10589],\n",
       "        [15405, 10650],\n",
       "        [15405, 10714],\n",
       "        [15405, 10822],\n",
       "        [15405, 10871],\n",
       "        [15405, 11125],\n",
       "        [15405, 11279],\n",
       "        [15405, 11285],\n",
       "        [15405, 11405],\n",
       "        [15405, 11460],\n",
       "        [15405, 11493],\n",
       "        [15405, 11604],\n",
       "        [15405, 11715],\n",
       "        [15405, 11727],\n",
       "        [15405, 11733],\n",
       "        [15405, 11748],\n",
       "        [15405, 11749],\n",
       "        [15405, 11750],\n",
       "        [15405, 11759],\n",
       "        [15405, 11881],\n",
       "        [15405, 11905],\n",
       "        [15405, 12099],\n",
       "        [15405, 12192],\n",
       "        [15405, 12312],\n",
       "        [15405, 12444],\n",
       "        [15405, 12533],\n",
       "        [15405, 12857],\n",
       "        [15405, 12891],\n",
       "        [15405, 13034],\n",
       "        [15405, 13390],\n",
       "        [15405, 13407],\n",
       "        [15405, 13647],\n",
       "        [15405, 13667],\n",
       "        [15405, 13678],\n",
       "        [15405, 13761],\n",
       "        [15405, 13893],\n",
       "        [15405, 14012],\n",
       "        [15405, 14106],\n",
       "        [15405, 14486],\n",
       "        [15405, 14684],\n",
       "        [15405, 14794],\n",
       "        [15405, 14919]]),\n",
       " array([6, 6, 6, 6, 6, 6, 6, 6, 6, 6, 6, 6, 6, 6, 6, 6, 6, 6, 6, 6, 6, 6, 6,\n",
       "        6, 6, 6, 6, 6, 6, 6, 6, 6, 6, 6, 6, 6, 6, 6, 6, 6, 6, 6, 6, 6, 6, 6,\n",
       "        6, 6, 6, 6, 6, 6, 6, 6, 6, 6, 6, 6, 6, 6, 6, 6, 6, 6, 6, 6, 6, 6, 6,\n",
       "        6, 6, 6, 6, 6, 6, 6, 6, 6, 6, 6, 6, 6, 6, 6, 6, 6, 6, 6, 6, 6, 6, 6,\n",
       "        6, 6, 6, 6, 6, 6, 6, 6, 6, 6, 6, 6, 6, 6, 6, 6, 6, 6, 6, 6, 6, 6, 6,\n",
       "        6, 6, 6, 6, 6, 6, 6, 6, 6, 6, 6, 6, 6, 6, 6, 6, 6, 6, 6, 6, 6, 6, 6,\n",
       "        6, 6, 6, 6, 6, 6, 6, 6, 6, 6, 6, 6, 6, 6, 6, 6, 6]),\n",
       " 15405,\n",
       " array([0]))"
      ]
     },
     "execution_count": 11,
     "metadata": {},
     "output_type": "execute_result"
    }
   ],
   "source": [
    "dummy_edges, dummy_costs, root, dummy_prize"
   ]
  },
  {
   "cell_type": "code",
   "execution_count": 6,
   "metadata": {},
   "outputs": [
    {
     "ename": "UnboundLocalError",
     "evalue": "local variable 'prizes' referenced before assignment",
     "output_type": "error",
     "traceback": [
      "\u001b[0;31m---------------------------------------------------------------------------\u001b[0m",
      "\u001b[0;31mUnboundLocalError\u001b[0m                         Traceback (most recent call last)",
      "\u001b[0;32m<ipython-input-6-5541638f3e70>\u001b[0m in \u001b[0;36m<module>\u001b[0;34m()\u001b[0m\n\u001b[0;32m----> 1\u001b[0;31m \u001b[0mvertex_indices\u001b[0m\u001b[0;34m,\u001b[0m \u001b[0medge_indices\u001b[0m \u001b[0;34m=\u001b[0m \u001b[0mgraph\u001b[0m\u001b[0;34m.\u001b[0m\u001b[0mpcsf\u001b[0m\u001b[0;34m(\u001b[0m\u001b[0;34m)\u001b[0m\u001b[0;34m\u001b[0m\u001b[0m\n\u001b[0m",
      "\u001b[0;32m~/Documents/research/packages/OmicsIntegrator2/src/graph.py\u001b[0m in \u001b[0;36mpcsf\u001b[0;34m(self, pruning, verbosity_level)\u001b[0m\n\u001b[1;32m    246\u001b[0m                 \u001b[0medges\u001b[0m \u001b[0;34m=\u001b[0m \u001b[0mnp\u001b[0m\u001b[0;34m.\u001b[0m\u001b[0mconcatenate\u001b[0m\u001b[0;34m(\u001b[0m\u001b[0;34m(\u001b[0m\u001b[0mself\u001b[0m\u001b[0;34m.\u001b[0m\u001b[0medges\u001b[0m\u001b[0;34m,\u001b[0m \u001b[0mdummy_edges\u001b[0m\u001b[0;34m)\u001b[0m\u001b[0;34m)\u001b[0m\u001b[0;34m\u001b[0m\u001b[0m\n\u001b[1;32m    247\u001b[0m                 \u001b[0;31m# `prizes`: the node prizes as a 1D float64 array.\u001b[0m\u001b[0;34m\u001b[0m\u001b[0;34m\u001b[0m\u001b[0m\n\u001b[0;32m--> 248\u001b[0;31m                 \u001b[0mprizes\u001b[0m \u001b[0;34m=\u001b[0m \u001b[0mnp\u001b[0m\u001b[0;34m.\u001b[0m\u001b[0mconcatenate\u001b[0m\u001b[0;34m(\u001b[0m\u001b[0;34m(\u001b[0m\u001b[0mprizes\u001b[0m\u001b[0;34m,\u001b[0m \u001b[0mdummy_prize\u001b[0m\u001b[0;34m)\u001b[0m\u001b[0;34m)\u001b[0m\u001b[0;34m\u001b[0m\u001b[0m\n\u001b[0m\u001b[1;32m    249\u001b[0m                 \u001b[0;31m# `costs`: the edge costs as a 1D float64 array.\u001b[0m\u001b[0;34m\u001b[0m\u001b[0;34m\u001b[0m\u001b[0m\n\u001b[1;32m    250\u001b[0m                 \u001b[0mcosts\u001b[0m \u001b[0;34m=\u001b[0m \u001b[0mnp\u001b[0m\u001b[0;34m.\u001b[0m\u001b[0mconcatenate\u001b[0m\u001b[0;34m(\u001b[0m\u001b[0;34m(\u001b[0m\u001b[0mself\u001b[0m\u001b[0;34m.\u001b[0m\u001b[0mcosts\u001b[0m\u001b[0;34m,\u001b[0m \u001b[0mdummy_costs\u001b[0m\u001b[0;34m)\u001b[0m\u001b[0;34m)\u001b[0m\u001b[0;34m\u001b[0m\u001b[0m\n",
      "\u001b[0;31mUnboundLocalError\u001b[0m: local variable 'prizes' referenced before assignment"
     ]
    }
   ],
   "source": [
    "vertex_indices, edge_indices = graph.pcsf()"
   ]
  },
  {
   "cell_type": "code",
   "execution_count": null,
   "metadata": {
    "collapsed": true
   },
   "outputs": [],
   "source": [
    "graph.output_forest_as_networkx(vertex_indices, edge_indices)"
   ]
  },
  {
   "cell_type": "code",
   "execution_count": null,
   "metadata": {
    "collapsed": true
   },
   "outputs": [],
   "source": [
    "graph.grid_search(node_attributes_df, [1,2], [3,4], [1,2])"
   ]
  },
  {
   "cell_type": "code",
   "execution_count": null,
   "metadata": {
    "collapsed": true
   },
   "outputs": [],
   "source": []
  }
 ],
 "metadata": {
  "kernelspec": {
   "display_name": "Python 3",
   "language": "python",
   "name": "python3"
  },
  "language_info": {
   "codemirror_mode": {
    "name": "ipython",
    "version": 3
   },
   "file_extension": ".py",
   "mimetype": "text/x-python",
   "name": "python",
   "nbconvert_exporter": "python",
   "pygments_lexer": "ipython3",
   "version": "3.6.1"
  }
 },
 "nbformat": 4,
 "nbformat_minor": 2
}
