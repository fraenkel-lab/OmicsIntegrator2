{
 "cells": [
  {
   "cell_type": "code",
   "execution_count": null,
   "metadata": {
    "collapsed": true
   },
   "outputs": [],
   "source": [
    "%matplotlib inline\n",
    "import matplotlib.pyplot as plt\n",
    "import numpy as np\n",
    "import pandas as pd\n",
    "import networkx as nx\n",
    "from graph import *"
   ]
  },
  {
   "cell_type": "code",
   "execution_count": null,
   "metadata": {
    "collapsed": true
   },
   "outputs": [],
   "source": [
    "import logging\n",
    "\n",
    "logger = logging.getLogger(__name__)\n",
    "logger.setLevel(logging.INFO)\n",
    "handler = logging.StreamHandler()\n",
    "handler.setLevel(logging.INFO)\n",
    "handler.setFormatter(logging.Formatter('%(asctime)s - Forest: %(levelname)s - %(message)s', \"%I:%M:%S\"))\n",
    "logger.addHandler(handler)"
   ]
  },
  {
   "cell_type": "code",
   "execution_count": null,
   "metadata": {
    "collapsed": true
   },
   "outputs": [],
   "source": [
    "interactome_file = \"../PCSF_compare/data/iRefIndex_v13_MIScore_interactome_fixed.costs.txt\"\n",
    "prize_file = \"../PCSF_compare/data/20170323_ALS_CTR_iMNs_protein_log2FC1_FDR0.01.tsv\"\n",
    "expression_file = \"../PCSF_compare/data/iMNs_ALS_CTR_expr_log2FC.tsv\"\n",
    "\n",
    "graph = Graph(interactome_file, {})"
   ]
  },
  {
   "cell_type": "code",
   "execution_count": null,
   "metadata": {},
   "outputs": [],
   "source": [
    "prizes_df = pd.read_csv(prize_file, sep='\\t', names=[\"name\", \"prize\"])\n",
    "expr_df = pd.read_csv(expression_file, sep='\\t')\n",
    "\n",
    "node_attributes_df = prizes_df.merge(expr_df, on=\"name\", how=\"outer\")"
   ]
  },
  {
   "cell_type": "code",
   "execution_count": 5,
   "metadata": {},
   "outputs": [],
   "source": [
    "graph.prepare_node_attributes(node_attributes_df)"
   ]
  },
  {
   "cell_type": "code",
   "execution_count": 6,
   "metadata": {},
   "outputs": [],
   "source": [
    "vertex_indices, edge_indices = graph.pcsf(graph.node_attributes[\"prize_scaled\"])"
   ]
  },
  {
   "cell_type": "code",
   "execution_count": 7,
   "metadata": {},
   "outputs": [
    {
     "data": {
      "text/plain": [
       "(<networkx.classes.graph.Graph at 0x111f85208>,\n",
       " <networkx.classes.graph.Graph at 0x111f6bf60>)"
      ]
     },
     "execution_count": 7,
     "metadata": {},
     "output_type": "execute_result"
    }
   ],
   "source": [
    "graph.output_forest_as_networkx(vertex_indices, edge_indices)"
   ]
  },
  {
   "cell_type": "code",
   "execution_count": 9,
   "metadata": {},
   "outputs": [
    {
     "name": "stderr",
     "output_type": "stream",
     "text": [
      "02:21:49 - Forest: INFO - Duplicated gene symbols in node attributes dataframe (we'll keep the max prize):\n"
     ]
    },
    {
     "data": {
      "text/plain": [
       "(<networkx.classes.graph.Graph at 0x116d43c88>,\n",
       " <networkx.classes.graph.Graph at 0x116d43940>,\n",
       "           A_1_B_3_W_1  A_1_B_3_W_2  A_1_B_4_W_1  A_1_B_4_W_2  A_2_B_3_W_1  \\\n",
       " ABCB7            11.0         11.0         11.0         11.0         11.0   \n",
       " ACTN1           111.0        111.0        111.0        111.0        111.0   \n",
       " ACTN2            88.0         88.0         88.0         88.0         88.0   \n",
       " AKAP8            25.0         25.0         25.0         25.0         25.0   \n",
       " ALG12             3.0          3.0          3.0          3.0          3.0   \n",
       " ANXA2            85.0         85.0         85.0         85.0         85.0   \n",
       " APOA1            77.0         77.0         77.0         77.0         77.0   \n",
       " AS3MT             1.0          1.0          1.0          1.0          1.0   \n",
       " ASH2L            63.0         63.0         63.0         63.0         63.0   \n",
       " ATM             127.0        127.0        127.0        127.0        127.0   \n",
       " ATP7A             8.0          8.0          8.0          8.0          8.0   \n",
       " BARD1           246.0        246.0        246.0        246.0        246.0   \n",
       " BDH2              2.0          2.0          2.0          2.0          2.0   \n",
       " BMP1             17.0         17.0         17.0         17.0         17.0   \n",
       " BMP2             24.0         24.0         24.0         24.0         24.0   \n",
       " BMPR1A           35.0         35.0         35.0         35.0         35.0   \n",
       " BRCA1           406.0        406.0        406.0        406.0        406.0   \n",
       " BRCC3            44.0         44.0         44.0         44.0         44.0   \n",
       " C1QBP           171.0        171.0        171.0        171.0        171.0   \n",
       " CALD1            19.0         19.0         19.0         19.0         19.0   \n",
       " CALM3           388.0        388.0        388.0        388.0        388.0   \n",
       " CAV1            161.0        161.0        161.0        161.0        161.0   \n",
       " CBL             233.0        233.0        233.0        233.0        233.0   \n",
       " CBX1             64.0         64.0         64.0         64.0         64.0   \n",
       " CBX3             80.0         80.0         80.0         80.0         80.0   \n",
       " CBX5            145.0        145.0        145.0        145.0        145.0   \n",
       " CD63             21.0         21.0         21.0         21.0         21.0   \n",
       " CD99             11.0         11.0         11.0         11.0         11.0   \n",
       " CDC20            91.0         91.0         91.0         91.0         91.0   \n",
       " CDC26            14.0         14.0         14.0         14.0         14.0   \n",
       " ...               ...          ...          ...          ...          ...   \n",
       " STMN1            32.0         32.0         32.0         32.0         32.0   \n",
       " STUB1           194.0        194.0        194.0        194.0        194.0   \n",
       " SUMO1           750.0        750.0        750.0        750.0        750.0   \n",
       " SUMO2          1239.0       1239.0       1239.0       1239.0       1239.0   \n",
       " TANC2            15.0         15.0         15.0         15.0         15.0   \n",
       " TDP2              NaN          NaN          NaN          NaN         39.0   \n",
       " TGFB1            52.0         52.0         52.0         52.0         52.0   \n",
       " TGM2             94.0         94.0         94.0         94.0         94.0   \n",
       " THY1             26.0         26.0         26.0         26.0         26.0   \n",
       " TMED3             4.0          4.0          4.0          4.0          4.0   \n",
       " TMTC2             1.0          1.0          1.0          1.0          1.0   \n",
       " TNPO2            13.0         13.0         13.0         13.0         13.0   \n",
       " TP53            617.0        617.0        617.0        617.0        617.0   \n",
       " TPM1             68.0         68.0         68.0         68.0         68.0   \n",
       " TPM2             38.0         38.0         38.0         38.0         38.0   \n",
       " TRAPPC2L         18.0         18.0         18.0         18.0         18.0   \n",
       " TRAPPC3          35.0         35.0         35.0         35.0         35.0   \n",
       " TRIM2            27.0         27.0         27.0         27.0         27.0   \n",
       " UBC            9289.0       9289.0       9289.0       9289.0       9289.0   \n",
       " UBE2D1          231.0        231.0        231.0        231.0        231.0   \n",
       " UBE2D2          201.0        201.0        201.0        201.0        201.0   \n",
       " UBQLN4          179.0        179.0        179.0        179.0        179.0   \n",
       " USP9X           101.0        101.0        101.0        101.0          NaN   \n",
       " VPRBP            46.0         46.0         46.0         46.0         46.0   \n",
       " WDR5            118.0        118.0        118.0        118.0        118.0   \n",
       " XIAP            113.0        113.0        113.0        113.0        113.0   \n",
       " XRCC5           168.0        168.0        168.0        168.0        168.0   \n",
       " XRCC6           235.0        235.0        235.0        235.0        235.0   \n",
       " YBX1            153.0        153.0        153.0        153.0          NaN   \n",
       " YWHAQ           413.0        413.0        413.0        413.0        413.0   \n",
       " \n",
       "           A_2_B_3_W_2  A_2_B_4_W_1  A_2_B_4_W_2  \n",
       " ABCB7            11.0         11.0         11.0  \n",
       " ACTN1           111.0        111.0        111.0  \n",
       " ACTN2            88.0         88.0         88.0  \n",
       " AKAP8            25.0         25.0         25.0  \n",
       " ALG12             3.0          3.0          3.0  \n",
       " ANXA2            85.0         85.0         85.0  \n",
       " APOA1            77.0         77.0         77.0  \n",
       " AS3MT             1.0          1.0          1.0  \n",
       " ASH2L            63.0         63.0         63.0  \n",
       " ATM             127.0        127.0        127.0  \n",
       " ATP7A             8.0          8.0          8.0  \n",
       " BARD1           246.0        246.0        246.0  \n",
       " BDH2              2.0          2.0          2.0  \n",
       " BMP1             17.0         17.0         17.0  \n",
       " BMP2             24.0         24.0         24.0  \n",
       " BMPR1A           35.0         35.0         35.0  \n",
       " BRCA1           406.0        406.0        406.0  \n",
       " BRCC3            44.0         44.0         44.0  \n",
       " C1QBP           171.0        171.0        171.0  \n",
       " CALD1            19.0         19.0         19.0  \n",
       " CALM3           388.0        388.0        388.0  \n",
       " CAV1            161.0        161.0        161.0  \n",
       " CBL             233.0        233.0        233.0  \n",
       " CBX1             64.0         64.0         64.0  \n",
       " CBX3             80.0         80.0         80.0  \n",
       " CBX5            145.0        145.0        145.0  \n",
       " CD63             21.0         21.0         21.0  \n",
       " CD99             11.0         11.0         11.0  \n",
       " CDC20            91.0         91.0         91.0  \n",
       " CDC26            14.0         14.0         14.0  \n",
       " ...               ...          ...          ...  \n",
       " STMN1            32.0         32.0         32.0  \n",
       " STUB1           194.0        194.0        194.0  \n",
       " SUMO1           750.0        750.0        750.0  \n",
       " SUMO2          1239.0       1239.0       1239.0  \n",
       " TANC2            15.0         15.0         15.0  \n",
       " TDP2             39.0         39.0         39.0  \n",
       " TGFB1            52.0         52.0         52.0  \n",
       " TGM2             94.0         94.0         94.0  \n",
       " THY1             26.0         26.0         26.0  \n",
       " TMED3             4.0          4.0          4.0  \n",
       " TMTC2             1.0          1.0          1.0  \n",
       " TNPO2            13.0         13.0         13.0  \n",
       " TP53            617.0        617.0        617.0  \n",
       " TPM1             68.0         68.0         68.0  \n",
       " TPM2             38.0         38.0         38.0  \n",
       " TRAPPC2L         18.0         18.0         18.0  \n",
       " TRAPPC3          35.0         35.0         35.0  \n",
       " TRIM2            27.0         27.0         27.0  \n",
       " UBC            9289.0       9289.0       9289.0  \n",
       " UBE2D1          231.0        231.0        231.0  \n",
       " UBE2D2          201.0        201.0        201.0  \n",
       " UBQLN4          179.0        179.0        179.0  \n",
       " USP9X             NaN          NaN          NaN  \n",
       " VPRBP            46.0         46.0         46.0  \n",
       " WDR5            118.0        118.0        118.0  \n",
       " XIAP            113.0        113.0        113.0  \n",
       " XRCC5           168.0        168.0        168.0  \n",
       " XRCC6           235.0        235.0        235.0  \n",
       " YBX1              NaN          NaN          NaN  \n",
       " YWHAQ           413.0        413.0        413.0  \n",
       " \n",
       " [222 rows x 8 columns])"
      ]
     },
     "execution_count": 9,
     "metadata": {},
     "output_type": "execute_result"
    }
   ],
   "source": [
    "graph.grid_search(node_attributes_df, [1,2], [3,4], [1,2])"
   ]
  },
  {
   "cell_type": "code",
   "execution_count": null,
   "metadata": {
    "collapsed": true
   },
   "outputs": [],
   "source": []
  }
 ],
 "metadata": {
  "kernelspec": {
   "display_name": "Python 3",
   "language": "python",
   "name": "python3"
  },
  "language_info": {
   "codemirror_mode": {
    "name": "ipython",
    "version": 3
   },
   "file_extension": ".py",
   "mimetype": "text/x-python",
   "name": "python",
   "nbconvert_exporter": "python",
   "pygments_lexer": "ipython3",
   "version": "3.6.1"
  }
 },
 "nbformat": 4,
 "nbformat_minor": 2
}
