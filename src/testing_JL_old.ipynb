{
 "cells": [
  {
   "cell_type": "code",
   "execution_count": 2,
   "metadata": {
    "collapsed": true
   },
   "outputs": [],
   "source": [
    "%matplotlib inline\n",
    "import matplotlib.pyplot as plt\n",
    "import numpy as np\n",
    "import pandas as pd\n",
    "import networkx as nx\n",
    "from graph import *"
   ]
  },
  {
   "cell_type": "code",
   "execution_count": 3,
   "metadata": {
    "collapsed": true
   },
   "outputs": [],
   "source": [
    "import logging\n",
    "\n",
    "logger = logging.getLogger(__name__)\n",
    "logger.setLevel(logging.INFO)\n",
    "handler = logging.StreamHandler()\n",
    "handler.setLevel(logging.INFO)\n",
    "handler.setFormatter(logging.Formatter('%(asctime)s - Forest: %(levelname)s - %(message)s', \"%I:%M:%S\"))\n",
    "logger.addHandler(handler)"
   ]
  },
  {
   "cell_type": "code",
   "execution_count": 4,
   "metadata": {
    "collapsed": true
   },
   "outputs": [],
   "source": [
    "interactome_file = \"../PCSF_compare/data/iRefIndex_v13_MIScore_interactome_fixed.costs.txt\"\n",
    "prize_file = \"../PCSF_compare/data/20170323_ALS_CTR_iMNs_protein_log2FC1_FDR0.01.tsv\"\n",
    "expression_file = \"../PCSF_compare/data/iMNs_ALS_CTR_expr_log2FC.tsv\"\n",
    "\n",
    "graph = Graph(interactome_file, {})"
   ]
  },
  {
   "cell_type": "code",
   "execution_count": 5,
   "metadata": {},
   "outputs": [
    {
     "name": "stderr",
     "output_type": "stream",
     "text": [
      "01:45:00 - Forest: INFO - Duplicated gene symbols in the prize file (we'll keep the max prize):\n",
      "01:45:00 - Forest: INFO - []\n",
      "01:45:00 - Forest: INFO - Members of the prize file not present in the interactome:\n",
      "01:45:00 - Forest: INFO - ['1433B', '1433E', '1433G', '1433T', '1433Z', '4F2', '6PGL', 'AAAT', 'ABRAL', 'ACATN', 'ACBP', 'ACSA', 'ACTA', 'ACTH', 'ADT3', 'AL1B1', 'AL1L2', 'AL9A1', 'ALBU', 'AN32A', 'ANKY2', 'AOFB', 'ARI2', 'AT2B4', 'BGH3', 'BORG4', 'CADH8', 'CAH14', 'CAH2', 'CALM', 'CAN5', 'CANB1', 'CATA', 'CCD25', 'CCD80', 'CLUS', 'CO1A1', 'CO1A2', 'CO8A1', 'COCA1', 'COEA1', 'COF1', 'COL12', 'COQA1', 'CSPG2', 'CU059', 'CYBP', 'DESM', 'DHE3', 'DHTK1', 'DNLI1', 'DPOD1', 'DPYL2', 'DPYL3', 'DX39B', 'DYL1', 'DYN2', 'EAA1', 'EMIL1', 'ENOPH', 'EPYC', 'EZRI', 'FA49B', 'FA98B', 'FAH2A', 'FBH1', 'FINC', 'FN3K', 'G6PC3', 'GABT', 'GBG12', 'GBG2', 'GBG4', 'GDIA', 'GLSK', 'GNAO', 'GPC6', 'GXLT2', 'H15', 'H2A2B', 'H31', 'H32', 'HNRPR', 'HNRPU', 'HPCL1', 'HSP72', 'HXA5', 'IBP7', 'ITA11', 'ITA5', 'JIP4', 'K1C18', 'K2C8', 'KCRB', 'KTAP2', 'L2GL1', 'LAT1', 'LEG1', 'LFTY2', 'LG3BP', 'LTOR3', 'MANBL', 'MARE1', 'MFGM', 'MK', 'MSI1H', 'MTAP2', 'MTDC', 'NBPF7', 'NDNF', 'NEST', 'NUCL', 'P5CR1', 'P5I11', 'PAI1', 'PAXX', 'PCKGM', 'PCP', 'PDLI7', 'PERI', 'PFD4', 'PGBM', 'PGFRB', 'PHIPL', 'PHS', 'PLXB1', 'PNCB', 'PP1G', 'PP1RB', 'PP2AA', 'PSB2', 'PTPRZ', 'PUR6', 'QCR6', 'RABP1', 'RADI', 'RD23B', 'RGPS2', 'RHG12', 'RISC', 'RL26', 'RNBP6', 'RO60', 'ROA1', 'ROA2', 'RPB9', 'RS23', 'RS28', 'RU1C', 'RUXF', 'S10AA', 'S10AB', 'S61A1', 'SATT', 'SC23B', 'SCAM1', 'SEP11', 'SEPR', 'SERPH', 'SH3B4', 'SH3L1', 'SORCN', 'SORT', 'SRP09', 'TAGL', 'TALDO', 'TATD1', 'TBA4A', 'TBB2A', 'TBB2B', 'TBB4B', 'TCP4', 'TEBP', 'TEN4', 'TENA', 'TIM13', 'TKFC', 'TM165', 'TM263', 'TMM33', 'TOM20', 'TPPC1', 'TSP1', 'TXND9', 'TYB10', 'TYB4', 'VEZA']\n"
     ]
    }
   ],
   "source": [
    "prizes, terminals, terminal_attributes = graph.prepare_prizes(prize_file)"
   ]
  },
  {
   "cell_type": "code",
   "execution_count": 9,
   "metadata": {},
   "outputs": [
    {
     "data": {
      "text/plain": [
       "array([ 0.,  0.,  0., ...,  0.,  0.,  0.])"
      ]
     },
     "execution_count": 9,
     "metadata": {},
     "output_type": "execute_result"
    }
   ],
   "source": [
    "prizes"
   ]
  },
  {
   "cell_type": "code",
   "execution_count": 26,
   "metadata": {},
   "outputs": [
    {
     "data": {
      "text/plain": [
       "(154,\n",
       " 15251,\n",
       " 15405,\n",
       " [565,\n",
       "  596,\n",
       "  743,\n",
       "  791,\n",
       "  824,\n",
       "  833,\n",
       "  864,\n",
       "  1047,\n",
       "  1165,\n",
       "  1326,\n",
       "  1355,\n",
       "  1374,\n",
       "  1458,\n",
       "  1467,\n",
       "  1469,\n",
       "  1504,\n",
       "  1561,\n",
       "  1755,\n",
       "  1907,\n",
       "  1980,\n",
       "  1986,\n",
       "  2236,\n",
       "  2239,\n",
       "  2406,\n",
       "  2429,\n",
       "  2465,\n",
       "  2494,\n",
       "  2571,\n",
       "  2697,\n",
       "  2736,\n",
       "  2774,\n",
       "  2775,\n",
       "  2877,\n",
       "  2878,\n",
       "  2978,\n",
       "  3101,\n",
       "  3196,\n",
       "  3397,\n",
       "  3481,\n",
       "  3512,\n",
       "  3535,\n",
       "  3976,\n",
       "  4025,\n",
       "  4160,\n",
       "  4184,\n",
       "  4185,\n",
       "  4260,\n",
       "  4306,\n",
       "  4770,\n",
       "  4864,\n",
       "  4964,\n",
       "  4982,\n",
       "  4985,\n",
       "  5013,\n",
       "  5070,\n",
       "  5119,\n",
       "  5221,\n",
       "  5287,\n",
       "  5331,\n",
       "  5640,\n",
       "  5674,\n",
       "  5753,\n",
       "  5773,\n",
       "  5784,\n",
       "  5786,\n",
       "  5852,\n",
       "  5886,\n",
       "  5904,\n",
       "  5921,\n",
       "  6156,\n",
       "  6282,\n",
       "  6284,\n",
       "  6647,\n",
       "  6657,\n",
       "  6693,\n",
       "  6986,\n",
       "  6988,\n",
       "  7124,\n",
       "  7504,\n",
       "  7505,\n",
       "  7541,\n",
       "  7612,\n",
       "  8088,\n",
       "  8232,\n",
       "  8306,\n",
       "  8380,\n",
       "  8606,\n",
       "  8652,\n",
       "  8727,\n",
       "  8749,\n",
       "  8837,\n",
       "  8857,\n",
       "  8879,\n",
       "  8954,\n",
       "  9156,\n",
       "  9197,\n",
       "  9234,\n",
       "  9341,\n",
       "  9389,\n",
       "  9625,\n",
       "  9662,\n",
       "  9708,\n",
       "  9749,\n",
       "  9779,\n",
       "  9781,\n",
       "  9783,\n",
       "  9858,\n",
       "  10001,\n",
       "  10115,\n",
       "  10456,\n",
       "  10460,\n",
       "  10461,\n",
       "  10589,\n",
       "  10650,\n",
       "  10714,\n",
       "  10822,\n",
       "  10871,\n",
       "  11125,\n",
       "  11279,\n",
       "  11285,\n",
       "  11405,\n",
       "  11460,\n",
       "  11493,\n",
       "  11604,\n",
       "  11715,\n",
       "  11727,\n",
       "  11733,\n",
       "  11748,\n",
       "  11749,\n",
       "  11750,\n",
       "  11759,\n",
       "  11881,\n",
       "  11905,\n",
       "  12099,\n",
       "  12192,\n",
       "  12312,\n",
       "  12444,\n",
       "  12533,\n",
       "  12857,\n",
       "  12891,\n",
       "  13034,\n",
       "  13390,\n",
       "  13407,\n",
       "  13647,\n",
       "  13667,\n",
       "  13678,\n",
       "  13761,\n",
       "  13893,\n",
       "  14012,\n",
       "  14106,\n",
       "  14486,\n",
       "  14684,\n",
       "  14794,\n",
       "  14919])"
      ]
     },
     "execution_count": 26,
     "metadata": {},
     "output_type": "execute_result"
    }
   ],
   "source": [
    "terminals = pd.Series(prizes).nonzero()[0].tolist()\n",
    "others = list(set(range(len(graph.nodes))) - set(terminals))\n",
    "all = list(range(len(graph.nodes)))\n",
    "\n",
    "if graph.params.dummy_mode == 'terminals': endpoints = terminals\n",
    "elif graph.params.dummy_mode == 'other': endpoints = others\n",
    "elif graph.params.dummy_mode == 'all': endpoints = all\n",
    "else: sys.exit(\"Invalid dummy mode\")\n",
    "\n",
    "dummy_edges, dummy_costs, root, dummy_prize = graph._add_dummy_node(connected_to=endpoints)\n",
    "\n",
    "    \n",
    "len(terminals), len(others), len(all), endpoints\n",
    "# terminals"
   ]
  },
  {
   "cell_type": "code",
   "execution_count": 27,
   "metadata": {},
   "outputs": [],
   "source": [
    "graph._check_validity_of_instance()\n",
    "edges = np.concatenate((graph.edges, dummy_edges))\n",
    "prizes = np.concatenate((prizes, dummy_prize))\n",
    "costs = np.concatenate((graph.costs, dummy_costs))"
   ]
  },
  {
   "cell_type": "code",
   "execution_count": 28,
   "metadata": {},
   "outputs": [
    {
     "data": {
      "text/plain": [
       "15406"
      ]
     },
     "execution_count": 28,
     "metadata": {},
     "output_type": "execute_result"
    }
   ],
   "source": [
    "len(prizes)"
   ]
  },
  {
   "cell_type": "code",
   "execution_count": 29,
   "metadata": {},
   "outputs": [
    {
     "data": {
      "text/plain": [
       "15405"
      ]
     },
     "execution_count": 29,
     "metadata": {},
     "output_type": "execute_result"
    }
   ],
   "source": [
    "len(all)"
   ]
  },
  {
   "cell_type": "code",
   "execution_count": null,
   "metadata": {
    "collapsed": true
   },
   "outputs": [],
   "source": []
  }
 ],
 "metadata": {
  "kernelspec": {
   "display_name": "Python 3",
   "language": "python",
   "name": "python3"
  },
  "language_info": {
   "codemirror_mode": {
    "name": "ipython",
    "version": 3
   },
   "file_extension": ".py",
   "mimetype": "text/x-python",
   "name": "python",
   "nbconvert_exporter": "python",
   "pygments_lexer": "ipython3",
   "version": "3.6.1"
  }
 },
 "nbformat": 4,
 "nbformat_minor": 2
}
