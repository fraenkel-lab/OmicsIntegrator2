{
 "cells": [
  {
   "cell_type": "code",
   "execution_count": 1,
   "metadata": {
    "collapsed": false,
    "deletable": true,
    "editable": true,
    "scrolled": true
   },
   "outputs": [
    {
     "name": "stderr",
     "output_type": "stream",
     "text": [
      "06:14:16 - Forest: INFO - Duplicated gene symbols in the prize file (we'll keep the max prize):\n",
      "06:14:16 - Forest: INFO - ['CTGF', 'EZR', 'HSPA5']\n",
      "06:14:16 - Forest: INFO - Members of the prize file not present in the interactome:\n",
      "06:14:16 - Forest: INFO - ['KIAA1543', 'PKM2', 'PLEC1', 'SFRS1']\n"
     ]
    }
   ],
   "source": [
    "%matplotlib inline\n",
    "import matplotlib.pyplot as plt\n",
    "import numpy as np\n",
    "import pandas as pd\n",
    "import networkx as nx\n",
    "from graph import *\n",
    "\n",
    "interactome_file = \"/Users/alex/Documents/OmicsIntegrator2/data/inbiomap_exp.normalized.cleaned.tsv\"\n",
    "prize_file = \"/Users/alex/Documents/OmicsIntegrator2/data/prizes.tsv\"\n",
    "graph = Graph(interactome_file, {})\n",
    "\n",
    "prizes, terminals, terminal_attributes = graph.prepare_prizes(prize_file)\n"
   ]
  },
  {
   "cell_type": "code",
   "execution_count": 3,
   "metadata": {
    "collapsed": false,
    "deletable": true,
    "editable": true
   },
   "outputs": [
    {
     "data": {
      "text/plain": [
       "[446,\n",
       " 1209,\n",
       " 1364,\n",
       " 1445,\n",
       " 1645,\n",
       " 2003,\n",
       " 2022,\n",
       " 2149,\n",
       " 2252,\n",
       " 2332,\n",
       " 2333,\n",
       " 2367,\n",
       " 2394,\n",
       " 2485,\n",
       " 2486,\n",
       " 2496,\n",
       " 2503,\n",
       " 2632,\n",
       " 2731,\n",
       " 2832,\n",
       " 2836,\n",
       " 2972,\n",
       " 3185,\n",
       " 3293,\n",
       " 3464,\n",
       " 3607,\n",
       " 3633,\n",
       " 3764,\n",
       " 3856,\n",
       " 4001,\n",
       " 4351,\n",
       " 4416,\n",
       " 4865,\n",
       " 5056,\n",
       " 5078,\n",
       " 5091,\n",
       " 5544,\n",
       " 6177,\n",
       " 6464,\n",
       " 6467,\n",
       " 6583,\n",
       " 9559,\n",
       " 9766,\n",
       " 10515,\n",
       " 10789,\n",
       " 11823,\n",
       " 12463,\n",
       " 12499,\n",
       " 12505,\n",
       " 12745,\n",
       " 12748]"
      ]
     },
     "execution_count": 3,
     "metadata": {},
     "output_type": "execute_result"
    }
   ],
   "source": [
    "terminals"
   ]
  },
  {
   "cell_type": "code",
   "execution_count": 5,
   "metadata": {
    "collapsed": false,
    "deletable": true,
    "editable": true
   },
   "outputs": [],
   "source": [
    "vertices, edges = graph.pcsf(prizes)"
   ]
  },
  {
   "cell_type": "code",
   "execution_count": 7,
   "metadata": {
    "collapsed": false,
    "deletable": true,
    "editable": true,
    "scrolled": true
   },
   "outputs": [
    {
     "data": {
      "text/plain": [
       "array([  446,   631,  1209,  1364,  1445,  1645,  1757,  2003,  2022,\n",
       "        2149,  2252,  2332,  2333,  2367,  2394,  2485,  2486,  2496,\n",
       "        2503,  2632,  2731,  2832,  2836,  2972,  3185,  3293,  3464,\n",
       "        3607,  3633,  3764,  3856,  3900,  4001,  4351,  4416,  4865,\n",
       "        5056,  5078,  5091,  5544,  6073,  6177,  6403,  6464,  6467,\n",
       "        6540,  6583,  7522,  9559,  9766,  9838, 10515, 10789, 11823,\n",
       "       12463, 12499, 12505, 12745, 12748, 16371], dtype=int32)"
      ]
     },
     "execution_count": 7,
     "metadata": {},
     "output_type": "execute_result"
    }
   ],
   "source": [
    "vertices"
   ]
  },
  {
   "cell_type": "code",
   "execution_count": 8,
   "metadata": {
    "collapsed": false,
    "deletable": true,
    "editable": true
   },
   "outputs": [
    {
     "data": {
      "text/plain": [
       "array([153525,  88575,  39679,  88343, 106201, 161032,  68630,  88375,\n",
       "        68613,  54383, 106118, 124592,  58937,  88336,  73701,  49950,\n",
       "       160971,  68618,  91831,  69821,  35217,  39677, 112060,  58766,\n",
       "        74060,  54404,  54433,  58775,  91660,  67230,  67154, 162539,\n",
       "        28661,  74267,  73737, 124616, 153522,  50458, 176415,  67240,\n",
       "        49852,  49028,  42275,  73714,  12046,  42226,  12036,  88428,\n",
       "       208334,  74390,  67261,   7002, 162113, 194976,  73723,  32274,\n",
       "        54421, 126268, 240545], dtype=int32)"
      ]
     },
     "execution_count": 8,
     "metadata": {},
     "output_type": "execute_result"
    }
   ],
   "source": [
    "edges"
   ]
  },
  {
   "cell_type": "code",
   "execution_count": 9,
   "metadata": {
    "collapsed": false,
    "deletable": true,
    "editable": true
   },
   "outputs": [
    {
     "data": {
      "text/plain": [
       "<networkx.classes.graph.Graph at 0x10d38c2e8>"
      ]
     },
     "execution_count": 9,
     "metadata": {},
     "output_type": "execute_result"
    }
   ],
   "source": [
    "forest, augmented_forest = graph.output_forest_as_networkx(vertices, edges, terminal_attributes)\n",
    "forest"
   ]
  },
  {
   "cell_type": "code",
   "execution_count": 6,
   "metadata": {
    "collapsed": false,
    "deletable": true,
    "editable": true
   },
   "outputs": [
    {
     "name": "stderr",
     "output_type": "stream",
     "text": [
      "/Users/alex/Documents/OmicsIntegrator2/venv/lib/python3.6/site-packages/networkx/drawing/nx_pylab.py:126: MatplotlibDeprecationWarning: pyplot.hold is deprecated.\n",
      "    Future behavior will be consistent with the long-time default:\n",
      "    plot commands add elements without first clearing the\n",
      "    Axes and/or Figure.\n",
      "  b = plt.ishold()\n",
      "/Users/alex/Documents/OmicsIntegrator2/venv/lib/python3.6/site-packages/networkx/drawing/nx_pylab.py:138: MatplotlibDeprecationWarning: pyplot.hold is deprecated.\n",
      "    Future behavior will be consistent with the long-time default:\n",
      "    plot commands add elements without first clearing the\n",
      "    Axes and/or Figure.\n",
      "  plt.hold(b)\n",
      "/Users/alex/Documents/OmicsIntegrator2/venv/lib/python3.6/site-packages/matplotlib/__init__.py:917: UserWarning: axes.hold is deprecated. Please remove it from your matplotlibrc and/or style files.\n",
      "  warnings.warn(self.msg_depr_set % key)\n",
      "/Users/alex/Documents/OmicsIntegrator2/venv/lib/python3.6/site-packages/matplotlib/rcsetup.py:152: UserWarning: axes.hold is deprecated, will be removed in 3.0\n",
      "  warnings.warn(\"axes.hold is deprecated, will be removed in 3.0\")\n"
     ]
    },
    {
     "data": {
      "image/png": "[encoded data removed]",
      "text/plain": [
       "<matplotlib.figure.Figure at 0x1076bc048>"
      ]
     },
     "metadata": {},
     "output_type": "display_data"
    }
   ],
   "source": [
    "nx.draw_spectral(forest)"
   ]
  },
  {
   "cell_type": "code",
   "execution_count": null,
   "metadata": {
    "collapsed": true
   },
   "outputs": [],
   "source": []
  }
 ],
 "metadata": {
  "kernelspec": {
   "display_name": "Python 3",
   "language": "python",
   "name": "python3"
  },
  "language_info": {
   "codemirror_mode": {
    "name": "ipython",
    "version": 3
   },
   "file_extension": ".py",
   "mimetype": "text/x-python",
   "name": "python",
   "nbconvert_exporter": "python",
   "pygments_lexer": "ipython3",
   "version": "3.6.0"
  }
 },
 "nbformat": 4,
 "nbformat_minor": 2
}
