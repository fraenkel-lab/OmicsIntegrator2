{
 "cells": [
  {
   "cell_type": "markdown",
   "metadata": {},
   "source": [
    "# Creating a Subcellular Localization Reference for OmicsIntegrator2"
   ]
  },
  {
   "cell_type": "code",
   "execution_count": 4,
   "metadata": {
    "collapsed": false
   },
   "outputs": [
    {
     "name": "stdout",
     "output_type": "stream",
     "text": [
      "Populating the interactive namespace from numpy and matplotlib\n"
     ]
    }
   ],
   "source": [
    "%pylab inline\n",
    "%load_ext autoreload\n",
    "%autoreload 2\n",
    "import pandas as pd\n",
    "import mygene"
   ]
  },
  {
   "cell_type": "markdown",
   "metadata": {},
   "source": [
    "## I. Parse COMPARTMENTS database into DataFrames"
   ]
  },
  {
   "cell_type": "code",
   "execution_count": 2,
   "metadata": {
    "collapsed": false
   },
   "outputs": [
    {
     "data": {
      "text/html": [
       "<div>\n",
       "<table border=\"1\" class=\"dataframe\">\n",
       "  <thead>\n",
       "    <tr style=\"text-align: right;\">\n",
       "      <th></th>\n",
       "      <th>Ensembl</th>\n",
       "      <th>GeneSymbol</th>\n",
       "      <th>GO</th>\n",
       "      <th>location</th>\n",
       "      <th>evidence_type</th>\n",
       "      <th>evidence</th>\n",
       "      <th>confidence</th>\n",
       "    </tr>\n",
       "  </thead>\n",
       "  <tbody>\n",
       "    <tr>\n",
       "      <th>0</th>\n",
       "      <td>ENSP00000000442</td>\n",
       "      <td>ESRRA</td>\n",
       "      <td>GO:0005575</td>\n",
       "      <td>cellular_component</td>\n",
       "      <td>HPA</td>\n",
       "      <td>Weak: 1 antibody</td>\n",
       "      <td>1</td>\n",
       "    </tr>\n",
       "    <tr>\n",
       "      <th>1</th>\n",
       "      <td>ENSP00000000442</td>\n",
       "      <td>ESRRA</td>\n",
       "      <td>GO:0005622</td>\n",
       "      <td>Intracellular</td>\n",
       "      <td>HPA</td>\n",
       "      <td>Weak: 1 antibody</td>\n",
       "      <td>1</td>\n",
       "    </tr>\n",
       "    <tr>\n",
       "      <th>2</th>\n",
       "      <td>ENSP00000000442</td>\n",
       "      <td>ESRRA</td>\n",
       "      <td>GO:0005623</td>\n",
       "      <td>Cell</td>\n",
       "      <td>HPA</td>\n",
       "      <td>Weak: 1 antibody</td>\n",
       "      <td>1</td>\n",
       "    </tr>\n",
       "    <tr>\n",
       "      <th>3</th>\n",
       "      <td>ENSP00000000442</td>\n",
       "      <td>ESRRA</td>\n",
       "      <td>GO:0005634</td>\n",
       "      <td>Nucleus</td>\n",
       "      <td>HPA</td>\n",
       "      <td>Weak: 1 antibody</td>\n",
       "      <td>1</td>\n",
       "    </tr>\n",
       "    <tr>\n",
       "      <th>4</th>\n",
       "      <td>ENSP00000000442</td>\n",
       "      <td>ESRRA</td>\n",
       "      <td>GO:0005730</td>\n",
       "      <td>Nucleolus</td>\n",
       "      <td>HPA</td>\n",
       "      <td>Weak: 1 antibody</td>\n",
       "      <td>1</td>\n",
       "    </tr>\n",
       "  </tbody>\n",
       "</table>\n",
       "</div>"
      ],
      "text/plain": [
       "           Ensembl GeneSymbol          GO            location evidence_type  \\\n",
       "0  ENSP00000000442      ESRRA  GO:0005575  cellular_component           HPA   \n",
       "1  ENSP00000000442      ESRRA  GO:0005622       Intracellular           HPA   \n",
       "2  ENSP00000000442      ESRRA  GO:0005623                Cell           HPA   \n",
       "3  ENSP00000000442      ESRRA  GO:0005634             Nucleus           HPA   \n",
       "4  ENSP00000000442      ESRRA  GO:0005730           Nucleolus           HPA   \n",
       "\n",
       "           evidence  confidence  \n",
       "0  Weak: 1 antibody           1  \n",
       "1  Weak: 1 antibody           1  \n",
       "2  Weak: 1 antibody           1  \n",
       "3  Weak: 1 antibody           1  \n",
       "4  Weak: 1 antibody           1  "
      ]
     },
     "execution_count": 2,
     "metadata": {},
     "output_type": "execute_result"
    }
   ],
   "source": [
    "experiments_full = pd.read_csv('./human_compartment_experiments_full.tsv', sep='\\t', header=None, names=['Ensembl','GeneSymbol','GO','location','evidence_type','evidence','confidence'])\n",
    "experiments_full.head()"
   ]
  },
  {
   "cell_type": "code",
   "execution_count": 3,
   "metadata": {
    "collapsed": false
   },
   "outputs": [
    {
     "data": {
      "text/html": [
       "<div>\n",
       "<table border=\"1\" class=\"dataframe\">\n",
       "  <thead>\n",
       "    <tr style=\"text-align: right;\">\n",
       "      <th></th>\n",
       "      <th>Ensembl</th>\n",
       "      <th>GeneSymbol</th>\n",
       "      <th>GO</th>\n",
       "      <th>location</th>\n",
       "      <th>evidence</th>\n",
       "      <th>evidence_type</th>\n",
       "      <th>confidence</th>\n",
       "    </tr>\n",
       "  </thead>\n",
       "  <tbody>\n",
       "    <tr>\n",
       "      <th>0</th>\n",
       "      <td>ENSP00000000233</td>\n",
       "      <td>ARF5</td>\n",
       "      <td>GO:0005575</td>\n",
       "      <td>cellular_component</td>\n",
       "      <td>Ensembl</td>\n",
       "      <td>IEA</td>\n",
       "      <td>2</td>\n",
       "    </tr>\n",
       "    <tr>\n",
       "      <th>1</th>\n",
       "      <td>ENSP00000000233</td>\n",
       "      <td>ARF5</td>\n",
       "      <td>GO:0005575</td>\n",
       "      <td>cellular_component</td>\n",
       "      <td>UniProtKB</td>\n",
       "      <td>IDA</td>\n",
       "      <td>5</td>\n",
       "    </tr>\n",
       "    <tr>\n",
       "      <th>2</th>\n",
       "      <td>ENSP00000000233</td>\n",
       "      <td>ARF5</td>\n",
       "      <td>GO:0005575</td>\n",
       "      <td>cellular_component</td>\n",
       "      <td>UniProtKB-SubCell</td>\n",
       "      <td>IEA</td>\n",
       "      <td>3</td>\n",
       "    </tr>\n",
       "    <tr>\n",
       "      <th>3</th>\n",
       "      <td>ENSP00000000233</td>\n",
       "      <td>ARF5</td>\n",
       "      <td>GO:0005576</td>\n",
       "      <td>Extracellular region</td>\n",
       "      <td>UniProtKB</td>\n",
       "      <td>IDA</td>\n",
       "      <td>5</td>\n",
       "    </tr>\n",
       "    <tr>\n",
       "      <th>4</th>\n",
       "      <td>ENSP00000000233</td>\n",
       "      <td>ARF5</td>\n",
       "      <td>GO:0005622</td>\n",
       "      <td>Intracellular</td>\n",
       "      <td>UniProtKB-SubCell</td>\n",
       "      <td>IEA</td>\n",
       "      <td>3</td>\n",
       "    </tr>\n",
       "  </tbody>\n",
       "</table>\n",
       "</div>"
      ],
      "text/plain": [
       "           Ensembl GeneSymbol          GO              location  \\\n",
       "0  ENSP00000000233       ARF5  GO:0005575    cellular_component   \n",
       "1  ENSP00000000233       ARF5  GO:0005575    cellular_component   \n",
       "2  ENSP00000000233       ARF5  GO:0005575    cellular_component   \n",
       "3  ENSP00000000233       ARF5  GO:0005576  Extracellular region   \n",
       "4  ENSP00000000233       ARF5  GO:0005622         Intracellular   \n",
       "\n",
       "            evidence evidence_type  confidence  \n",
       "0            Ensembl           IEA           2  \n",
       "1          UniProtKB           IDA           5  \n",
       "2  UniProtKB-SubCell           IEA           3  \n",
       "3          UniProtKB           IDA           5  \n",
       "4  UniProtKB-SubCell           IEA           3  "
      ]
     },
     "execution_count": 3,
     "metadata": {},
     "output_type": "execute_result"
    }
   ],
   "source": [
    "knowledge_full = pd.read_csv('./human_compartment_knowledge_full.tsv', sep='\\t', header=None, names=['Ensembl','GeneSymbol','GO','location','evidence','evidence_type','confidence'])\n",
    "knowledge_full.head()"
   ]
  },
  {
   "cell_type": "markdown",
   "metadata": {},
   "source": [
    "## II. Merge DataFrames into single reference"
   ]
  },
  {
   "cell_type": "code",
   "execution_count": 4,
   "metadata": {
    "collapsed": false
   },
   "outputs": [
    {
     "data": {
      "text/html": [
       "<div>\n",
       "<table border=\"1\" class=\"dataframe\">\n",
       "  <thead>\n",
       "    <tr style=\"text-align: right;\">\n",
       "      <th></th>\n",
       "      <th>Ensembl</th>\n",
       "      <th>GO</th>\n",
       "      <th>GeneSymbol</th>\n",
       "      <th>confidence</th>\n",
       "      <th>evidence</th>\n",
       "      <th>evidence_type</th>\n",
       "      <th>location</th>\n",
       "    </tr>\n",
       "  </thead>\n",
       "  <tbody>\n",
       "    <tr>\n",
       "      <th>0</th>\n",
       "      <td>ENSP00000000442</td>\n",
       "      <td>GO:0005575</td>\n",
       "      <td>ESRRA</td>\n",
       "      <td>1</td>\n",
       "      <td>Weak: 1 antibody</td>\n",
       "      <td>HPA</td>\n",
       "      <td>cellular_component</td>\n",
       "    </tr>\n",
       "    <tr>\n",
       "      <th>1</th>\n",
       "      <td>ENSP00000000442</td>\n",
       "      <td>GO:0005622</td>\n",
       "      <td>ESRRA</td>\n",
       "      <td>1</td>\n",
       "      <td>Weak: 1 antibody</td>\n",
       "      <td>HPA</td>\n",
       "      <td>Intracellular</td>\n",
       "    </tr>\n",
       "    <tr>\n",
       "      <th>2</th>\n",
       "      <td>ENSP00000000442</td>\n",
       "      <td>GO:0005623</td>\n",
       "      <td>ESRRA</td>\n",
       "      <td>1</td>\n",
       "      <td>Weak: 1 antibody</td>\n",
       "      <td>HPA</td>\n",
       "      <td>Cell</td>\n",
       "    </tr>\n",
       "    <tr>\n",
       "      <th>3</th>\n",
       "      <td>ENSP00000000442</td>\n",
       "      <td>GO:0005634</td>\n",
       "      <td>ESRRA</td>\n",
       "      <td>1</td>\n",
       "      <td>Weak: 1 antibody</td>\n",
       "      <td>HPA</td>\n",
       "      <td>Nucleus</td>\n",
       "    </tr>\n",
       "    <tr>\n",
       "      <th>4</th>\n",
       "      <td>ENSP00000000442</td>\n",
       "      <td>GO:0005730</td>\n",
       "      <td>ESRRA</td>\n",
       "      <td>1</td>\n",
       "      <td>Weak: 1 antibody</td>\n",
       "      <td>HPA</td>\n",
       "      <td>Nucleolus</td>\n",
       "    </tr>\n",
       "  </tbody>\n",
       "</table>\n",
       "</div>"
      ],
      "text/plain": [
       "           Ensembl          GO GeneSymbol  confidence          evidence  \\\n",
       "0  ENSP00000000442  GO:0005575      ESRRA           1  Weak: 1 antibody   \n",
       "1  ENSP00000000442  GO:0005622      ESRRA           1  Weak: 1 antibody   \n",
       "2  ENSP00000000442  GO:0005623      ESRRA           1  Weak: 1 antibody   \n",
       "3  ENSP00000000442  GO:0005634      ESRRA           1  Weak: 1 antibody   \n",
       "4  ENSP00000000442  GO:0005730      ESRRA           1  Weak: 1 antibody   \n",
       "\n",
       "  evidence_type            location  \n",
       "0           HPA  cellular_component  \n",
       "1           HPA       Intracellular  \n",
       "2           HPA                Cell  \n",
       "3           HPA             Nucleus  \n",
       "4           HPA           Nucleolus  "
      ]
     },
     "execution_count": 4,
     "metadata": {},
     "output_type": "execute_result"
    }
   ],
   "source": [
    "df = pd.concat((experiments_full,knowledge_full))\n",
    "df.head()"
   ]
  },
  {
   "cell_type": "markdown",
   "metadata": {},
   "source": [
    "## III. Filter DataFrame and group by gene symbol"
   ]
  },
  {
   "cell_type": "markdown",
   "metadata": {},
   "source": [
    "#### i. Remove non-specific locations"
   ]
  },
  {
   "cell_type": "code",
   "execution_count": 5,
   "metadata": {
    "collapsed": false,
    "scrolled": true
   },
   "outputs": [
    {
     "data": {
      "text/html": [
       "<div>\n",
       "<table border=\"1\" class=\"dataframe\">\n",
       "  <thead>\n",
       "    <tr style=\"text-align: right;\">\n",
       "      <th></th>\n",
       "      <th>Ensembl</th>\n",
       "      <th>GO</th>\n",
       "      <th>GeneSymbol</th>\n",
       "      <th>confidence</th>\n",
       "      <th>evidence</th>\n",
       "      <th>evidence_type</th>\n",
       "      <th>location</th>\n",
       "    </tr>\n",
       "  </thead>\n",
       "  <tbody>\n",
       "    <tr>\n",
       "      <th>3</th>\n",
       "      <td>ENSP00000000442</td>\n",
       "      <td>GO:0005634</td>\n",
       "      <td>ESRRA</td>\n",
       "      <td>1</td>\n",
       "      <td>Weak: 1 antibody</td>\n",
       "      <td>HPA</td>\n",
       "      <td>Nucleus</td>\n",
       "    </tr>\n",
       "    <tr>\n",
       "      <th>4</th>\n",
       "      <td>ENSP00000000442</td>\n",
       "      <td>GO:0005730</td>\n",
       "      <td>ESRRA</td>\n",
       "      <td>1</td>\n",
       "      <td>Weak: 1 antibody</td>\n",
       "      <td>HPA</td>\n",
       "      <td>Nucleolus</td>\n",
       "    </tr>\n",
       "    <tr>\n",
       "      <th>5</th>\n",
       "      <td>ENSP00000000442</td>\n",
       "      <td>GO:0005856</td>\n",
       "      <td>ESRRA</td>\n",
       "      <td>1</td>\n",
       "      <td>Weak: 1 antibody</td>\n",
       "      <td>HPA</td>\n",
       "      <td>Cytoskeleton</td>\n",
       "    </tr>\n",
       "    <tr>\n",
       "      <th>6</th>\n",
       "      <td>ENSP00000000442</td>\n",
       "      <td>GO:0005874</td>\n",
       "      <td>ESRRA</td>\n",
       "      <td>1</td>\n",
       "      <td>Weak: 1 antibody</td>\n",
       "      <td>HPA</td>\n",
       "      <td>Microtubule</td>\n",
       "    </tr>\n",
       "    <tr>\n",
       "      <th>7</th>\n",
       "      <td>ENSP00000000442</td>\n",
       "      <td>GO:0015630</td>\n",
       "      <td>ESRRA</td>\n",
       "      <td>1</td>\n",
       "      <td>Weak: 1 antibody</td>\n",
       "      <td>HPA</td>\n",
       "      <td>Microtubule cytoskeleton</td>\n",
       "    </tr>\n",
       "  </tbody>\n",
       "</table>\n",
       "</div>"
      ],
      "text/plain": [
       "           Ensembl          GO GeneSymbol  confidence          evidence  \\\n",
       "3  ENSP00000000442  GO:0005634      ESRRA           1  Weak: 1 antibody   \n",
       "4  ENSP00000000442  GO:0005730      ESRRA           1  Weak: 1 antibody   \n",
       "5  ENSP00000000442  GO:0005856      ESRRA           1  Weak: 1 antibody   \n",
       "6  ENSP00000000442  GO:0005874      ESRRA           1  Weak: 1 antibody   \n",
       "7  ENSP00000000442  GO:0015630      ESRRA           1  Weak: 1 antibody   \n",
       "\n",
       "  evidence_type                  location  \n",
       "3           HPA                   Nucleus  \n",
       "4           HPA                 Nucleolus  \n",
       "5           HPA              Cytoskeleton  \n",
       "6           HPA               Microtubule  \n",
       "7           HPA  Microtubule cytoskeleton  "
      ]
     },
     "execution_count": 5,
     "metadata": {},
     "output_type": "execute_result"
    }
   ],
   "source": [
    "nonspecific = [\"cellular_component\", \"Cell\", \"Cell part\", \"Intracellular\"]\n",
    "df = df[~df.location.isin(nonspecific)]\n",
    "df.head()"
   ]
  },
  {
   "cell_type": "markdown",
   "metadata": {},
   "source": [
    "#### ii. Transform representation to extract important information"
   ]
  },
  {
   "cell_type": "code",
   "execution_count": 6,
   "metadata": {
    "collapsed": false,
    "scrolled": false
   },
   "outputs": [
    {
     "data": {
      "text/plain": [
       "GeneSymbol\n",
       "61E3.4       [[Nucleus, 4], [Nucleoplasm, 4], [Membrane, 3]...\n",
       "A-575C2.4    [[Nucleus, 4], [Nucleoplasm, 4], [membrane-enc...\n",
       "A1BG         [[Extracellular region, 5], [Extracellular reg...\n",
       "A1CF         [[Nucleus, 1], [Organelle, 1], [membrane-bound...\n",
       "A2M          [[Nucleus, 1], [Nucleolus, 1], [Cytoplasm, 1],...\n",
       "dtype: object"
      ]
     },
     "execution_count": 6,
     "metadata": {},
     "output_type": "execute_result"
    }
   ],
   "source": [
    "locations = df.groupby('GeneSymbol').apply(lambda x: x[['location','confidence']].to_records(index=False))\n",
    "locations.head()"
   ]
  },
  {
   "cell_type": "code",
   "execution_count": 8,
   "metadata": {
    "collapsed": true
   },
   "outputs": [],
   "source": [
    "locations.to_pickle('genes_and_locations.pickle')"
   ]
  },
  {
   "cell_type": "markdown",
   "metadata": {},
   "source": [
    "## IV. Map to broad categories of locations"
   ]
  },
  {
   "cell_type": "code",
   "execution_count": 76,
   "metadata": {
    "collapsed": false
   },
   "outputs": [
    {
     "data": {
      "text/plain": [
       "GeneSymbol\n",
       "61E3.4       [[Nucleus, 4], [Nucleoplasm, 4], [Membrane, 3]...\n",
       "A-575C2.4    [[Nucleus, 4], [Nucleoplasm, 4], [membrane-enc...\n",
       "A1BG         [[Extracellular region, 5], [Extracellular reg...\n",
       "A1CF         [[Nucleus, 1], [Organelle, 1], [membrane-bound...\n",
       "A2M          [[Nucleus, 1], [Nucleolus, 1], [Cytoplasm, 1],...\n",
       "dtype: object"
      ]
     },
     "execution_count": 76,
     "metadata": {},
     "output_type": "execute_result"
    }
   ],
   "source": [
    "locations = pd.read_pickle('genes_and_locations.pickle')\n",
    "locations.head()"
   ]
  },
  {
   "cell_type": "code",
   "execution_count": 77,
   "metadata": {
    "collapsed": true
   },
   "outputs": [],
   "source": [
    "def get_broad_location(l):\n",
    "    l = l.lower()\n",
    "    if (\"mitochond\" in l) or (\"respir\" in l):\n",
    "        return \"mitochondria\"\n",
    "    elif (\"golgi\" in l):\n",
    "        return \"golgi\"\n",
    "    elif (\"endosom\" in l):\n",
    "        return \"endosome\"\n",
    "    elif (\"perox\" in l) or (\"microbod\" in l):\n",
    "        return \"peroxisome\"\n",
    "    elif (\"endoplasmic reticulum\" in l) or (\"sarcoplas\" in l) or (\"signal recog\" in l):\n",
    "        return \"ER\"\n",
    "    elif (\"lytic\" in l) or (\"lyso\" in l):\n",
    "        return \"lysosome\"\n",
    "    elif (\"nucleolus\" in l) or (\"fibrillar\" in l):\n",
    "        return \"nucleolus\"\n",
    "    elif  (\"snrnp\" in l) or (\"repli\" in l) or (\"splice\" in l) or (\"replic\" in l) or (\"kineto\" in l) or (\"nucl\" in l) or (\"polymerase\" in l) or (\"chrom\" in l) or (\"dna\" in l) or (\"centrosome\" in l):\n",
    "        return \"nucleus\"\n",
    "    elif (\"endomemb\" in l) or (\"copi\" in l) or (\"granule\" in l):\n",
    "        return \"endomembrane\"\n",
    "    elif (\"intracell\" in l):\n",
    "        return \"intracellular\"\n",
    "    elif (\"riboso\" in l):\n",
    "        return \"ribosome\"\n",
    "    elif (\"aggresome\" in l) or (\"proteasome\" in l):\n",
    "        return \"proteasome\"\n",
    "    elif (\"exocyt\" in l) or (\"exosome\" in l) or (\"extracellular\" in l) or (\"cell-cell\" in l):\n",
    "        return \"extracellular\"\n",
    "    elif (\"leading edge\" in l) or (\"filopo\" in l) or (\"cortex\" in l) or (\"desmo\" in l) or (\"centrio\" in l) or (\"myosin\" in l) or (\"lamell\" in l) or (\"microtub\" in l) or (\"ruffle\" in l) or (\"cytoske\" in l) or (\"cili\" in l) or (\"actin\" in l) or (\"focal ad\" in l) or (\"projection\" in l) or (\"adhere\" in l) or (\"junction\" in l) or (\"contractile\" in l) or (\"kinesin\" in l) or (\"filament\" in l) or (\"spindle\" in l):\n",
    "        return \"cytoskeleton\"\n",
    "    elif (\"phago\" in l) or (\"pino\" in l):\n",
    "        return \"phagocytic\"\n",
    "    elif (\"organelle\" in l):\n",
    "        return \"organelle\"\n",
    "    elif (\"vesic\" in l) or (\"vacuol\" in l):\n",
    "        return \"vesicle\"\n",
    "    elif (\"apical\" in l) or (\"membr\" in l) or (\"periph\" in l) or (\"furrow\" in l) or (\"surface\" in l):\n",
    "        return \"membrane\"\n",
    "    elif (\"macromol\" in l) or (\"complex\" in l) or (\"supramol\" in l):\n",
    "        return \"protein complex\"\n",
    "    elif (\"cytoplasm\" in l) or (\"cytosol\" in l):\n",
    "        return \"cytoplasm\"\n",
    "    elif (\"cell body\" in l) or (\"ranvier\" in l) or (\"synap\" in l) or (\"cajal\" in l) or (\"bouton\" in l) or (\"neuron\" in l) or (\"cone\" in l) or (\"axon\" in l) or (\"dendrit\" in l) or (\"perik\" in l): \n",
    "        return \"neuron\"\n",
    "    elif (\"tubule\" in l) or (\"sarco\" in l) or (\"zone\" in l) or (\"fibril\" in l) or (\"myelin\" in l) or (\"disc\" in l) or (\"band\" in l):\n",
    "        return \"muscle\"\n",
    "    elif (\"lipopro\" in l) or (\"chylo\" in l):\n",
    "        return \"lipoprotein\"\n",
    "    else:\n",
    "        return \"bad_location\""
   ]
  },
  {
   "cell_type": "code",
   "execution_count": 78,
   "metadata": {
    "collapsed": false
   },
   "outputs": [
    {
     "data": {
      "text/plain": [
       "GeneSymbol\n",
       "61E3.4       [(nucleus, 4), (nucleus, 4), (membrane, 3), (m...\n",
       "A-575C2.4    [(nucleus, 4), (nucleus, 4), (membrane, 4), (n...\n",
       "A1BG         [(extracellular, 5), (extracellular, 5), (extr...\n",
       "A1CF         [(nucleus, 1), (organelle, 1), (organelle, 1),...\n",
       "A2M          [(nucleus, 1), (nucleolus, 1), (cytoplasm, 1),...\n",
       "dtype: object"
      ]
     },
     "execution_count": 78,
     "metadata": {},
     "output_type": "execute_result"
    }
   ],
   "source": [
    "locations = locations.apply(lambda locations_and_confidences: [(get_broad_location(l),c) for l,c in locations_and_confidences])\n",
    "locations.head()"
   ]
  },
  {
   "cell_type": "markdown",
   "metadata": {},
   "source": [
    "## V. Take max confidence over location categories"
   ]
  },
  {
   "cell_type": "code",
   "execution_count": 79,
   "metadata": {
    "collapsed": false
   },
   "outputs": [
    {
     "data": {
      "text/plain": [
       "GeneSymbol\n",
       "61E3.4                          (nucleus, [membrane])\n",
       "A-575C2.4                       (nucleus, [membrane])\n",
       "A1BG         (extracellular, [endomembrane, vesicle])\n",
       "A1CF                 (nucleus, [protein complex, ER])\n",
       "A2M          (extracellular, [vesicle, endomembrane])\n",
       "dtype: object"
      ]
     },
     "execution_count": 79,
     "metadata": {},
     "output_type": "execute_result"
    }
   ],
   "source": [
    "non_organelle_list = [\"extracellular\", \"organelle\", \"intracellular\", \"membrane\", \"cytoplasm\" \"cytoskeleton\", \n",
    "                      \"protein complex\", \"neuron\", \"muscle\", \"lipoprotein\"]\n",
    "non_cytoplasmic = [\"extracellular\", \"organelle\", \"intracellular\", \"membrane\", \"cytoplasm\" \"cytoskeleton\", \n",
    "                      \"protein complex\", \"neuron\", \"muscle\", \"lipoprotein\", \"nucleus\", \"nucleolus\"]\n",
    "endomembrane_list = [\"ER\", \"golgi\", \"endosome\", \"lysosome\", \"peroxisome\", \"phagocytic\"]\n",
    "\n",
    "def sort_compartment(elements):\n",
    "    my_dict = {}\n",
    "    for element in elements:\n",
    "        if element[1] >= 3 and element[0] != \"bad_location\":\n",
    "            my_dict[element[0]] = my_dict.get(element[0], 0) + element[1] - 2\n",
    "    d = [k for k in sorted(my_dict, key=my_dict.get, reverse=True)]\n",
    "    if (\"intracellular\" in d) and sum([True for x in d if (x not in [\"extracellular\", \"intracellular\", \"membrane\"]) ]) > 0 and len(d) > 1:\n",
    "        d.remove('intracellular')\n",
    "    if (\"organelle\" in d) and sum([True for x in d if (x not in non_organelle_list) ]) > 0 and len(d) > 1:\n",
    "        d.remove('organelle')\n",
    "    if (\"cytoplasm\" in d) and sum([True for x in d if (x not in non_cytoplasmic) ]) > 0 and len(d) > 1:\n",
    "        d.remove('cytoplasm')\n",
    "    if (\"endomembrane\" in d) and sum([True for x in d if (x in endomembrane_list) ]) > 0 and len(d) > 1:\n",
    "        d.remove('endomembrane')\n",
    "    if (\"nucleus\" in d) and (\"nucleolus\" in d):\n",
    "        d.remove('nucleus')\n",
    "        d.append('nucleus')\n",
    "    if ('membrane' in d) and len(d) > 1:\n",
    "        d.remove('membrane')\n",
    "        d.append('membrane')\n",
    "    if ('neuron' in d) and len(d) > 1:\n",
    "        d.remove('neuron')\n",
    "        d.append('neuron')\n",
    "    if ('muscle' in d) and len(d) > 1:\n",
    "        d.remove('muscle')\n",
    "        d.append('muscle')\n",
    "        \n",
    "    if len(d) > 1:\n",
    "        return (d[0], d[1:min(3, len(d))])\n",
    "    elif len(d) == 1:\n",
    "        return (d[0], None)\n",
    "    return (\"no location\", None)\n",
    "\n",
    "\n",
    "locations = locations.apply(sort_compartment)\n",
    "locations.head()"
   ]
  },
  {
   "cell_type": "code",
   "execution_count": 80,
   "metadata": {
    "collapsed": false
   },
   "outputs": [
    {
     "data": {
      "text/html": [
       "<div>\n",
       "<table border=\"1\" class=\"dataframe\">\n",
       "  <thead>\n",
       "    <tr style=\"text-align: right;\">\n",
       "      <th></th>\n",
       "      <th>location</th>\n",
       "      <th>otherLocations</th>\n",
       "    </tr>\n",
       "    <tr>\n",
       "      <th>GeneSymbol</th>\n",
       "      <th></th>\n",
       "      <th></th>\n",
       "    </tr>\n",
       "  </thead>\n",
       "  <tbody>\n",
       "    <tr>\n",
       "      <th>61E3.4</th>\n",
       "      <td>nucleus</td>\n",
       "      <td>[membrane]</td>\n",
       "    </tr>\n",
       "    <tr>\n",
       "      <th>A-575C2.4</th>\n",
       "      <td>nucleus</td>\n",
       "      <td>[membrane]</td>\n",
       "    </tr>\n",
       "    <tr>\n",
       "      <th>A1BG</th>\n",
       "      <td>extracellular</td>\n",
       "      <td>[endomembrane, vesicle]</td>\n",
       "    </tr>\n",
       "    <tr>\n",
       "      <th>A1CF</th>\n",
       "      <td>nucleus</td>\n",
       "      <td>[protein complex, ER]</td>\n",
       "    </tr>\n",
       "    <tr>\n",
       "      <th>A2M</th>\n",
       "      <td>extracellular</td>\n",
       "      <td>[vesicle, endomembrane]</td>\n",
       "    </tr>\n",
       "  </tbody>\n",
       "</table>\n",
       "</div>"
      ],
      "text/plain": [
       "                 location           otherLocations\n",
       "GeneSymbol                                        \n",
       "61E3.4            nucleus               [membrane]\n",
       "A-575C2.4         nucleus               [membrane]\n",
       "A1BG        extracellular  [endomembrane, vesicle]\n",
       "A1CF              nucleus    [protein complex, ER]\n",
       "A2M         extracellular  [vesicle, endomembrane]"
      ]
     },
     "execution_count": 80,
     "metadata": {},
     "output_type": "execute_result"
    }
   ],
   "source": [
    "locations = locations.to_frame().rename(columns={0:'location_and_otherLocations'})\n",
    "locations['location'], locations['otherLocations'] = zip(*locations['location_and_otherLocations'])\n",
    "del locations['location_and_otherLocations']\n",
    "locations.head()"
   ]
  },
  {
   "cell_type": "markdown",
   "metadata": {},
   "source": [
    "## VI. Namespace mapping"
   ]
  },
  {
   "cell_type": "markdown",
   "metadata": {},
   "source": [
    "#### i. Query Mygene"
   ]
  },
  {
   "cell_type": "code",
   "execution_count": 53,
   "metadata": {
    "collapsed": false
   },
   "outputs": [
    {
     "name": "stdout",
     "output_type": "stream",
     "text": [
      "querying 1-1000...done.\n",
      "querying 1001-2000...done.\n",
      "querying 2001-3000...done.\n",
      "querying 3001-4000...done.\n",
      "querying 4001-5000...done.\n",
      "querying 5001-6000...done.\n",
      "querying 6001-7000...done.\n",
      "querying 7001-8000...done.\n",
      "querying 8001-9000...done.\n",
      "querying 9001-10000...done.\n",
      "querying 10001-11000...done.\n",
      "querying 11001-12000...done.\n",
      "querying 12001-13000...done.\n",
      "querying 13001-14000...done.\n",
      "querying 14001-15000...done.\n",
      "querying 15001-16000...done.\n",
      "querying 16001-17000...done.\n",
      "querying 17001-18000...done.\n",
      "querying 18001-18114...done.\n",
      "Finished.\n",
      "1404 input query terms found dup hits:\n",
      "\t[('61E3.4', 2), ('A1BG', 2), ('AATK', 2), ('ABP1', 2), ('ACAT1', 2), ('ACAT2', 2), ('ACP1', 2), ('AC\n",
      "101 input query terms found no hit:\n",
      "\t['C6orf50', 'ENSG00000064489', 'ENSG00000108825', 'ENSG00000166329', 'ENSG00000169203', 'ENSG0000017\n"
     ]
    }
   ],
   "source": [
    "mg = mygene.MyGeneInfo()\n",
    "results = mg.querymany(locations.index.tolist(), scopes=['symbol','alias'], fields=[\"symbol\"], species=\"human\", as_dataframe=True, returnall=True)\n",
    "duplicated = results['dup']\n",
    "missing = results['missing']\n",
    "out = results['out']"
   ]
  },
  {
   "cell_type": "markdown",
   "metadata": {},
   "source": [
    "#### ii. Don't concern ourselves with missing entries. We can keep them around without any trouble. "
   ]
  },
  {
   "cell_type": "code",
   "execution_count": 54,
   "metadata": {
    "collapsed": false
   },
   "outputs": [
    {
     "data": {
      "text/plain": [
       "query\n",
       "61E3.4         NPIPB4\n",
       "61E3.4           SMG1\n",
       "A-575C2.4      NPIPB7\n",
       "A1BG             A1BG\n",
       "A1BG         A1BG-AS1\n",
       "Name: symbol, dtype: object"
      ]
     },
     "execution_count": 54,
     "metadata": {},
     "output_type": "execute_result"
    }
   ],
   "source": [
    "found = out[out.notfound != True]['symbol']\n",
    "found.head()"
   ]
  },
  {
   "cell_type": "markdown",
   "metadata": {},
   "source": [
    "#### iii. Throw away all the secondary symbols for which we were given duplicates"
   ]
  },
  {
   "cell_type": "code",
   "execution_count": 55,
   "metadata": {
    "collapsed": false
   },
   "outputs": [
    {
     "data": {
      "text/plain": [
       "query\n",
       "61E3.4       NPIPB4\n",
       "A-575C2.4    NPIPB7\n",
       "A1BG           A1BG\n",
       "A1CF           A1CF\n",
       "A2M             A2M\n",
       "Name: symbol, dtype: object"
      ]
     },
     "execution_count": 55,
     "metadata": {},
     "output_type": "execute_result"
    }
   ],
   "source": [
    "found = found[~found.index.duplicated(keep='first')]\n",
    "found.head()"
   ]
  },
  {
   "cell_type": "markdown",
   "metadata": {},
   "source": [
    "#### iv. Replace the GeneSymbols which we got updated names from MyGene for"
   ]
  },
  {
   "cell_type": "code",
   "execution_count": 56,
   "metadata": {
    "collapsed": false
   },
   "outputs": [
    {
     "data": {
      "text/plain": [
       "(18013, 854)"
      ]
     },
     "execution_count": 56,
     "metadata": {},
     "output_type": "execute_result"
    }
   ],
   "source": [
    "len(found), len(found[found.index != found.values])"
   ]
  },
  {
   "cell_type": "code",
   "execution_count": 57,
   "metadata": {
    "collapsed": false
   },
   "outputs": [
    {
     "data": {
      "text/plain": [
       "query\n",
       "61E3.4       NPIPB4\n",
       "A-575C2.4    NPIPB7\n",
       "ABP1           DBNL\n",
       "ACN9         SDHAF3\n",
       "ACPL2        PXYLP1\n",
       "Name: symbol, dtype: object"
      ]
     },
     "execution_count": 57,
     "metadata": {},
     "output_type": "execute_result"
    }
   ],
   "source": [
    "found[found.index != found.values].head()"
   ]
  },
  {
   "cell_type": "code",
   "execution_count": 81,
   "metadata": {
    "collapsed": false
   },
   "outputs": [
    {
     "data": {
      "text/html": [
       "<div>\n",
       "<table border=\"1\" class=\"dataframe\">\n",
       "  <thead>\n",
       "    <tr style=\"text-align: right;\">\n",
       "      <th></th>\n",
       "      <th>location</th>\n",
       "      <th>otherLocations</th>\n",
       "    </tr>\n",
       "    <tr>\n",
       "      <th>symbol</th>\n",
       "      <th></th>\n",
       "      <th></th>\n",
       "    </tr>\n",
       "  </thead>\n",
       "  <tbody>\n",
       "    <tr>\n",
       "      <th>NPIPB4</th>\n",
       "      <td>nucleus</td>\n",
       "      <td>[membrane]</td>\n",
       "    </tr>\n",
       "    <tr>\n",
       "      <th>NPIPB7</th>\n",
       "      <td>nucleus</td>\n",
       "      <td>[membrane]</td>\n",
       "    </tr>\n",
       "    <tr>\n",
       "      <th>A1BG</th>\n",
       "      <td>extracellular</td>\n",
       "      <td>[endomembrane, vesicle]</td>\n",
       "    </tr>\n",
       "    <tr>\n",
       "      <th>A1CF</th>\n",
       "      <td>nucleus</td>\n",
       "      <td>[protein complex, ER]</td>\n",
       "    </tr>\n",
       "    <tr>\n",
       "      <th>A2M</th>\n",
       "      <td>extracellular</td>\n",
       "      <td>[vesicle, endomembrane]</td>\n",
       "    </tr>\n",
       "  </tbody>\n",
       "</table>\n",
       "</div>"
      ],
      "text/plain": [
       "             location           otherLocations\n",
       "symbol                                        \n",
       "NPIPB4        nucleus               [membrane]\n",
       "NPIPB7        nucleus               [membrane]\n",
       "A1BG    extracellular  [endomembrane, vesicle]\n",
       "A1CF          nucleus    [protein complex, ER]\n",
       "A2M     extracellular  [vesicle, endomembrane]"
      ]
     },
     "execution_count": 81,
     "metadata": {},
     "output_type": "execute_result"
    }
   ],
   "source": [
    "locations = locations.merge(found.to_frame(), how='left', left_index=True, right_index=True).reset_index()\n",
    "locations['symbol'] = locations['symbol'].fillna(locations['GeneSymbol'])\n",
    "locations = locations.set_index('symbol')[['location', 'otherLocations']]\n",
    "locations.head()"
   ]
  },
  {
   "cell_type": "code",
   "execution_count": 82,
   "metadata": {
    "collapsed": false
   },
   "outputs": [
    {
     "data": {
      "text/plain": [
       "(18114, 18054)"
      ]
     },
     "execution_count": 82,
     "metadata": {},
     "output_type": "execute_result"
    }
   ],
   "source": [
    "len(locations), len(locations[~locations.index.duplicated(keep='first')])"
   ]
  },
  {
   "cell_type": "code",
   "execution_count": 83,
   "metadata": {
    "collapsed": false
   },
   "outputs": [
    {
     "data": {
      "text/html": [
       "<div>\n",
       "<table border=\"1\" class=\"dataframe\">\n",
       "  <thead>\n",
       "    <tr style=\"text-align: right;\">\n",
       "      <th></th>\n",
       "      <th>location</th>\n",
       "      <th>otherLocations</th>\n",
       "    </tr>\n",
       "    <tr>\n",
       "      <th>symbol</th>\n",
       "      <th></th>\n",
       "      <th></th>\n",
       "    </tr>\n",
       "  </thead>\n",
       "  <tbody>\n",
       "    <tr>\n",
       "      <th>NPIPB4</th>\n",
       "      <td>nucleus</td>\n",
       "      <td>[membrane]</td>\n",
       "    </tr>\n",
       "    <tr>\n",
       "      <th>NPIPB7</th>\n",
       "      <td>nucleus</td>\n",
       "      <td>[membrane]</td>\n",
       "    </tr>\n",
       "    <tr>\n",
       "      <th>A1BG</th>\n",
       "      <td>extracellular</td>\n",
       "      <td>[endomembrane, vesicle]</td>\n",
       "    </tr>\n",
       "    <tr>\n",
       "      <th>A1CF</th>\n",
       "      <td>nucleus</td>\n",
       "      <td>[protein complex, ER]</td>\n",
       "    </tr>\n",
       "    <tr>\n",
       "      <th>A2M</th>\n",
       "      <td>extracellular</td>\n",
       "      <td>[vesicle, endomembrane]</td>\n",
       "    </tr>\n",
       "  </tbody>\n",
       "</table>\n",
       "</div>"
      ],
      "text/plain": [
       "             location           otherLocations\n",
       "symbol                                        \n",
       "NPIPB4        nucleus               [membrane]\n",
       "NPIPB7        nucleus               [membrane]\n",
       "A1BG    extracellular  [endomembrane, vesicle]\n",
       "A1CF          nucleus    [protein complex, ER]\n",
       "A2M     extracellular  [vesicle, endomembrane]"
      ]
     },
     "execution_count": 83,
     "metadata": {},
     "output_type": "execute_result"
    }
   ],
   "source": [
    "locations = locations[~locations.index.duplicated(keep='first')]\n",
    "locations.head()"
   ]
  },
  {
   "cell_type": "markdown",
   "metadata": {},
   "source": [
    "## VII. Subcellular Localization Evaluation"
   ]
  },
  {
   "cell_type": "code",
   "execution_count": 84,
   "metadata": {
    "collapsed": false,
    "scrolled": true
   },
   "outputs": [
    {
     "data": {
      "text/plain": [
       "<matplotlib.axes._subplots.AxesSubplot at 0x1c9eec33f28>"
      ]
     },
     "execution_count": 84,
     "metadata": {},
     "output_type": "execute_result"
    },
    {
     "data": {
      "image/png": "[encoded data removed]",
      "text/plain": [
       "<matplotlib.figure.Figure at 0x1c9f07b52e8>"
      ]
     },
     "metadata": {},
     "output_type": "display_data"
    }
   ],
   "source": [
    "figure(figsize=(17, 6))\n",
    "locations['location'].value_counts().plot(kind='bar')"
   ]
  },
  {
   "cell_type": "markdown",
   "metadata": {},
   "source": [
    "I spot checked about 30 proteins - the localization mostly seems reasonable. The numbers also concord decently well with the data available from HPA about the total number of extracellular/nuclear/intracellular/secretory proteins. "
   ]
  },
  {
   "cell_type": "code",
   "execution_count": 86,
   "metadata": {
    "collapsed": true
   },
   "outputs": [],
   "source": [
    "locations['location'].to_pickle('subcellular.pickle')"
   ]
  },
  {
   "cell_type": "code",
   "execution_count": null,
   "metadata": {
    "collapsed": true
   },
   "outputs": [],
   "source": []
  }
 ],
 "metadata": {
  "kernelspec": {
   "display_name": "Python 3",
   "language": "python",
   "name": "python3"
  },
  "language_info": {
   "codemirror_mode": {
    "name": "ipython",
    "version": 3
   },
   "file_extension": ".py",
   "mimetype": "text/x-python",
   "name": "python",
   "nbconvert_exporter": "python",
   "pygments_lexer": "ipython3",
   "version": "3.6.0"
  }
 },
 "nbformat": 4,
 "nbformat_minor": 2
}
