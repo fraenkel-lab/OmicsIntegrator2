{
 "cells": [
  {
   "cell_type": "markdown",
   "metadata": {},
   "source": [
    "# Trying out the [goenrich](https://github.com/jdrudolph/goenrich) package for GO enrichment"
   ]
  },
  {
   "cell_type": "code",
   "execution_count": 1,
   "metadata": {},
   "outputs": [
    {
     "name": "stdout",
     "output_type": "stream",
     "text": [
      "Populating the interactive namespace from numpy and matplotlib\n"
     ]
    }
   ],
   "source": [
    "%pylab inline\n",
    "import numpy as np\n",
    "import pandas as pd"
   ]
  },
  {
   "cell_type": "markdown",
   "metadata": {
    "collapsed": true
   },
   "source": [
    "## II. Follow the [installation instructions](https://github.com/jdrudolph/goenrich#installation) for the goenrich package"
   ]
  },
  {
   "cell_type": "markdown",
   "metadata": {},
   "source": [
    "```\n",
    "pip install goenrich\n",
    "```\n",
    "```\n",
    "mkdir db\n",
    "```\n",
    "#### Ontology\n",
    "```\n",
    "wget http://purl.obolibrary.org/obo/go/go-basic.obo -O db/go-basic.obo\n",
    "```\n",
    "#### UniprotACC\n",
    "```\n",
    "wget http://geneontology.org/gene-associations/goa_human.gaf.gz -O db/gene_association.goa_human.gaf.gz\n",
    "```\n",
    "#### Yeast SGD\n",
    "```\n",
    "wget http://downloads.yeastgenome.org/curation/literature/gene_association.sgd.gz -O db/gene_association.sgd.gz\n",
    "```\n",
    "#### Entrez GeneID\n",
    "```\n",
    "wget ftp://ftp.ncbi.nlm.nih.gov/gene/DATA/gene2go.gz -O db/gene2go.gz\n",
    "```"
   ]
  },
  {
   "cell_type": "markdown",
   "metadata": {},
   "source": [
    "## III. Try enrichment"
   ]
  },
  {
   "cell_type": "code",
   "execution_count": 4,
   "metadata": {},
   "outputs": [
    {
     "data": {
      "text/plain": [
       "<networkx.classes.digraph.DiGraph at 0x102fe9358>"
      ]
     },
     "execution_count": 4,
     "metadata": {},
     "output_type": "execute_result"
    }
   ],
   "source": [
    "import goenrich\n",
    "\n",
    "# build the ontology\n",
    "ontology_graph = goenrich.obo.ontology('db/go-basic.obo')\n",
    "ontology_graph"
   ]
  },
  {
   "cell_type": "code",
   "execution_count": 5,
   "metadata": {
    "collapsed": true
   },
   "outputs": [],
   "source": [
    "# use all entrez geneid associations form gene2go as background\n",
    "# use annot = goenrich.read.goa('db/gene_association.goa_human.gaf.gz') for uniprot\n",
    "# use annot = goenrich.read.sgd('db/gene_association.sgd.gz') for yeast\n",
    "gene2go = goenrich.read.gene2go('db/gene2go.gz')\n",
    "# use values = {k: set(v) for k,v in annot.groupby('go_id')['db_object_symbol']} for uniprot/yeast\n",
    "GO_terms_and_associated_genes = {k: set(v) for k,v in gene2go.groupby('GO_ID')['GeneID']}"
   ]
  },
  {
   "cell_type": "code",
   "execution_count": 6,
   "metadata": {
    "collapsed": true
   },
   "outputs": [],
   "source": [
    "# propagate the background through the ontology\n",
    "background_set_attribute_name = 'genes'\n",
    "goenrich.enrich.propagate(ontology_graph, GO_terms_and_associated_genes, background_set_attribute_name)"
   ]
  },
  {
   "cell_type": "code",
   "execution_count": 7,
   "metadata": {},
   "outputs": [
    {
     "data": {
      "text/plain": [
       "array([ 1,  2,  9, 10, 12, 13, 14, 15, 16, 18, 19, 20, 21, 22, 23, 24, 25,\n",
       "       26, 27, 28])"
      ]
     },
     "execution_count": 7,
     "metadata": {},
     "output_type": "execute_result"
    }
   ],
   "source": [
    "# extract some list of entries as example query\n",
    "# use query = annot['db_object_symbol'].unique()[:20]\n",
    "query = gene2go['GeneID'].unique()[:20]\n",
    "query"
   ]
  },
  {
   "cell_type": "code",
   "execution_count": 8,
   "metadata": {
    "scrolled": false
   },
   "outputs": [
    {
     "data": {
      "text/html": [
       "<div>\n",
       "<style>\n",
       "    .dataframe thead tr:only-child th {\n",
       "        text-align: right;\n",
       "    }\n",
       "\n",
       "    .dataframe thead th {\n",
       "        text-align: left;\n",
       "    }\n",
       "\n",
       "    .dataframe tbody tr th {\n",
       "        vertical-align: top;\n",
       "    }\n",
       "</style>\n",
       "<table border=\"1\" class=\"dataframe\">\n",
       "  <thead>\n",
       "    <tr style=\"text-align: right;\">\n",
       "      <th></th>\n",
       "      <th>M</th>\n",
       "      <th>N</th>\n",
       "      <th>n</th>\n",
       "      <th>name</th>\n",
       "      <th>namespace</th>\n",
       "      <th>p</th>\n",
       "      <th>q</th>\n",
       "      <th>rejected</th>\n",
       "      <th>term</th>\n",
       "      <th>x</th>\n",
       "    </tr>\n",
       "  </thead>\n",
       "  <tbody>\n",
       "    <tr>\n",
       "      <th>0</th>\n",
       "      <td>19275</td>\n",
       "      <td>20</td>\n",
       "      <td>0</td>\n",
       "      <td>mitochondrion inheritance</td>\n",
       "      <td>biological_process</td>\n",
       "      <td>NaN</td>\n",
       "      <td>NaN</td>\n",
       "      <td>NaN</td>\n",
       "      <td>GO:0000001</td>\n",
       "      <td>0</td>\n",
       "    </tr>\n",
       "    <tr>\n",
       "      <th>1</th>\n",
       "      <td>19275</td>\n",
       "      <td>20</td>\n",
       "      <td>22</td>\n",
       "      <td>mitochondrial genome maintenance</td>\n",
       "      <td>biological_process</td>\n",
       "      <td>1.0</td>\n",
       "      <td>1.0</td>\n",
       "      <td>0.0</td>\n",
       "      <td>GO:0000002</td>\n",
       "      <td>0</td>\n",
       "    </tr>\n",
       "    <tr>\n",
       "      <th>2</th>\n",
       "      <td>19275</td>\n",
       "      <td>20</td>\n",
       "      <td>1348</td>\n",
       "      <td>reproduction</td>\n",
       "      <td>biological_process</td>\n",
       "      <td>NaN</td>\n",
       "      <td>NaN</td>\n",
       "      <td>NaN</td>\n",
       "      <td>GO:0000003</td>\n",
       "      <td>1</td>\n",
       "    </tr>\n",
       "    <tr>\n",
       "      <th>3</th>\n",
       "      <td>19275</td>\n",
       "      <td>20</td>\n",
       "      <td>0</td>\n",
       "      <td>high-affinity zinc uptake transmembrane transp...</td>\n",
       "      <td>molecular_function</td>\n",
       "      <td>NaN</td>\n",
       "      <td>NaN</td>\n",
       "      <td>NaN</td>\n",
       "      <td>GO:0000006</td>\n",
       "      <td>0</td>\n",
       "    </tr>\n",
       "    <tr>\n",
       "      <th>4</th>\n",
       "      <td>19275</td>\n",
       "      <td>20</td>\n",
       "      <td>0</td>\n",
       "      <td>low-affinity zinc ion transmembrane transporte...</td>\n",
       "      <td>molecular_function</td>\n",
       "      <td>NaN</td>\n",
       "      <td>NaN</td>\n",
       "      <td>NaN</td>\n",
       "      <td>GO:0000007</td>\n",
       "      <td>0</td>\n",
       "    </tr>\n",
       "  </tbody>\n",
       "</table>\n",
       "</div>"
      ],
      "text/plain": [
       "       M   N     n                                               name  \\\n",
       "0  19275  20     0                          mitochondrion inheritance   \n",
       "1  19275  20    22                   mitochondrial genome maintenance   \n",
       "2  19275  20  1348                                       reproduction   \n",
       "3  19275  20     0  high-affinity zinc uptake transmembrane transp...   \n",
       "4  19275  20     0  low-affinity zinc ion transmembrane transporte...   \n",
       "\n",
       "            namespace    p    q  rejected        term  x  \n",
       "0  biological_process  NaN  NaN       NaN  GO:0000001  0  \n",
       "1  biological_process  1.0  1.0       0.0  GO:0000002  0  \n",
       "2  biological_process  NaN  NaN       NaN  GO:0000003  1  \n",
       "3  molecular_function  NaN  NaN       NaN  GO:0000006  0  \n",
       "4  molecular_function  NaN  NaN       NaN  GO:0000007  0  "
      ]
     },
     "execution_count": 8,
     "metadata": {},
     "output_type": "execute_result"
    }
   ],
   "source": [
    "# for additional export to graphviz just specify the gvfile argument\n",
    "# the show argument keeps the graph reasonably small\n",
    "df = goenrich.enrich.analyze(ontology_graph, query, background_set_attribute_name)\n",
    "df.head()"
   ]
  },
  {
   "cell_type": "markdown",
   "metadata": {},
   "source": [
    "### It looks like goenrich wants entrezgene IDs -- could we fix that? "
   ]
  },
  {
   "cell_type": "markdown",
   "metadata": {},
   "source": [
    "## IV. Perform mapping so we can use gene symbols instead of entrezgene"
   ]
  },
  {
   "cell_type": "code",
   "execution_count": 9,
   "metadata": {},
   "outputs": [
    {
     "name": "stdout",
     "output_type": "stream",
     "text": [
      "querying 1-1000...done.\n",
      "querying 1001-2000...done.\n",
      "querying 2001-3000...done.\n",
      "querying 3001-4000...done.\n",
      "querying 4001-5000...done.\n",
      "querying 5001-6000...done.\n",
      "querying 6001-7000...done.\n",
      "querying 7001-8000...done.\n",
      "querying 8001-9000...done.\n",
      "querying 9001-10000...done.\n",
      "querying 10001-11000...done.\n",
      "querying 11001-12000...done.\n",
      "querying 12001-13000...done.\n",
      "querying 13001-14000...done.\n",
      "querying 14001-15000...done.\n",
      "querying 15001-16000...done.\n",
      "querying 16001-17000...done.\n",
      "querying 17001-18000...done.\n",
      "querying 18001-19000...done.\n",
      "querying 19001-19275...done.\n",
      "Finished.\n"
     ]
    }
   ],
   "source": [
    "import mygene\n",
    "mg = mygene.MyGeneInfo()\n",
    "df = mg.querymany(gene2go['GeneID'].unique().tolist(), scopes=['entrezgene'], fields=[\"HGNC\", \"symbol\"], species=\"human\", as_dataframe=True, returnall=True)"
   ]
  },
  {
   "cell_type": "code",
   "execution_count": 10,
   "metadata": {
    "collapsed": true
   },
   "outputs": [],
   "source": [
    "dup = df['dup']\n",
    "missing = df['missing']\n",
    "df = df['out']"
   ]
  },
  {
   "cell_type": "code",
   "execution_count": 11,
   "metadata": {},
   "outputs": [
    {
     "data": {
      "text/plain": [
       "([], [])"
      ]
     },
     "execution_count": 11,
     "metadata": {},
     "output_type": "execute_result"
    }
   ],
   "source": [
    "dup, missing"
   ]
  },
  {
   "cell_type": "code",
   "execution_count": 12,
   "metadata": {
    "scrolled": true
   },
   "outputs": [
    {
     "data": {
      "text/html": [
       "<div>\n",
       "<style>\n",
       "    .dataframe thead tr:only-child th {\n",
       "        text-align: right;\n",
       "    }\n",
       "\n",
       "    .dataframe thead th {\n",
       "        text-align: left;\n",
       "    }\n",
       "\n",
       "    .dataframe tbody tr th {\n",
       "        vertical-align: top;\n",
       "    }\n",
       "</style>\n",
       "<table border=\"1\" class=\"dataframe\">\n",
       "  <thead>\n",
       "    <tr style=\"text-align: right;\">\n",
       "      <th></th>\n",
       "      <th>HGNC</th>\n",
       "      <th>_id</th>\n",
       "      <th>_score</th>\n",
       "      <th>symbol</th>\n",
       "    </tr>\n",
       "    <tr>\n",
       "      <th>query</th>\n",
       "      <th></th>\n",
       "      <th></th>\n",
       "      <th></th>\n",
       "      <th></th>\n",
       "    </tr>\n",
       "  </thead>\n",
       "  <tbody>\n",
       "    <tr>\n",
       "      <th>1</th>\n",
       "      <td>5</td>\n",
       "      <td>1</td>\n",
       "      <td>23.310171</td>\n",
       "      <td>A1BG</td>\n",
       "    </tr>\n",
       "    <tr>\n",
       "      <th>2</th>\n",
       "      <td>7</td>\n",
       "      <td>2</td>\n",
       "      <td>23.312958</td>\n",
       "      <td>A2M</td>\n",
       "    </tr>\n",
       "    <tr>\n",
       "      <th>9</th>\n",
       "      <td>7645</td>\n",
       "      <td>9</td>\n",
       "      <td>23.949460</td>\n",
       "      <td>NAT1</td>\n",
       "    </tr>\n",
       "    <tr>\n",
       "      <th>10</th>\n",
       "      <td>7646</td>\n",
       "      <td>10</td>\n",
       "      <td>22.525192</td>\n",
       "      <td>NAT2</td>\n",
       "    </tr>\n",
       "    <tr>\n",
       "      <th>12</th>\n",
       "      <td>16</td>\n",
       "      <td>12</td>\n",
       "      <td>23.319983</td>\n",
       "      <td>SERPINA3</td>\n",
       "    </tr>\n",
       "  </tbody>\n",
       "</table>\n",
       "</div>"
      ],
      "text/plain": [
       "       HGNC _id     _score    symbol\n",
       "query                               \n",
       "1         5   1  23.310171      A1BG\n",
       "2         7   2  23.312958       A2M\n",
       "9      7645   9  23.949460      NAT1\n",
       "10     7646  10  22.525192      NAT2\n",
       "12       16  12  23.319983  SERPINA3"
      ]
     },
     "execution_count": 12,
     "metadata": {},
     "output_type": "execute_result"
    }
   ],
   "source": [
    "df.head()"
   ]
  },
  {
   "cell_type": "code",
   "execution_count": 13,
   "metadata": {
    "scrolled": true
   },
   "outputs": [
    {
     "data": {
      "text/html": [
       "<div>\n",
       "<style>\n",
       "    .dataframe thead tr:only-child th {\n",
       "        text-align: right;\n",
       "    }\n",
       "\n",
       "    .dataframe thead th {\n",
       "        text-align: left;\n",
       "    }\n",
       "\n",
       "    .dataframe tbody tr th {\n",
       "        vertical-align: top;\n",
       "    }\n",
       "</style>\n",
       "<table border=\"1\" class=\"dataframe\">\n",
       "  <thead>\n",
       "    <tr style=\"text-align: right;\">\n",
       "      <th></th>\n",
       "      <th>query</th>\n",
       "      <th>symbol</th>\n",
       "    </tr>\n",
       "  </thead>\n",
       "  <tbody>\n",
       "    <tr>\n",
       "      <th>0</th>\n",
       "      <td>1</td>\n",
       "      <td>A1BG</td>\n",
       "    </tr>\n",
       "    <tr>\n",
       "      <th>1</th>\n",
       "      <td>2</td>\n",
       "      <td>A2M</td>\n",
       "    </tr>\n",
       "    <tr>\n",
       "      <th>2</th>\n",
       "      <td>9</td>\n",
       "      <td>NAT1</td>\n",
       "    </tr>\n",
       "    <tr>\n",
       "      <th>3</th>\n",
       "      <td>10</td>\n",
       "      <td>NAT2</td>\n",
       "    </tr>\n",
       "    <tr>\n",
       "      <th>4</th>\n",
       "      <td>12</td>\n",
       "      <td>SERPINA3</td>\n",
       "    </tr>\n",
       "  </tbody>\n",
       "</table>\n",
       "</div>"
      ],
      "text/plain": [
       "   query    symbol\n",
       "0      1      A1BG\n",
       "1      2       A2M\n",
       "2      9      NAT1\n",
       "3     10      NAT2\n",
       "4     12  SERPINA3"
      ]
     },
     "execution_count": 13,
     "metadata": {},
     "output_type": "execute_result"
    }
   ],
   "source": [
    "df = df[[\"symbol\"]].reset_index()\n",
    "df['query'] = pd.to_numeric(df['query'])\n",
    "df.head()"
   ]
  },
  {
   "cell_type": "code",
   "execution_count": 14,
   "metadata": {},
   "outputs": [
    {
     "data": {
      "text/html": [
       "<div>\n",
       "<style>\n",
       "    .dataframe thead tr:only-child th {\n",
       "        text-align: right;\n",
       "    }\n",
       "\n",
       "    .dataframe thead th {\n",
       "        text-align: left;\n",
       "    }\n",
       "\n",
       "    .dataframe tbody tr th {\n",
       "        vertical-align: top;\n",
       "    }\n",
       "</style>\n",
       "<table border=\"1\" class=\"dataframe\">\n",
       "  <thead>\n",
       "    <tr style=\"text-align: right;\">\n",
       "      <th></th>\n",
       "      <th>tax_id</th>\n",
       "      <th>GeneID</th>\n",
       "      <th>GO_ID</th>\n",
       "      <th>Evidence</th>\n",
       "      <th>Qualifier</th>\n",
       "      <th>GO_term</th>\n",
       "      <th>PubMed</th>\n",
       "      <th>Category</th>\n",
       "    </tr>\n",
       "  </thead>\n",
       "  <tbody>\n",
       "    <tr>\n",
       "      <th>534700</th>\n",
       "      <td>9606</td>\n",
       "      <td>1</td>\n",
       "      <td>GO:0002576</td>\n",
       "      <td>TAS</td>\n",
       "      <td>-</td>\n",
       "      <td>platelet degranulation</td>\n",
       "      <td>-</td>\n",
       "      <td>Process</td>\n",
       "    </tr>\n",
       "    <tr>\n",
       "      <th>534701</th>\n",
       "      <td>9606</td>\n",
       "      <td>1</td>\n",
       "      <td>GO:0003674</td>\n",
       "      <td>ND</td>\n",
       "      <td>-</td>\n",
       "      <td>molecular_function</td>\n",
       "      <td>-</td>\n",
       "      <td>Function</td>\n",
       "    </tr>\n",
       "    <tr>\n",
       "      <th>534702</th>\n",
       "      <td>9606</td>\n",
       "      <td>1</td>\n",
       "      <td>GO:0005576</td>\n",
       "      <td>IDA</td>\n",
       "      <td>-</td>\n",
       "      <td>extracellular region</td>\n",
       "      <td>3458201</td>\n",
       "      <td>Component</td>\n",
       "    </tr>\n",
       "    <tr>\n",
       "      <th>534703</th>\n",
       "      <td>9606</td>\n",
       "      <td>1</td>\n",
       "      <td>GO:0005576</td>\n",
       "      <td>TAS</td>\n",
       "      <td>-</td>\n",
       "      <td>extracellular region</td>\n",
       "      <td>-</td>\n",
       "      <td>Component</td>\n",
       "    </tr>\n",
       "    <tr>\n",
       "      <th>534704</th>\n",
       "      <td>9606</td>\n",
       "      <td>1</td>\n",
       "      <td>GO:0005615</td>\n",
       "      <td>IDA</td>\n",
       "      <td>-</td>\n",
       "      <td>extracellular space</td>\n",
       "      <td>16502470</td>\n",
       "      <td>Component</td>\n",
       "    </tr>\n",
       "  </tbody>\n",
       "</table>\n",
       "</div>"
      ],
      "text/plain": [
       "        tax_id  GeneID       GO_ID Evidence Qualifier                 GO_term  \\\n",
       "534700    9606       1  GO:0002576      TAS         -  platelet degranulation   \n",
       "534701    9606       1  GO:0003674       ND         -      molecular_function   \n",
       "534702    9606       1  GO:0005576      IDA         -    extracellular region   \n",
       "534703    9606       1  GO:0005576      TAS         -    extracellular region   \n",
       "534704    9606       1  GO:0005615      IDA         -     extracellular space   \n",
       "\n",
       "          PubMed   Category  \n",
       "534700         -    Process  \n",
       "534701         -   Function  \n",
       "534702   3458201  Component  \n",
       "534703         -  Component  \n",
       "534704  16502470  Component  "
      ]
     },
     "execution_count": 14,
     "metadata": {},
     "output_type": "execute_result"
    }
   ],
   "source": [
    "gene2go.head()"
   ]
  },
  {
   "cell_type": "code",
   "execution_count": 18,
   "metadata": {
    "scrolled": true
   },
   "outputs": [
    {
     "data": {
      "text/html": [
       "<div>\n",
       "<style>\n",
       "    .dataframe thead tr:only-child th {\n",
       "        text-align: right;\n",
       "    }\n",
       "\n",
       "    .dataframe thead th {\n",
       "        text-align: left;\n",
       "    }\n",
       "\n",
       "    .dataframe tbody tr th {\n",
       "        vertical-align: top;\n",
       "    }\n",
       "</style>\n",
       "<table border=\"1\" class=\"dataframe\">\n",
       "  <thead>\n",
       "    <tr style=\"text-align: right;\">\n",
       "      <th></th>\n",
       "      <th>tax_id</th>\n",
       "      <th>GeneID</th>\n",
       "      <th>GO_ID</th>\n",
       "      <th>Evidence</th>\n",
       "      <th>Qualifier</th>\n",
       "      <th>GO_term</th>\n",
       "      <th>PubMed</th>\n",
       "      <th>Category</th>\n",
       "      <th>GeneSymbol</th>\n",
       "    </tr>\n",
       "  </thead>\n",
       "  <tbody>\n",
       "    <tr>\n",
       "      <th>0</th>\n",
       "      <td>9606</td>\n",
       "      <td>1</td>\n",
       "      <td>GO:0002576</td>\n",
       "      <td>TAS</td>\n",
       "      <td>-</td>\n",
       "      <td>platelet degranulation</td>\n",
       "      <td>-</td>\n",
       "      <td>Process</td>\n",
       "      <td>A1BG</td>\n",
       "    </tr>\n",
       "    <tr>\n",
       "      <th>1</th>\n",
       "      <td>9606</td>\n",
       "      <td>1</td>\n",
       "      <td>GO:0003674</td>\n",
       "      <td>ND</td>\n",
       "      <td>-</td>\n",
       "      <td>molecular_function</td>\n",
       "      <td>-</td>\n",
       "      <td>Function</td>\n",
       "      <td>A1BG</td>\n",
       "    </tr>\n",
       "    <tr>\n",
       "      <th>2</th>\n",
       "      <td>9606</td>\n",
       "      <td>1</td>\n",
       "      <td>GO:0005576</td>\n",
       "      <td>IDA</td>\n",
       "      <td>-</td>\n",
       "      <td>extracellular region</td>\n",
       "      <td>3458201</td>\n",
       "      <td>Component</td>\n",
       "      <td>A1BG</td>\n",
       "    </tr>\n",
       "    <tr>\n",
       "      <th>3</th>\n",
       "      <td>9606</td>\n",
       "      <td>1</td>\n",
       "      <td>GO:0005576</td>\n",
       "      <td>TAS</td>\n",
       "      <td>-</td>\n",
       "      <td>extracellular region</td>\n",
       "      <td>-</td>\n",
       "      <td>Component</td>\n",
       "      <td>A1BG</td>\n",
       "    </tr>\n",
       "    <tr>\n",
       "      <th>4</th>\n",
       "      <td>9606</td>\n",
       "      <td>1</td>\n",
       "      <td>GO:0005615</td>\n",
       "      <td>IDA</td>\n",
       "      <td>-</td>\n",
       "      <td>extracellular space</td>\n",
       "      <td>16502470</td>\n",
       "      <td>Component</td>\n",
       "      <td>A1BG</td>\n",
       "    </tr>\n",
       "  </tbody>\n",
       "</table>\n",
       "</div>"
      ],
      "text/plain": [
       "   tax_id  GeneID       GO_ID Evidence Qualifier                 GO_term  \\\n",
       "0    9606       1  GO:0002576      TAS         -  platelet degranulation   \n",
       "1    9606       1  GO:0003674       ND         -      molecular_function   \n",
       "2    9606       1  GO:0005576      IDA         -    extracellular region   \n",
       "3    9606       1  GO:0005576      TAS         -    extracellular region   \n",
       "4    9606       1  GO:0005615      IDA         -     extracellular space   \n",
       "\n",
       "     PubMed   Category GeneSymbol  \n",
       "0         -    Process       A1BG  \n",
       "1         -   Function       A1BG  \n",
       "2   3458201  Component       A1BG  \n",
       "3         -  Component       A1BG  \n",
       "4  16502470  Component       A1BG  "
      ]
     },
     "execution_count": 18,
     "metadata": {},
     "output_type": "execute_result"
    }
   ],
   "source": [
    "gene2go = gene2go.merge(df, how='left', left_on='GeneID', right_on='query')\n",
    "del gene2go['query']\n",
    "gene2go = gene2go.rename(columns={'symbol':'GeneSymbol'})\n",
    "gene2go.head()"
   ]
  },
  {
   "cell_type": "code",
   "execution_count": 19,
   "metadata": {
    "collapsed": true
   },
   "outputs": [],
   "source": [
    "gene2go.to_csv('gene2go.csv', header=True, index=False)"
   ]
  },
  {
   "cell_type": "markdown",
   "metadata": {},
   "source": [
    "## V. Try goenrich with updated GO database"
   ]
  },
  {
   "cell_type": "code",
   "execution_count": 1,
   "metadata": {},
   "outputs": [
    {
     "data": {
      "text/plain": [
       "<networkx.classes.digraph.DiGraph at 0x10b208da0>"
      ]
     },
     "execution_count": 1,
     "metadata": {},
     "output_type": "execute_result"
    }
   ],
   "source": [
    "import goenrich\n",
    "\n",
    "# build the ontology\n",
    "ontology_graph = goenrich.obo.ontology('db/go-basic.obo')\n",
    "ontology_graph"
   ]
  },
  {
   "cell_type": "code",
   "execution_count": 4,
   "metadata": {},
   "outputs": [
    {
     "data": {
      "text/html": [
       "<div>\n",
       "<style>\n",
       "    .dataframe thead tr:only-child th {\n",
       "        text-align: right;\n",
       "    }\n",
       "\n",
       "    .dataframe thead th {\n",
       "        text-align: left;\n",
       "    }\n",
       "\n",
       "    .dataframe tbody tr th {\n",
       "        vertical-align: top;\n",
       "    }\n",
       "</style>\n",
       "<table border=\"1\" class=\"dataframe\">\n",
       "  <thead>\n",
       "    <tr style=\"text-align: right;\">\n",
       "      <th></th>\n",
       "      <th>tax_id</th>\n",
       "      <th>GeneID</th>\n",
       "      <th>GO_ID</th>\n",
       "      <th>Evidence</th>\n",
       "      <th>Qualifier</th>\n",
       "      <th>GO_term</th>\n",
       "      <th>PubMed</th>\n",
       "      <th>Category</th>\n",
       "      <th>GeneSymbol</th>\n",
       "    </tr>\n",
       "  </thead>\n",
       "  <tbody>\n",
       "    <tr>\n",
       "      <th>0</th>\n",
       "      <td>9606</td>\n",
       "      <td>1</td>\n",
       "      <td>GO:0002576</td>\n",
       "      <td>TAS</td>\n",
       "      <td>-</td>\n",
       "      <td>platelet degranulation</td>\n",
       "      <td>-</td>\n",
       "      <td>Process</td>\n",
       "      <td>A1BG</td>\n",
       "    </tr>\n",
       "    <tr>\n",
       "      <th>1</th>\n",
       "      <td>9606</td>\n",
       "      <td>1</td>\n",
       "      <td>GO:0003674</td>\n",
       "      <td>ND</td>\n",
       "      <td>-</td>\n",
       "      <td>molecular_function</td>\n",
       "      <td>-</td>\n",
       "      <td>Function</td>\n",
       "      <td>A1BG</td>\n",
       "    </tr>\n",
       "    <tr>\n",
       "      <th>2</th>\n",
       "      <td>9606</td>\n",
       "      <td>1</td>\n",
       "      <td>GO:0005576</td>\n",
       "      <td>IDA</td>\n",
       "      <td>-</td>\n",
       "      <td>extracellular region</td>\n",
       "      <td>3458201</td>\n",
       "      <td>Component</td>\n",
       "      <td>A1BG</td>\n",
       "    </tr>\n",
       "    <tr>\n",
       "      <th>3</th>\n",
       "      <td>9606</td>\n",
       "      <td>1</td>\n",
       "      <td>GO:0005576</td>\n",
       "      <td>TAS</td>\n",
       "      <td>-</td>\n",
       "      <td>extracellular region</td>\n",
       "      <td>-</td>\n",
       "      <td>Component</td>\n",
       "      <td>A1BG</td>\n",
       "    </tr>\n",
       "    <tr>\n",
       "      <th>4</th>\n",
       "      <td>9606</td>\n",
       "      <td>1</td>\n",
       "      <td>GO:0005615</td>\n",
       "      <td>IDA</td>\n",
       "      <td>-</td>\n",
       "      <td>extracellular space</td>\n",
       "      <td>16502470</td>\n",
       "      <td>Component</td>\n",
       "      <td>A1BG</td>\n",
       "    </tr>\n",
       "  </tbody>\n",
       "</table>\n",
       "</div>"
      ],
      "text/plain": [
       "   tax_id  GeneID       GO_ID Evidence Qualifier                 GO_term  \\\n",
       "0    9606       1  GO:0002576      TAS         -  platelet degranulation   \n",
       "1    9606       1  GO:0003674       ND         -      molecular_function   \n",
       "2    9606       1  GO:0005576      IDA         -    extracellular region   \n",
       "3    9606       1  GO:0005576      TAS         -    extracellular region   \n",
       "4    9606       1  GO:0005615      IDA         -     extracellular space   \n",
       "\n",
       "     PubMed   Category GeneSymbol  \n",
       "0         -    Process       A1BG  \n",
       "1         -   Function       A1BG  \n",
       "2   3458201  Component       A1BG  \n",
       "3         -  Component       A1BG  \n",
       "4  16502470  Component       A1BG  "
      ]
     },
     "execution_count": 4,
     "metadata": {},
     "output_type": "execute_result"
    }
   ],
   "source": [
    "gene2go = pd.read_csv('gene2go.csv')\n",
    "gene2go.head()"
   ]
  },
  {
   "cell_type": "code",
   "execution_count": 5,
   "metadata": {
    "collapsed": true
   },
   "outputs": [],
   "source": [
    "GO_terms_and_associated_genes = {k: set(v) for k,v in gene2go.groupby('GO_ID')['GeneSymbol']}"
   ]
  },
  {
   "cell_type": "code",
   "execution_count": 6,
   "metadata": {
    "collapsed": true
   },
   "outputs": [],
   "source": [
    "# propagate the background through the ontology\n",
    "background_set_attribute_name = 'genes'\n",
    "goenrich.enrich.propagate(ontology_graph, GO_terms_and_associated_genes, background_set_attribute_name)"
   ]
  },
  {
   "cell_type": "code",
   "execution_count": 9,
   "metadata": {},
   "outputs": [
    {
     "data": {
      "text/plain": [
       "['RNF11', 'TRIM46', 'TIMM8A', 'GLB1', 'ESPL1']"
      ]
     },
     "execution_count": 9,
     "metadata": {},
     "output_type": "execute_result"
    }
   ],
   "source": [
    "query = clustering[clustering.level1 == 3]['name'].tolist()\n",
    "query[:5]"
   ]
  },
  {
   "cell_type": "code",
   "execution_count": 19,
   "metadata": {
    "scrolled": true
   },
   "outputs": [
    {
     "data": {
      "text/html": [
       "<div>\n",
       "<style>\n",
       "    .dataframe thead tr:only-child th {\n",
       "        text-align: right;\n",
       "    }\n",
       "\n",
       "    .dataframe thead th {\n",
       "        text-align: left;\n",
       "    }\n",
       "\n",
       "    .dataframe tbody tr th {\n",
       "        vertical-align: top;\n",
       "    }\n",
       "</style>\n",
       "<table border=\"1\" class=\"dataframe\">\n",
       "  <thead>\n",
       "    <tr style=\"text-align: right;\">\n",
       "      <th></th>\n",
       "      <th>M</th>\n",
       "      <th>N</th>\n",
       "      <th>n</th>\n",
       "      <th>name</th>\n",
       "      <th>namespace</th>\n",
       "      <th>p</th>\n",
       "      <th>q</th>\n",
       "      <th>rejected</th>\n",
       "      <th>term</th>\n",
       "      <th>x</th>\n",
       "    </tr>\n",
       "  </thead>\n",
       "  <tbody>\n",
       "    <tr>\n",
       "      <th>3486</th>\n",
       "      <td>19275</td>\n",
       "      <td>41</td>\n",
       "      <td>79</td>\n",
       "      <td>thiol-dependent ubiquitin-specific protease ac...</td>\n",
       "      <td>molecular_function</td>\n",
       "      <td>2.201579e-26</td>\n",
       "      <td>1.636653e-22</td>\n",
       "      <td>1.0</td>\n",
       "      <td>GO:0004843</td>\n",
       "      <td>14</td>\n",
       "    </tr>\n",
       "    <tr>\n",
       "      <th>18548</th>\n",
       "      <td>19275</td>\n",
       "      <td>41</td>\n",
       "      <td>121</td>\n",
       "      <td>thiol-dependent ubiquitinyl hydrolase activity</td>\n",
       "      <td>molecular_function</td>\n",
       "      <td>2.090338e-23</td>\n",
       "      <td>5.898496e-20</td>\n",
       "      <td>1.0</td>\n",
       "      <td>GO:0036459</td>\n",
       "      <td>14</td>\n",
       "    </tr>\n",
       "    <tr>\n",
       "      <th>35783</th>\n",
       "      <td>19275</td>\n",
       "      <td>41</td>\n",
       "      <td>122</td>\n",
       "      <td>ubiquitinyl hydrolase activity</td>\n",
       "      <td>molecular_function</td>\n",
       "      <td>2.380345e-23</td>\n",
       "      <td>5.898496e-20</td>\n",
       "      <td>1.0</td>\n",
       "      <td>GO:0101005</td>\n",
       "      <td>14</td>\n",
       "    </tr>\n",
       "    <tr>\n",
       "      <th>20505</th>\n",
       "      <td>19275</td>\n",
       "      <td>41</td>\n",
       "      <td>495</td>\n",
       "      <td>modification-dependent macromolecule catabolic...</td>\n",
       "      <td>biological_process</td>\n",
       "      <td>4.396737e-23</td>\n",
       "      <td>8.171335e-20</td>\n",
       "      <td>1.0</td>\n",
       "      <td>GO:0043632</td>\n",
       "      <td>20</td>\n",
       "    </tr>\n",
       "    <tr>\n",
       "      <th>5740</th>\n",
       "      <td>19275</td>\n",
       "      <td>41</td>\n",
       "      <td>197</td>\n",
       "      <td>cysteine-type peptidase activity</td>\n",
       "      <td>molecular_function</td>\n",
       "      <td>6.297426e-22</td>\n",
       "      <td>9.363012e-19</td>\n",
       "      <td>1.0</td>\n",
       "      <td>GO:0008234</td>\n",
       "      <td>15</td>\n",
       "    </tr>\n",
       "  </tbody>\n",
       "</table>\n",
       "</div>"
      ],
      "text/plain": [
       "           M   N    n                                               name  \\\n",
       "3486   19275  41   79  thiol-dependent ubiquitin-specific protease ac...   \n",
       "18548  19275  41  121     thiol-dependent ubiquitinyl hydrolase activity   \n",
       "35783  19275  41  122                     ubiquitinyl hydrolase activity   \n",
       "20505  19275  41  495  modification-dependent macromolecule catabolic...   \n",
       "5740   19275  41  197                   cysteine-type peptidase activity   \n",
       "\n",
       "                namespace             p             q  rejected        term  \\\n",
       "3486   molecular_function  2.201579e-26  1.636653e-22       1.0  GO:0004843   \n",
       "18548  molecular_function  2.090338e-23  5.898496e-20       1.0  GO:0036459   \n",
       "35783  molecular_function  2.380345e-23  5.898496e-20       1.0  GO:0101005   \n",
       "20505  biological_process  4.396737e-23  8.171335e-20       1.0  GO:0043632   \n",
       "5740   molecular_function  6.297426e-22  9.363012e-19       1.0  GO:0008234   \n",
       "\n",
       "        x  \n",
       "3486   14  \n",
       "18548  14  \n",
       "35783  14  \n",
       "20505  20  \n",
       "5740   15  "
      ]
     },
     "execution_count": 19,
     "metadata": {},
     "output_type": "execute_result"
    }
   ],
   "source": [
    "df = goenrich.enrich.analyze(ontology_graph, query, background_set_attribute_name).dropna().sort_values('p')\n",
    "df.head()"
   ]
  },
  {
   "cell_type": "code",
   "execution_count": null,
   "metadata": {
    "collapsed": true
   },
   "outputs": [],
   "source": []
  }
 ],
 "metadata": {
  "kernelspec": {
   "display_name": "Python 3",
   "language": "python",
   "name": "python3"
  },
  "language_info": {
   "codemirror_mode": {
    "name": "ipython",
    "version": 3
   },
   "file_extension": ".py",
   "mimetype": "text/x-python",
   "name": "python",
   "nbconvert_exporter": "python",
   "pygments_lexer": "ipython3",
   "version": "3.6.1"
  }
 },
 "nbformat": 4,
 "nbformat_minor": 2
}
