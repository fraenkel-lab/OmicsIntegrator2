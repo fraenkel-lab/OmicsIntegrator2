{
 "cells": [
  {
   "cell_type": "code",
   "execution_count": 1,
   "metadata": {},
   "outputs": [],
   "source": [
    "%load_ext autoreload\n",
    "%autoreload 2"
   ]
  },
  {
   "cell_type": "code",
   "execution_count": 2,
   "metadata": {},
   "outputs": [],
   "source": [
    "import pickle\n",
    "\n",
    "import numpy as np\n",
    "import pandas as pd\n",
    "import networkx as nx\n",
    "\n",
    "# import OmicsIntegrator as oi\n",
    "\n",
    "import warnings\n",
    "warnings.filterwarnings('ignore')"
   ]
  },
  {
   "cell_type": "code",
   "execution_count": 3,
   "metadata": {},
   "outputs": [],
   "source": [
    "import sys\n",
    "\n",
    "sys.path.append(\"../src/\")\n",
    "from graph import Graph\n",
    "from graph import get_robust_subgraph_from_randomizations"
   ]
  },
  {
   "cell_type": "code",
   "execution_count": 4,
   "metadata": {},
   "outputs": [],
   "source": [
    "# Plotting\n",
    "%matplotlib inline\n",
    "import matplotlib\n",
    "import matplotlib.pyplot as plt\n",
    "\n",
    "matplotlib.rcParams['font.sans-serif'] = \"Arial\"\n",
    "matplotlib.rcParams['font.family'] = \"Arial\"\n",
    "\n",
    "import seaborn as sns"
   ]
  },
  {
   "cell_type": "markdown",
   "metadata": {},
   "source": [
    "# 0 - Omics Integrator 2 Inputs"
   ]
  },
  {
   "cell_type": "code",
   "execution_count": 5,
   "metadata": {},
   "outputs": [
    {
     "name": "stderr",
     "output_type": "stream",
     "text": [
      "04:02:11 - OI2: INFO - Duplicated gene symbols in the prize file (we'll keep the max prize):\n",
      "04:02:11 - OI2: INFO - []\n",
      "04:02:11 - OI2: INFO - Members of the prize file not present in the interactome:\n",
      "04:02:11 - OI2: INFO - ['CALM1', 'DCAF1', 'DUX4', 'EPYC', 'FN3K', 'G6PC3', 'GPC6', 'GXYLT2', 'HIST1H3A', 'HIST2H3A', 'LEFTY2', 'NBPF7', 'NDNF', 'TKFC']\n"
     ]
    }
   ],
   "source": [
    "interactome_file = \"./OI2_pipeline_data/iRefIndex_v14_MIScore_interactome_C9.costs.txt\"\n",
    "prize_file = \"./OI2_pipeline_data/protein_TF_prizes.tsv\"\n",
    "output_dir = \"./OI2_pipeline_data/\"\n",
    "\n",
    "Ws = [0.5, 1]\n",
    "Bs = [1, 2]\n",
    "Gs = [3, 4]\n",
    "\n",
    "params = {\n",
    "    \"noise\": 0.1, \n",
    "    \"dummy_mode\": \"terminals\", \n",
    "    \"exclude_terminals\": False, \n",
    "    \"seed\": 1\n",
    "}\n",
    "\n",
    "graph = Graph(interactome_file, params)\n",
    "graph.prepare_prizes(prize_file)"
   ]
  },
  {
   "cell_type": "code",
   "execution_count": 6,
   "metadata": {
    "scrolled": true
   },
   "outputs": [
    {
     "data": {
      "text/html": [
       "<div>\n",
       "<style scoped>\n",
       "    .dataframe tbody tr th:only-of-type {\n",
       "        vertical-align: middle;\n",
       "    }\n",
       "\n",
       "    .dataframe tbody tr th {\n",
       "        vertical-align: top;\n",
       "    }\n",
       "\n",
       "    .dataframe thead th {\n",
       "        text-align: right;\n",
       "    }\n",
       "</style>\n",
       "<table border=\"1\" class=\"dataframe\">\n",
       "  <thead>\n",
       "    <tr style=\"text-align: right;\">\n",
       "      <th></th>\n",
       "      <th>prize</th>\n",
       "      <th>type</th>\n",
       "      <th>terminal</th>\n",
       "      <th>degree</th>\n",
       "    </tr>\n",
       "  </thead>\n",
       "  <tbody>\n",
       "    <tr>\n",
       "      <th>C9ORF72</th>\n",
       "      <td>4.0</td>\n",
       "      <td>terminal</td>\n",
       "      <td>True</td>\n",
       "      <td>93</td>\n",
       "    </tr>\n",
       "    <tr>\n",
       "      <th>ZNF91</th>\n",
       "      <td>0.0</td>\n",
       "      <td>protein</td>\n",
       "      <td>False</td>\n",
       "      <td>6</td>\n",
       "    </tr>\n",
       "    <tr>\n",
       "      <th>ACP5</th>\n",
       "      <td>0.0</td>\n",
       "      <td>protein</td>\n",
       "      <td>False</td>\n",
       "      <td>11</td>\n",
       "    </tr>\n",
       "    <tr>\n",
       "      <th>SLC27A2</th>\n",
       "      <td>0.0</td>\n",
       "      <td>protein</td>\n",
       "      <td>False</td>\n",
       "      <td>9</td>\n",
       "    </tr>\n",
       "    <tr>\n",
       "      <th>PAX9</th>\n",
       "      <td>0.0</td>\n",
       "      <td>protein</td>\n",
       "      <td>False</td>\n",
       "      <td>11</td>\n",
       "    </tr>\n",
       "  </tbody>\n",
       "</table>\n",
       "</div>"
      ],
      "text/plain": [
       "         prize      type  terminal  degree\n",
       "C9ORF72    4.0  terminal      True      93\n",
       "ZNF91      0.0   protein     False       6\n",
       "ACP5       0.0   protein     False      11\n",
       "SLC27A2    0.0   protein     False       9\n",
       "PAX9       0.0   protein     False      11"
      ]
     },
     "execution_count": 6,
     "metadata": {},
     "output_type": "execute_result"
    }
   ],
   "source": [
    "node_attributes_df = graph.node_attributes\n",
    "node_attributes_df.head()"
   ]
  },
  {
   "cell_type": "markdown",
   "metadata": {},
   "source": [
    "# 1 - Param sweep\n",
    "\n",
    "Don't worry about this for now. "
   ]
  },
  {
   "cell_type": "markdown",
   "metadata": {},
   "source": [
    "# 2 - Randomizations"
   ]
  },
  {
   "cell_type": "markdown",
   "metadata": {},
   "source": [
    "## 2.1 - Randomization results"
   ]
  },
  {
   "cell_type": "code",
   "execution_count": 5,
   "metadata": {},
   "outputs": [
    {
     "name": "stderr",
     "output_type": "stream",
     "text": [
      "11:47:04 - OI2: INFO - Duplicated gene symbols in the prize file (we'll keep the max prize):\n",
      "11:47:04 - OI2: INFO - []\n",
      "11:47:04 - OI2: INFO - Members of the prize file not present in the interactome:\n",
      "11:47:04 - OI2: INFO - ['AK4', 'BTBD17', 'DUX4', 'E2F', 'FABP7', 'GFY', 'GMPR', 'GPC2', 'GXYLT2', 'JPT1', 'MT-ATP6', 'MT-CO3', 'OCT6', 'PCDHGB6', 'PLPP3', 'PRXL2A', 'RBM14', 'TBXT', 'TMEM132B', 'TMEM35A']\n",
      "11:47:08 - OI2: INFO - Randomizations for W_0.50_B_1.00_G_3.00\n",
      "11:47:09 - OI2: INFO - Randomizations for W_0.50_B_1.00_G_4.00\n",
      "11:47:10 - OI2: INFO - Randomizations for W_0.50_B_2.00_G_3.00\n",
      "11:47:11 - OI2: INFO - Randomizations for W_0.50_B_2.00_G_4.00\n",
      "11:47:11 - OI2: INFO - Randomizations for W_1.00_B_1.00_G_3.00\n",
      "11:47:12 - OI2: INFO - Randomizations for W_1.00_B_1.00_G_4.00\n",
      "11:47:13 - OI2: INFO - Randomizations for W_1.00_B_2.00_G_3.00\n",
      "11:47:14 - OI2: INFO - Randomizations for W_1.00_B_2.00_G_4.00\n"
     ]
    }
   ],
   "source": [
    "robustness_reps = 100\n",
    "specificity_reps = 100\n",
    "\n",
    "results = graph.grid_randomization(prize_file, Ws, Bs, Gs, robustness_reps, specificity_reps)"
   ]
  },
  {
   "cell_type": "markdown",
   "metadata": {},
   "source": [
    "Pickle results"
   ]
  },
  {
   "cell_type": "code",
   "execution_count": 6,
   "metadata": {},
   "outputs": [],
   "source": [
    "with open(\"../pickles/randomization_results.pkl\", \"wb\") as f: \n",
    "    pickle.dump(results, f)"
   ]
  },
  {
   "cell_type": "markdown",
   "metadata": {},
   "source": [
    "Load results"
   ]
  },
  {
   "cell_type": "code",
   "execution_count": 7,
   "metadata": {},
   "outputs": [],
   "source": [
    "results = pickle.load(open(\"./OI2_pipeline_data/randomization_results.pkl\", \"rb\"))"
   ]
  },
  {
   "cell_type": "markdown",
   "metadata": {},
   "source": [
    "## 2.2 - Generate robust networks"
   ]
  },
  {
   "cell_type": "markdown",
   "metadata": {},
   "source": [
    "Add robust networks to results dictionary"
   ]
  },
  {
   "cell_type": "code",
   "execution_count": 12,
   "metadata": {},
   "outputs": [],
   "source": [
    "# for paramstring, forests in results.items(): \n",
    "#     forests[\"robust\"] = get_robust_subgraph_from_randomizations(forests[\"augmented_forest\"], 400, 5)"
   ]
  },
  {
   "cell_type": "code",
   "execution_count": 13,
   "metadata": {},
   "outputs": [],
   "source": [
    "robust_networks = { param:get_robust_subgraph_from_randomizations(forests[\"augmented_forest\"], 400, 5) for param,forests in results.items() }"
   ]
  },
  {
   "cell_type": "markdown",
   "metadata": {},
   "source": [
    "# Test new funcs"
   ]
  },
  {
   "cell_type": "code",
   "execution_count": 9,
   "metadata": {},
   "outputs": [],
   "source": [
    "\n",
    "# from graph import generate_basic_statistics"
   ]
  },
  {
   "cell_type": "code",
   "execution_count": 14,
   "metadata": {
    "scrolled": false
   },
   "outputs": [
    {
     "data": {
      "text/html": [
       "<div>\n",
       "<style scoped>\n",
       "    .dataframe tbody tr th:only-of-type {\n",
       "        vertical-align: middle;\n",
       "    }\n",
       "\n",
       "    .dataframe tbody tr th {\n",
       "        vertical-align: top;\n",
       "    }\n",
       "\n",
       "    .dataframe thead th {\n",
       "        text-align: right;\n",
       "    }\n",
       "</style>\n",
       "<table border=\"1\" class=\"dataframe\">\n",
       "  <thead>\n",
       "    <tr style=\"text-align: right;\">\n",
       "      <th></th>\n",
       "      <th>W</th>\n",
       "      <th>B</th>\n",
       "      <th>G</th>\n",
       "      <th>size</th>\n",
       "      <th>min_robustness</th>\n",
       "      <th>mean_robustness</th>\n",
       "      <th>max_specificity</th>\n",
       "      <th>mean_specificity</th>\n",
       "      <th>mean_log_degree</th>\n",
       "      <th>std_log_degree</th>\n",
       "      <th>KS_statistic</th>\n",
       "      <th>euclidean_distance</th>\n",
       "    </tr>\n",
       "  </thead>\n",
       "  <tbody>\n",
       "    <tr>\n",
       "      <th>W_0.50_B_1.00_G_3.00</th>\n",
       "      <td>0.50</td>\n",
       "      <td>1.00</td>\n",
       "      <td>3.00</td>\n",
       "      <td>399</td>\n",
       "      <td>0.23</td>\n",
       "      <td>0.640501</td>\n",
       "      <td>0.75</td>\n",
       "      <td>0.116416</td>\n",
       "      <td>5.478399</td>\n",
       "      <td>1.921619</td>\n",
       "      <td>0.496250</td>\n",
       "      <td>0.377878</td>\n",
       "    </tr>\n",
       "    <tr>\n",
       "      <th>W_0.50_B_1.00_G_4.00</th>\n",
       "      <td>0.50</td>\n",
       "      <td>1.00</td>\n",
       "      <td>4.00</td>\n",
       "      <td>400</td>\n",
       "      <td>0.02</td>\n",
       "      <td>0.289325</td>\n",
       "      <td>0.14</td>\n",
       "      <td>0.025250</td>\n",
       "      <td>5.013172</td>\n",
       "      <td>1.416217</td>\n",
       "      <td>0.461917</td>\n",
       "      <td>0.711123</td>\n",
       "    </tr>\n",
       "    <tr>\n",
       "      <th>W_0.50_B_2.00_G_3.00</th>\n",
       "      <td>0.50</td>\n",
       "      <td>2.00</td>\n",
       "      <td>3.00</td>\n",
       "      <td>400</td>\n",
       "      <td>0.69</td>\n",
       "      <td>0.955300</td>\n",
       "      <td>0.98</td>\n",
       "      <td>0.123550</td>\n",
       "      <td>4.832091</td>\n",
       "      <td>1.920192</td>\n",
       "      <td>0.380968</td>\n",
       "      <td>0.131388</td>\n",
       "    </tr>\n",
       "    <tr>\n",
       "      <th>W_0.50_B_2.00_G_4.00</th>\n",
       "      <td>0.50</td>\n",
       "      <td>2.00</td>\n",
       "      <td>4.00</td>\n",
       "      <td>399</td>\n",
       "      <td>0.24</td>\n",
       "      <td>0.774687</td>\n",
       "      <td>0.38</td>\n",
       "      <td>0.068145</td>\n",
       "      <td>4.928508</td>\n",
       "      <td>1.436792</td>\n",
       "      <td>0.451981</td>\n",
       "      <td>0.235393</td>\n",
       "    </tr>\n",
       "    <tr>\n",
       "      <th>W_1.00_B_1.00_G_3.00</th>\n",
       "      <td>1.00</td>\n",
       "      <td>1.00</td>\n",
       "      <td>3.00</td>\n",
       "      <td>400</td>\n",
       "      <td>0.23</td>\n",
       "      <td>0.638000</td>\n",
       "      <td>0.75</td>\n",
       "      <td>0.117800</td>\n",
       "      <td>5.502732</td>\n",
       "      <td>1.909796</td>\n",
       "      <td>0.501914</td>\n",
       "      <td>0.380685</td>\n",
       "    </tr>\n",
       "    <tr>\n",
       "      <th>W_1.00_B_1.00_G_4.00</th>\n",
       "      <td>1.00</td>\n",
       "      <td>1.00</td>\n",
       "      <td>4.00</td>\n",
       "      <td>400</td>\n",
       "      <td>0.03</td>\n",
       "      <td>0.285750</td>\n",
       "      <td>0.14</td>\n",
       "      <td>0.024025</td>\n",
       "      <td>5.017132</td>\n",
       "      <td>1.430268</td>\n",
       "      <td>0.466917</td>\n",
       "      <td>0.714654</td>\n",
       "    </tr>\n",
       "    <tr>\n",
       "      <th>W_1.00_B_2.00_G_3.00</th>\n",
       "      <td>1.00</td>\n",
       "      <td>2.00</td>\n",
       "      <td>3.00</td>\n",
       "      <td>400</td>\n",
       "      <td>0.74</td>\n",
       "      <td>0.961525</td>\n",
       "      <td>1.00</td>\n",
       "      <td>0.123000</td>\n",
       "      <td>4.765686</td>\n",
       "      <td>1.975827</td>\n",
       "      <td>0.373468</td>\n",
       "      <td>0.128877</td>\n",
       "    </tr>\n",
       "    <tr>\n",
       "      <th>W_1.00_B_2.00_G_4.00</th>\n",
       "      <td>1.00</td>\n",
       "      <td>2.00</td>\n",
       "      <td>4.00</td>\n",
       "      <td>400</td>\n",
       "      <td>0.37</td>\n",
       "      <td>0.828575</td>\n",
       "      <td>0.41</td>\n",
       "      <td>0.070325</td>\n",
       "      <td>4.794332</td>\n",
       "      <td>1.755181</td>\n",
       "      <td>0.392439</td>\n",
       "      <td>0.185289</td>\n",
       "    </tr>\n",
       "  </tbody>\n",
       "</table>\n",
       "</div>"
      ],
      "text/plain": [
       "                         W     B     G  size  min_robustness  mean_robustness  \\\n",
       "W_0.50_B_1.00_G_3.00  0.50  1.00  3.00   399            0.23         0.640501   \n",
       "W_0.50_B_1.00_G_4.00  0.50  1.00  4.00   400            0.02         0.289325   \n",
       "W_0.50_B_2.00_G_3.00  0.50  2.00  3.00   400            0.69         0.955300   \n",
       "W_0.50_B_2.00_G_4.00  0.50  2.00  4.00   399            0.24         0.774687   \n",
       "W_1.00_B_1.00_G_3.00  1.00  1.00  3.00   400            0.23         0.638000   \n",
       "W_1.00_B_1.00_G_4.00  1.00  1.00  4.00   400            0.03         0.285750   \n",
       "W_1.00_B_2.00_G_3.00  1.00  2.00  3.00   400            0.74         0.961525   \n",
       "W_1.00_B_2.00_G_4.00  1.00  2.00  4.00   400            0.37         0.828575   \n",
       "\n",
       "                      max_specificity  mean_specificity  mean_log_degree  \\\n",
       "W_0.50_B_1.00_G_3.00             0.75          0.116416         5.478399   \n",
       "W_0.50_B_1.00_G_4.00             0.14          0.025250         5.013172   \n",
       "W_0.50_B_2.00_G_3.00             0.98          0.123550         4.832091   \n",
       "W_0.50_B_2.00_G_4.00             0.38          0.068145         4.928508   \n",
       "W_1.00_B_1.00_G_3.00             0.75          0.117800         5.502732   \n",
       "W_1.00_B_1.00_G_4.00             0.14          0.024025         5.017132   \n",
       "W_1.00_B_2.00_G_3.00             1.00          0.123000         4.765686   \n",
       "W_1.00_B_2.00_G_4.00             0.41          0.070325         4.794332   \n",
       "\n",
       "                      std_log_degree  KS_statistic  euclidean_distance  \n",
       "W_0.50_B_1.00_G_3.00        1.921619      0.496250            0.377878  \n",
       "W_0.50_B_1.00_G_4.00        1.416217      0.461917            0.711123  \n",
       "W_0.50_B_2.00_G_3.00        1.920192      0.380968            0.131388  \n",
       "W_0.50_B_2.00_G_4.00        1.436792      0.451981            0.235393  \n",
       "W_1.00_B_1.00_G_3.00        1.909796      0.501914            0.380685  \n",
       "W_1.00_B_1.00_G_4.00        1.430268      0.466917            0.714654  \n",
       "W_1.00_B_2.00_G_3.00        1.975827      0.373468            0.128877  \n",
       "W_1.00_B_2.00_G_4.00        1.755181      0.392439            0.185289  "
      ]
     },
     "execution_count": 14,
     "metadata": {},
     "output_type": "execute_result"
    }
   ],
   "source": [
    "robust_summary = graph.generate_basic_statistics(robust_networks)\n",
    "robust_summary"
   ]
  },
  {
   "cell_type": "markdown",
   "metadata": {},
   "source": [
    "Plot relevant features"
   ]
  },
  {
   "cell_type": "code",
   "execution_count": 21,
   "metadata": {},
   "outputs": [
    {
     "data": {
      "image/png": "[encoded data removed]",
      "text/plain": [
       "<Figure size 576x576 with 1 Axes>"
      ]
     },
     "metadata": {},
     "output_type": "display_data"
    }
   ],
   "source": [
    "with plt.rc_context(dict(sns.axes_style(\"whitegrid\"), **sns.plotting_context(\"notebook\", font_scale=1.5))):\n",
    "    \n",
    "    fig, ax = plt.subplots(figsize=(8,8))\n",
    "    \n",
    "    sns.scatterplot(data=robust_summary, x=\"mean_robustness\", y=\"mean_specificity\", hue=\"mean_log_degree\", ax=ax, legend=False)\n",
    "    \n",
    "    ax.set(xlabel=\"Mean robustness score\", ylabel=\"Mean specificity score\")"
   ]
  },
  {
   "cell_type": "code",
   "execution_count": null,
   "metadata": {},
   "outputs": [],
   "source": []
  }
 ],
 "metadata": {
  "kernelspec": {
   "display_name": "Python 3",
   "language": "python",
   "name": "python3"
  },
  "language_info": {
   "codemirror_mode": {
    "name": "ipython",
    "version": 3
   },
   "file_extension": ".py",
   "mimetype": "text/x-python",
   "name": "python",
   "nbconvert_exporter": "python",
   "pygments_lexer": "ipython3",
   "version": "3.6.5"
  }
 },
 "nbformat": 4,
 "nbformat_minor": 2
}
