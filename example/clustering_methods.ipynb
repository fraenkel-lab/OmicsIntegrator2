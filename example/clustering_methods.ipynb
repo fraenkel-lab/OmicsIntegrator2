{
 "cells": [
  {
   "cell_type": "markdown",
   "metadata": {},
   "source": [
    "# Clustering Methods\n",
    "### Methods Included: Louvain Clustering, Edge-Betweenness Clustering, and K-Clique Clustering"
   ]
  },
  {
   "cell_type": "code",
   "execution_count": 1,
   "metadata": {
    "collapsed": true
   },
   "outputs": [],
   "source": [
    "import networkx as nx\n",
    "import itertools\n",
    "import community #note: community installation requires running setup.py from https://github.com/taynaud/python-louvain/"
   ]
  },
  {
   "cell_type": "markdown",
   "metadata": {},
   "source": [
    "## Louvain Clustering"
   ]
  },
  {
   "cell_type": "code",
   "execution_count": 2,
   "metadata": {
    "collapsed": true
   },
   "outputs": [],
   "source": [
    "def louvain_clustering(nxgraph):\n",
    "    \"\"\"Uses Lovain Clustering to find communities for all nodes in forest.\n",
    "    \n",
    "    Notes:\n",
    "    Optimizes modularity (the measure of density of edges inside \n",
    "    community to edges outside communities)\n",
    "    Implemented using community.best_partition method\n",
    "    \n",
    "    Parameters:\n",
    "    nxgraph (networkx.Graph): a networkx graph object\n",
    "\n",
    "    Returns:\n",
    "    Sorted list of tuples, in which for each tuple, the first number\n",
    "    is the node number and the second is the cluster number.\n",
    "    \n",
    "    \"\"\"\n",
    "    # Louvain clustering\n",
    "    partition = community.best_partition(nxgraph)\n",
    "    clusters = []\n",
    "    cluster_data = []\n",
    "    for com in set(partition.values()):\n",
    "        list_nodes = [nodes for nodes in partition.keys() if partition.keys() if partition[nodes] == com]\n",
    "        clusters.append(list_nodes)\n",
    "    clusters.sort(key=lambda a: -len(a)) \n",
    "\n",
    "    # write out cluster information\n",
    "    for i, cluster in enumerate(clusters):\n",
    "        for node in cluster:\n",
    "            cluster_data.append((i,node))\n",
    "    return cluster_data"
   ]
  },
  {
   "cell_type": "markdown",
   "metadata": {},
   "source": [
    "## Edge-Betweenness Clustering"
   ]
  },
  {
   "cell_type": "code",
   "execution_count": 3,
   "metadata": {},
   "outputs": [],
   "source": [
    "def girvan_newman(G, most_valuable_edge=None):\n",
    "    \"\"\"Finds communities in a graph using the Girvan–Newman method.\n",
    "    \n",
    "    Notes:\n",
    "    The Girvan–Newman algorithm detects communities by progressively\n",
    "    removing edges from the original graph. The algorithm removes the\n",
    "    \"most valuable\" edge, traditionally the edge with the highest\n",
    "    betweenness centrality, at each step. As the graph breaks down into\n",
    "    pieces, the tightly knit community structure is exposed and the\n",
    "    result can be depicted as a dendrogram.\n",
    "\n",
    "    Parameters:\n",
    "    G : NetworkX graph\n",
    "\n",
    "    most_valuable_edge : function\n",
    "        Function that takes a graph as input and outputs an edge. The\n",
    "        edge returned by this function will be recomputed and removed at\n",
    "        each iteration of the algorithm.\n",
    "\n",
    "        If not specified, the edge with the highest\n",
    "        :func:`networkx.edge_betweenness_centrality` will be used.\n",
    "\n",
    "    Returns:\n",
    "    iterator\n",
    "        Iterator over tuples of sets of nodes in `G`. Each set of node\n",
    "        is a community, each tuple is a sequence of communities at a\n",
    "        particular level of the algorithm.\n",
    "\n",
    "    \"\"\"\n",
    "    # If the graph is already empty, simply return its connected\n",
    "    # components.\n",
    "    if G.number_of_edges() == 0:\n",
    "        yield tuple(nx.connected_components(G))\n",
    "        return\n",
    "    # If no function is provided for computing the most valuable edge,\n",
    "    # use the edge betweenness centrality.\n",
    "    if most_valuable_edge is None:\n",
    "        def most_valuable_edge(G):\n",
    "            \"\"\"Returns the edge with the highest betweenness centrality\n",
    "            in the graph `G`.\n",
    "            \"\"\"\n",
    "            # We have guaranteed that the graph is non-empty, so this\n",
    "            # dictionary will never be empty.\n",
    "            betweenness = nx.edge_betweenness_centrality(G)\n",
    "            return max(betweenness, key=betweenness.get)\n",
    "    # The copy of G here must include the edge weight data.\n",
    "    g = G.copy().to_undirected()\n",
    "    # Self-loops must be removed because their removal has no effect on\n",
    "    # the connected components of the graph.\n",
    "    g.remove_edges_from(g.selfloop_edges())\n",
    "    while g.number_of_edges() > 0:\n",
    "        yield _without_most_central_edges(g, most_valuable_edge)\n",
    "\n",
    "def _without_most_central_edges(G, most_valuable_edge):\n",
    "    \"\"\"Returns the connected components of the graph that results from\n",
    "    repeatedly removing the most \"valuable\" edge in the graph.\n",
    "\n",
    "    Notes:\n",
    "    `most_valuable_edge` is a function that takes the graph `G` as input\n",
    "    (or a subgraph with one or more edges of `G` removed) and returns an\n",
    "    edge. That edge will be removed and this process will be repeated\n",
    "    until the number of connected components in the graph increases.\n",
    "\n",
    "\n",
    "    Parameters:\n",
    "    `G` must be a non-empty graph. This function modifies the graph `G`\n",
    "    in-place; that is, it removes edges on the graph `G`.\n",
    "    \n",
    "    Returns:\n",
    "    New_Components: Connected components of graph.\n",
    "\n",
    "    \"\"\"\n",
    "    original_num_components = nx.number_connected_components(G)\n",
    "    num_new_components = original_num_components\n",
    "    while num_new_components <= original_num_components:\n",
    "        edge = most_valuable_edge(G)\n",
    "        G.remove_edge(*edge)\n",
    "        new_components = tuple(nx.connected_components(G))\n",
    "        num_new_components = len(new_components)\n",
    "    return new_components\n",
    "\n",
    "def most_central_edge(nxgraph):\n",
    "    \"\"\"Uses betweenness centrality to find the most central edge.\n",
    "   \n",
    "    Parameters:\n",
    "    nxgraph (networkx.Graph): a networkx graph object\n",
    "    \n",
    "    Returns:\n",
    "    edge: most central edge\n",
    "    \"\"\"\n",
    "    \n",
    "    centrality = nx.edge_betweenness_centrality(nxgraph, weight='weight')\n",
    "    return max(centrality, key=centrality.get)\n",
    "\n",
    "def betweenness_clustering(nxgraph, clusternum):\n",
    "    \"\"\"Clusters based on edge-betweenness, which finds the number \n",
    "    of shortest paths between pairs of nodes.\n",
    "    \n",
    "    Notes:\n",
    "    Uses the Girvan-Newman algorith to calculate betwennness of all\n",
    "    existing edges, remove edge with highest betweennnes, then recalculate \n",
    "    all affected edge betwennness scores, and repeat until no more edges remain\n",
    "\n",
    "    Parameters: \n",
    "    clusternum: Number of clusters\n",
    "    nxgraph (networkx.Graph): a networkx graph object\n",
    "    \n",
    "    Returns:\n",
    "    Sorted list of tuples, in which for each tuple, the first number is\n",
    "    the node number and the second is the cluster number.\n",
    "    \n",
    "    \"\"\"\n",
    "    cluster_data = []\n",
    "    comp = girvan_newman(nxgraph, most_valuable_edge=most_central_edge)\n",
    "    limited = itertools.takewhile(lambda c: len(c) <= clusternum, comp)\n",
    "    for communities in limited:\n",
    "        comm_arr = (tuple(sorted(c) for c in communities))\n",
    "    try:\n",
    "        for i in range(len(comm_arr)):\n",
    "            for j in range(len(comm_arr[i])):\n",
    "                curnode = (comm_arr[i])[j];\n",
    "                cluster_data.append((i,curnode))\n",
    "    except UnboundLocalError:\n",
    "        print(\"Cluster number is too low to sufficiently use this method. Try a higher value\")\n",
    "    return cluster_data\n"
   ]
  },
  {
   "cell_type": "markdown",
   "metadata": {},
   "source": [
    "## K-Clique Clustering"
   ]
  },
  {
   "cell_type": "code",
   "execution_count": 4,
   "metadata": {
    "collapsed": true
   },
   "outputs": [],
   "source": [
    "def kclique_clustering(nxgraph, clusterdist):\n",
    "    \"\"\"\n",
    "    Notes: \n",
    "    K-clique clustering is useful in analyzing overlapping network\n",
    "    community structure.\n",
    "    The function finds K-clique communities, which are the union \n",
    "    of all cliques of size k that can \n",
    "    be reached through adjacent (sharing k-1 nodes) k-cliques\n",
    "\n",
    "    Parameters: \n",
    "    clusterdist: Size of smallest clique desired\n",
    "    nxgraph (networkx.Graph): a networkx graph object\n",
    "    \n",
    "    Returns:\n",
    "    Sorted list of tuples, in which for each tuple, the first number \n",
    "    is the node number and the second is the cluster number.\n",
    "    \n",
    "    \"\"\"\n",
    "    cluster_data = []\n",
    "    comp = list(nx.k_clique_communities(nxgraph, clusterdist))\n",
    "    clusternum = len(list(comp))\n",
    "    if clusternum>0:\n",
    "        for j in range(clusternum):\n",
    "            for k in range(len(list(list(comp)[j]))):\n",
    "                curnode = ((list(list(comp)[j]))[k])\n",
    "                cluster_data.append((j,curnode))\n",
    "        return cluster_data \n",
    "    else:\n",
    "        return 0"
   ]
  },
  {
   "cell_type": "markdown",
   "metadata": {},
   "source": [
    "# Testing Clustering Methods"
   ]
  },
  {
   "cell_type": "code",
   "execution_count": 5,
   "metadata": {},
   "outputs": [
    {
     "name": "stderr",
     "output_type": "stream",
     "text": [
      "/Library/Frameworks/Python.framework/Versions/3.4/lib/python3.4/site-packages/networkx/drawing/nx_pylab.py:126: MatplotlibDeprecationWarning: pyplot.hold is deprecated.\n",
      "    Future behavior will be consistent with the long-time default:\n",
      "    plot commands add elements without first clearing the\n",
      "    Axes and/or Figure.\n",
      "  b = plt.ishold()\n",
      "/Library/Frameworks/Python.framework/Versions/3.4/lib/python3.4/site-packages/networkx/drawing/nx_pylab.py:138: MatplotlibDeprecationWarning: pyplot.hold is deprecated.\n",
      "    Future behavior will be consistent with the long-time default:\n",
      "    plot commands add elements without first clearing the\n",
      "    Axes and/or Figure.\n",
      "  plt.hold(b)\n",
      "/Library/Frameworks/Python.framework/Versions/3.4/lib/python3.4/site-packages/matplotlib/__init__.py:917: UserWarning: axes.hold is deprecated. Please remove it from your matplotlibrc and/or style files.\n",
      "  warnings.warn(self.msg_depr_set % key)\n",
      "/Library/Frameworks/Python.framework/Versions/3.4/lib/python3.4/site-packages/matplotlib/rcsetup.py:152: UserWarning: axes.hold is deprecated, will be removed in 3.0\n",
      "  warnings.warn(\"axes.hold is deprecated, will be removed in 3.0\")\n"
     ]
    },
    {
     "data": {
      "image/png": "[encoded data removed]",
      "text/plain": [
       "<matplotlib.figure.Figure at 0x106645710>"
      ]
     },
     "metadata": {},
     "output_type": "display_data"
    }
   ],
   "source": [
    "import matplotlib.pyplot as plt #only needed here for visualization\n",
    "G = nx.erdos_renyi_graph(30, 0.05)\n",
    "\n",
    "nx.draw(G)\n",
    "plt.show()"
   ]
  },
  {
   "cell_type": "code",
   "execution_count": 7,
   "metadata": {},
   "outputs": [
    {
     "name": "stdout",
     "output_type": "stream",
     "text": [
      "louvain_test cluster list:[(0, 1), (0, 5), (0, 16), (0, 26), (0, 28), (1, 3), (1, 18), (1, 19), (1, 20), (1, 29), (2, 4), (2, 6), (2, 7), (2, 12), (2, 22), (3, 9), (3, 13), (3, 24), (4, 11), (4, 15), (4, 23), (5, 0), (5, 21), (6, 14), (6, 25), (7, 2), (8, 8), (9, 10), (10, 17), (11, 27)]\n",
      "edge-betweenness cluster list:[(0, 0), (0, 21), (1, 1), (1, 3), (1, 5), (1, 16), (1, 18), (1, 19), (1, 20), (1, 29), (2, 2), (3, 4), (3, 12), (3, 22), (3, 26), (3, 28), (4, 6), (4, 7), (5, 8), (6, 9), (6, 13), (6, 24), (7, 10), (8, 11), (8, 15), (8, 23), (9, 14), (9, 25), (10, 17), (11, 27)]\n",
      "k-clique cluster list:[(0, 1), (0, 3), (0, 4), (0, 5), (0, 6), (0, 7), (0, 12), (0, 16), (0, 18), (0, 19), (0, 20), (0, 22), (0, 26), (0, 28), (0, 29), (1, 15), (1, 11), (1, 23), (2, 0), (2, 21), (3, 25), (3, 14), (4, 24), (4, 9), (4, 13)]\n"
     ]
    }
   ],
   "source": [
    "louvain_test = louvain_clustering(G)\n",
    "print('louvain_test cluster list:{}'.format(louvain_test))\n",
    "\n",
    "betweenness_test = betweenness_clustering(G, 12)\n",
    "print('edge-betweenness cluster list:{}'.format(betweenness_test))\n",
    "\n",
    "kclique_test = kclique_clustering(G, 2)\n",
    "print('k-clique cluster list:{}'.format(kclique_test))"
   ]
  }
 ],
 "metadata": {
  "kernelspec": {
   "display_name": "Python 3",
   "language": "python",
   "name": "python3"
  },
  "language_info": {
   "codemirror_mode": {
    "name": "ipython",
    "version": 3
   },
   "file_extension": ".py",
   "mimetype": "text/x-python",
   "name": "python",
   "nbconvert_exporter": "python",
   "pygments_lexer": "ipython3",
   "version": "3.6.5"
  }
 },
 "nbformat": 4,
 "nbformat_minor": 2
}
