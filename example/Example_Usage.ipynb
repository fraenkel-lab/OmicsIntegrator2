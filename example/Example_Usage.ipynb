{
 "cells": [
  {
   "cell_type": "markdown",
   "metadata": {},
   "source": [
    "# Using the OmicsIntegrator Package"
   ]
  },
  {
   "cell_type": "code",
   "execution_count": 1,
   "metadata": {},
   "outputs": [],
   "source": [
    "%matplotlib inline\n",
    "import numpy as np\n",
    "import pandas as pd\n",
    "import networkx as nx"
   ]
  },
  {
   "cell_type": "code",
   "execution_count": 2,
   "metadata": {},
   "outputs": [],
   "source": [
    "# Use the following lines to test the basic functionality of the package if developing locally: \n",
    "import sys\n",
    "sys.path.insert(0, \"/Users/alex/Documents/OmicsIntegrator2/src\")\n",
    "import graph as oi\n",
    "\n",
    "# import OmicsIntegrator as oi"
   ]
  },
  {
   "cell_type": "code",
   "execution_count": 3,
   "metadata": {},
   "outputs": [],
   "source": [
    "interactome_file = \"../interactomes/inbiomap.9.12.2016.exp.oi2\"\n",
    "prize_file = \"/Users/alex/Documents/abcd1/human_deseq_prizes_200.tsv\"\n",
    "graph = oi.Graph(interactome_file, {'g':5})"
   ]
  },
  {
   "cell_type": "code",
   "execution_count": 4,
   "metadata": {},
   "outputs": [
    {
     "name": "stderr",
     "output_type": "stream",
     "text": [
      "07:37:56 - OI2: INFO - Duplicated gene symbols in the prize file (we'll keep the max prize):\n",
      "07:37:56 - OI2: INFO - []\n",
      "07:37:56 - OI2: INFO - Members of the prize file not present in the interactome:\n",
      "07:37:56 - OI2: INFO - ['ATP6V0E1', 'CXorf36', 'GLT25D1', 'NORAD', 'TNFSF4']\n"
     ]
    }
   ],
   "source": [
    "graph.prepare_prizes(prize_file)"
   ]
  },
  {
   "cell_type": "code",
   "execution_count": 5,
   "metadata": {},
   "outputs": [],
   "source": [
    "vertex_indices, edge_indices = graph.pcsf()"
   ]
  },
  {
   "cell_type": "code",
   "execution_count": 6,
   "metadata": {},
   "outputs": [
    {
     "data": {
      "text/plain": [
       "77"
      ]
     },
     "execution_count": 6,
     "metadata": {},
     "output_type": "execute_result"
    }
   ],
   "source": [
    "len(vertex_indices)"
   ]
  },
  {
   "cell_type": "code",
   "execution_count": 7,
   "metadata": {
    "scrolled": false
   },
   "outputs": [
    {
     "data": {
      "text/plain": [
       "<networkx.classes.graph.Graph at 0x128a78ac8>"
      ]
     },
     "execution_count": 7,
     "metadata": {},
     "output_type": "execute_result"
    }
   ],
   "source": [
    "forest, augmented_forest = graph.output_forest_as_networkx(vertex_indices, edge_indices)\n",
    "forest"
   ]
  },
  {
   "cell_type": "code",
   "execution_count": 8,
   "metadata": {
    "scrolled": true
   },
   "outputs": [
    {
     "data": {
      "image/png": "[encoded data removed]",
      "text/plain": [
       "<Figure size 432x288 with 1 Axes>"
      ]
     },
     "metadata": {},
     "output_type": "display_data"
    }
   ],
   "source": [
    "nx.draw_spring(augmented_forest)"
   ]
  },
  {
   "cell_type": "code",
   "execution_count": 9,
   "metadata": {},
   "outputs": [
    {
     "data": {
      "text/plain": [
       "371.7926050647195"
      ]
     },
     "execution_count": 9,
     "metadata": {},
     "output_type": "execute_result"
    }
   ],
   "source": [
    "graph.pcsf_objective_value(forest)"
   ]
  },
  {
   "cell_type": "code",
   "execution_count": 10,
   "metadata": {
    "scrolled": true
   },
   "outputs": [
    {
     "data": {
      "text/html": [
       "<div>\n",
       "<style scoped>\n",
       "    .dataframe tbody tr th:only-of-type {\n",
       "        vertical-align: middle;\n",
       "    }\n",
       "\n",
       "    .dataframe tbody tr th {\n",
       "        vertical-align: top;\n",
       "    }\n",
       "\n",
       "    .dataframe thead th {\n",
       "        text-align: right;\n",
       "    }\n",
       "</style>\n",
       "<table border=\"1\" class=\"dataframe\">\n",
       "  <thead>\n",
       "    <tr style=\"text-align: right;\">\n",
       "      <th></th>\n",
       "      <th>Base_Mean</th>\n",
       "      <th>P_adj</th>\n",
       "      <th>P_value</th>\n",
       "      <th>StdErr</th>\n",
       "      <th>Wald_Stats</th>\n",
       "      <th>betweenness</th>\n",
       "      <th>degree</th>\n",
       "      <th>general_function</th>\n",
       "      <th>general_process</th>\n",
       "      <th>location</th>\n",
       "      <th>log2FC</th>\n",
       "      <th>louvain_clusters</th>\n",
       "      <th>prize</th>\n",
       "      <th>specific_function</th>\n",
       "      <th>specific_process</th>\n",
       "      <th>terminal</th>\n",
       "      <th>type</th>\n",
       "    </tr>\n",
       "  </thead>\n",
       "  <tbody>\n",
       "    <tr>\n",
       "      <th>MGP</th>\n",
       "      <td>3291.13</td>\n",
       "      <td>1e-310</td>\n",
       "      <td>1e-309</td>\n",
       "      <td>0.0591522</td>\n",
       "      <td>-44.1232</td>\n",
       "      <td>0</td>\n",
       "      <td>1</td>\n",
       "      <td>structural molecule</td>\n",
       "      <td>multicellular organismal process</td>\n",
       "      <td>extracellular</td>\n",
       "      <td>2.60999</td>\n",
       "      <td>0</td>\n",
       "      <td>3.1</td>\n",
       "      <td>extracellular matrix structural constituent</td>\n",
       "      <td>multicellular organism development</td>\n",
       "      <td>True</td>\n",
       "      <td>protein</td>\n",
       "    </tr>\n",
       "    <tr>\n",
       "      <th>SEMA3A</th>\n",
       "      <td>1374.13</td>\n",
       "      <td>2.48754e-235</td>\n",
       "      <td>6.61636e-238</td>\n",
       "      <td>0.0850569</td>\n",
       "      <td>-32.9364</td>\n",
       "      <td>0</td>\n",
       "      <td>3</td>\n",
       "      <td>binding</td>\n",
       "      <td>multicellular organismal process</td>\n",
       "      <td>plasma_membrane</td>\n",
       "      <td>2.80147</td>\n",
       "      <td>1</td>\n",
       "      <td>2.34604</td>\n",
       "      <td>protein binding</td>\n",
       "      <td>multicellular organism development</td>\n",
       "      <td>True</td>\n",
       "      <td>protein</td>\n",
       "    </tr>\n",
       "    <tr>\n",
       "      <th>GAPDH</th>\n",
       "      <td>31700.4</td>\n",
       "      <td>6.54201e-180</td>\n",
       "      <td>3.04507e-182</td>\n",
       "      <td>0.0355422</td>\n",
       "      <td>-28.7878</td>\n",
       "      <td>0</td>\n",
       "      <td>205</td>\n",
       "      <td>binding</td>\n",
       "      <td>biological regulation</td>\n",
       "      <td>nucleus</td>\n",
       "      <td>1.02318</td>\n",
       "      <td>2</td>\n",
       "      <td>1.79184</td>\n",
       "      <td>protein binding</td>\n",
       "      <td>regulation of biological process</td>\n",
       "      <td>True</td>\n",
       "      <td>protein</td>\n",
       "    </tr>\n",
       "    <tr>\n",
       "      <th>RHOH</th>\n",
       "      <td>NaN</td>\n",
       "      <td>NaN</td>\n",
       "      <td>NaN</td>\n",
       "      <td>NaN</td>\n",
       "      <td>NaN</td>\n",
       "      <td>0.211579</td>\n",
       "      <td>8</td>\n",
       "      <td>binding</td>\n",
       "      <td>biological regulation</td>\n",
       "      <td>cytoplasm</td>\n",
       "      <td>NaN</td>\n",
       "      <td>3</td>\n",
       "      <td>0</td>\n",
       "      <td>protein binding</td>\n",
       "      <td>regulation of biological process</td>\n",
       "      <td>False</td>\n",
       "      <td>protein</td>\n",
       "    </tr>\n",
       "    <tr>\n",
       "      <th>EI24</th>\n",
       "      <td>1952.78</td>\n",
       "      <td>1.06316e-211</td>\n",
       "      <td>3.6231e-214</td>\n",
       "      <td>0.0658995</td>\n",
       "      <td>31.2345</td>\n",
       "      <td>0.0519298</td>\n",
       "      <td>7</td>\n",
       "      <td>NaN</td>\n",
       "      <td>biological regulation</td>\n",
       "      <td>ER</td>\n",
       "      <td>-2.05834</td>\n",
       "      <td>3</td>\n",
       "      <td>2.10973</td>\n",
       "      <td>NaN</td>\n",
       "      <td>regulation of biological process</td>\n",
       "      <td>True</td>\n",
       "      <td>protein</td>\n",
       "    </tr>\n",
       "  </tbody>\n",
       "</table>\n",
       "</div>"
      ],
      "text/plain": [
       "       Base_Mean         P_adj       P_value     StdErr Wald_Stats  \\\n",
       "MGP      3291.13        1e-310        1e-309  0.0591522   -44.1232   \n",
       "SEMA3A   1374.13  2.48754e-235  6.61636e-238  0.0850569   -32.9364   \n",
       "GAPDH    31700.4  6.54201e-180  3.04507e-182  0.0355422   -28.7878   \n",
       "RHOH         NaN           NaN           NaN        NaN        NaN   \n",
       "EI24     1952.78  1.06316e-211   3.6231e-214  0.0658995    31.2345   \n",
       "\n",
       "       betweenness degree     general_function  \\\n",
       "MGP              0      1  structural molecule   \n",
       "SEMA3A           0      3              binding   \n",
       "GAPDH            0    205              binding   \n",
       "RHOH      0.211579      8              binding   \n",
       "EI24     0.0519298      7                  NaN   \n",
       "\n",
       "                         general_process         location   log2FC  \\\n",
       "MGP     multicellular organismal process    extracellular  2.60999   \n",
       "SEMA3A  multicellular organismal process  plasma_membrane  2.80147   \n",
       "GAPDH              biological regulation          nucleus  1.02318   \n",
       "RHOH               biological regulation        cytoplasm      NaN   \n",
       "EI24               biological regulation               ER -2.05834   \n",
       "\n",
       "       louvain_clusters    prize                            specific_function  \\\n",
       "MGP                   0      3.1  extracellular matrix structural constituent   \n",
       "SEMA3A                1  2.34604                              protein binding   \n",
       "GAPDH                 2  1.79184                              protein binding   \n",
       "RHOH                  3        0                              protein binding   \n",
       "EI24                  3  2.10973                                          NaN   \n",
       "\n",
       "                          specific_process terminal     type  \n",
       "MGP     multicellular organism development     True  protein  \n",
       "SEMA3A  multicellular organism development     True  protein  \n",
       "GAPDH     regulation of biological process     True  protein  \n",
       "RHOH      regulation of biological process    False  protein  \n",
       "EI24      regulation of biological process     True  protein  "
      ]
     },
     "execution_count": 10,
     "metadata": {},
     "output_type": "execute_result"
    }
   ],
   "source": [
    "oi.get_networkx_graph_as_dataframe_of_nodes(augmented_forest).head()"
   ]
  },
  {
   "cell_type": "code",
   "execution_count": 12,
   "metadata": {
    "scrolled": false
   },
   "outputs": [
    {
     "name": "stderr",
     "output_type": "stream",
     "text": [
      "03:03:01 - OI2: INFO - Inferring display parameters for StdErr\n",
      "03:03:01 - OI2: INFO - Inferring display parameters for log2FC\n",
      "03:03:01 - OI2: INFO - Inferring display parameters for Wald_Stats\n",
      "03:03:01 - OI2: INFO - Inferring display parameters for Base_Mean\n",
      "03:03:01 - OI2: INFO - Inferring display parameters for P_adj\n",
      "03:03:01 - OI2: INFO - Inferring display parameters for P_value\n",
      "03:03:01 - OI2: INFO - Final display parameters:\n",
      "03:03:01 - OI2: INFO - \n",
      "{\n",
      "    \"prize\": {\n",
      "        \"display\": \"color_scale\",\n",
      "        \"domain\": \"[0, 1e-10, 5.517829854063881]\",\n",
      "        \"range\": \"[\\\"lightgrey\\\", \\\"white\\\", \\\"red\\\"]\"\n",
      "    },\n",
      "    \"degree\": {\n",
      "        \"display\": \"color_scale\",\n",
      "        \"domain\": \"[0, 230]\",\n",
      "        \"range\": \"[\\\"lightblue\\\", \\\"red\\\"]\"\n",
      "    },\n",
      "    \"betweenness\": {\n",
      "        \"display\": \"color_scale\",\n",
      "        \"domain\": \"[0, 0.5398830409356724]\",\n",
      "        \"range\": \"[\\\"purple\\\", \\\"orange\\\"]\"\n",
      "    },\n",
      "    \"terminal\": {\n",
      "        \"display\": \"color_scale\",\n",
      "        \"domain\": \"[false, true]\",\n",
      "        \"range\": \"[\\\"grey\\\", \\\"orange\\\"]\"\n",
      "    },\n",
      "    \"type\": {\n",
      "        \"display\": \"shape\"\n",
      "    },\n",
      "    \"louvain_clusters\": {\n",
      "        \"display\": \"box\"\n",
      "    },\n",
      "    \"location\": {\n",
      "        \"display\": \"box\"\n",
      "    },\n",
      "    \"general_function\": {\n",
      "        \"display\": \"color_category\"\n",
      "    },\n",
      "    \"specific_function\": {\n",
      "        \"display\": \"color_category\"\n",
      "    },\n",
      "    \"general_process\": {\n",
      "        \"display\": \"box\"\n",
      "    },\n",
      "    \"specific_process\": {\n",
      "        \"display\": \"box\"\n",
      "    },\n",
      "    \"StdErr\": {\n",
      "        \"display\": \"color_scale\",\n",
      "        \"domain\": \"[0,0.183204989068986]\",\n",
      "        \"range\": \"[\\\"white\\\",\\\"red\\\"]\"\n",
      "    },\n",
      "    \"log2FC\": {\n",
      "        \"display\": \"color_scale\",\n",
      "        \"domain\": \"[-4.56655174140561,0,3.26836757362648]\",\n",
      "        \"range\": \"[\\\"blue\\\",\\\"white\\\",\\\"red\\\"]\"\n",
      "    },\n",
      "    \"Wald_Stats\": {\n",
      "        \"display\": \"color_scale\",\n",
      "        \"domain\": \"[-59.06946534061829,0,107.73086935173401]\",\n",
      "        \"range\": \"[\\\"blue\\\",\\\"white\\\",\\\"red\\\"]\"\n",
      "    },\n",
      "    \"Base_Mean\": {\n",
      "        \"display\": \"color_scale\",\n",
      "        \"domain\": \"[206.70695642104096,31700.4426523927]\",\n",
      "        \"range\": \"[\\\"purple\\\",\\\"orange\\\"]\"\n",
      "    },\n",
      "    \"P_adj\": {\n",
      "        \"display\": \"color_scale\",\n",
      "        \"domain\": \"[0,1.6482177757121994e-52]\",\n",
      "        \"range\": \"[\\\"white\\\",\\\"red\\\"]\"\n",
      "    },\n",
      "    \"P_value\": {\n",
      "        \"display\": \"color_scale\",\n",
      "        \"domain\": \"[0,5.0209609741378285e-54]\",\n",
      "        \"range\": \"[\\\"white\\\",\\\"red\\\"]\"\n",
      "    }\n",
      "}\n"
     ]
    },
    {
     "data": {
      "text/plain": [
       "PosixPath('/Users/alex/Desktop/graph.html')"
      ]
     },
     "execution_count": 12,
     "metadata": {},
     "output_type": "execute_result"
    }
   ],
   "source": [
    "oi.output_networkx_graph_as_interactive_html(augmented_forest, output_dir='/Users/alex/Desktop/')"
   ]
  },
  {
   "cell_type": "code",
   "execution_count": null,
   "metadata": {},
   "outputs": [],
   "source": []
  },
  {
   "cell_type": "code",
   "execution_count": null,
   "metadata": {},
   "outputs": [],
   "source": []
  },
  {
   "cell_type": "code",
   "execution_count": null,
   "metadata": {},
   "outputs": [],
   "source": []
  },
  {
   "cell_type": "code",
   "execution_count": null,
   "metadata": {},
   "outputs": [],
   "source": []
  }
 ],
 "metadata": {
  "kernelspec": {
   "display_name": "Python 3",
   "language": "python",
   "name": "python3"
  },
  "language_info": {
   "codemirror_mode": {
    "name": "ipython",
    "version": 3
   },
   "file_extension": ".py",
   "mimetype": "text/x-python",
   "name": "python",
   "nbconvert_exporter": "python",
   "pygments_lexer": "ipython3",
   "version": "3.7.0"
  }
 },
 "nbformat": 4,
 "nbformat_minor": 2
}
