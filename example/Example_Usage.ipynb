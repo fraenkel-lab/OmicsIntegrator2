{
 "cells": [
  {
   "cell_type": "markdown",
   "metadata": {},
   "source": [
    "# Using the OmicsIntegrator Package"
   ]
  },
  {
   "cell_type": "code",
   "execution_count": 1,
   "metadata": {},
   "outputs": [],
   "source": [
    "%matplotlib inline\n",
    "import numpy as np\n",
    "import pandas as pd\n",
    "import networkx as nx"
   ]
  },
  {
   "cell_type": "code",
   "execution_count": 2,
   "metadata": {},
   "outputs": [],
   "source": [
    "# Use the following lines to test the basic functionality of the package if developing locally: \n",
    "import sys\n",
    "sys.path.insert(0, \"/Users/alex/Documents/OmicsIntegrator2/src\")\n",
    "import graph as oi\n",
    "\n",
    "# import OmicsIntegrator as oi"
   ]
  },
  {
   "cell_type": "code",
   "execution_count": 3,
   "metadata": {},
   "outputs": [],
   "source": [
    "interactome_file = \"../interactomes/inbiomap.9.12.2016.exp.oi2\"\n",
    "prize_file = \"/Users/alex/Documents/abcd1/human_deseq_prizes_200.tsv\"\n",
    "graph = oi.Graph(interactome_file, {'g':5})"
   ]
  },
  {
   "cell_type": "code",
   "execution_count": 4,
   "metadata": {},
   "outputs": [
    {
     "name": "stderr",
     "output_type": "stream",
     "text": [
      "03:02:18 - OI2: INFO - Duplicated gene symbols in the prize file (we'll keep the max prize):\n",
      "03:02:18 - OI2: INFO - []\n",
      "03:02:18 - OI2: INFO - Members of the prize file not present in the interactome:\n",
      "03:02:18 - OI2: INFO - ['ATP6V0E1', 'CXorf36', 'GLT25D1', 'NORAD', 'TNFSF4']\n"
     ]
    }
   ],
   "source": [
    "graph.prepare_prizes(prize_file)"
   ]
  },
  {
   "cell_type": "code",
   "execution_count": 5,
   "metadata": {},
   "outputs": [],
   "source": [
    "vertex_indices, edge_indices = graph.pcsf()"
   ]
  },
  {
   "cell_type": "code",
   "execution_count": 6,
   "metadata": {},
   "outputs": [
    {
     "data": {
      "text/plain": [
       "77"
      ]
     },
     "execution_count": 6,
     "metadata": {},
     "output_type": "execute_result"
    }
   ],
   "source": [
    "len(vertex_indices)"
   ]
  },
  {
   "cell_type": "code",
   "execution_count": 7,
   "metadata": {
    "scrolled": false
   },
   "outputs": [
    {
     "data": {
      "text/plain": [
       "<networkx.classes.graph.Graph at 0x125010a90>"
      ]
     },
     "execution_count": 7,
     "metadata": {},
     "output_type": "execute_result"
    }
   ],
   "source": [
    "forest, augmented_forest = graph.output_forest_as_networkx(vertex_indices, edge_indices)\n",
    "forest"
   ]
  },
  {
   "cell_type": "code",
   "execution_count": 8,
   "metadata": {
    "scrolled": true
   },
   "outputs": [
    {
     "data": {
      "image/png": "[encoded data removed]",
      "text/plain": [
       "<Figure size 432x288 with 1 Axes>"
      ]
     },
     "metadata": {},
     "output_type": "display_data"
    }
   ],
   "source": [
    "nx.draw_spring(augmented_forest)"
   ]
  },
  {
   "cell_type": "code",
   "execution_count": 9,
   "metadata": {},
   "outputs": [
    {
     "data": {
      "text/plain": [
       "371.7926050647195"
      ]
     },
     "execution_count": 9,
     "metadata": {},
     "output_type": "execute_result"
    }
   ],
   "source": [
    "graph.pcsf_objective_value(forest)"
   ]
  },
  {
   "cell_type": "code",
   "execution_count": 10,
   "metadata": {
    "scrolled": true
   },
   "outputs": [
    {
     "data": {
      "text/html": [
       "<div>\n",
       "<style scoped>\n",
       "    .dataframe tbody tr th:only-of-type {\n",
       "        vertical-align: middle;\n",
       "    }\n",
       "\n",
       "    .dataframe tbody tr th {\n",
       "        vertical-align: top;\n",
       "    }\n",
       "\n",
       "    .dataframe thead th {\n",
       "        text-align: right;\n",
       "    }\n",
       "</style>\n",
       "<table border=\"1\" class=\"dataframe\">\n",
       "  <thead>\n",
       "    <tr style=\"text-align: right;\">\n",
       "      <th></th>\n",
       "      <th>Base_Mean</th>\n",
       "      <th>P_adj</th>\n",
       "      <th>P_value</th>\n",
       "      <th>StdErr</th>\n",
       "      <th>Wald_Stats</th>\n",
       "      <th>betweenness</th>\n",
       "      <th>degree</th>\n",
       "      <th>general_function</th>\n",
       "      <th>general_process</th>\n",
       "      <th>location</th>\n",
       "      <th>log2FC</th>\n",
       "      <th>louvain_clusters</th>\n",
       "      <th>prize</th>\n",
       "      <th>specific_function</th>\n",
       "      <th>specific_process</th>\n",
       "      <th>terminal</th>\n",
       "      <th>type</th>\n",
       "    </tr>\n",
       "  </thead>\n",
       "  <tbody>\n",
       "    <tr>\n",
       "      <th>SCARA3</th>\n",
       "      <td>3190.95</td>\n",
       "      <td>1e-310</td>\n",
       "      <td>1e-309</td>\n",
       "      <td>0.0611261</td>\n",
       "      <td>-37.8121</td>\n",
       "      <td>0.0263158</td>\n",
       "      <td>47</td>\n",
       "      <td>binding</td>\n",
       "      <td>response to stimulus</td>\n",
       "      <td>ER</td>\n",
       "      <td>2.31131</td>\n",
       "      <td>0</td>\n",
       "      <td>3.1</td>\n",
       "      <td>protein binding</td>\n",
       "      <td>response to stress</td>\n",
       "      <td>True</td>\n",
       "      <td>protein</td>\n",
       "    </tr>\n",
       "    <tr>\n",
       "      <th>GDF15</th>\n",
       "      <td>1481.45</td>\n",
       "      <td>4.24102e-253</td>\n",
       "      <td>9.87021e-256</td>\n",
       "      <td>0.0835517</td>\n",
       "      <td>34.1589</td>\n",
       "      <td>0</td>\n",
       "      <td>12</td>\n",
       "      <td>binding</td>\n",
       "      <td>biological regulation</td>\n",
       "      <td>extracellular</td>\n",
       "      <td>-2.85403</td>\n",
       "      <td>1</td>\n",
       "      <td>2.52373</td>\n",
       "      <td>protein binding</td>\n",
       "      <td>regulation of biological process</td>\n",
       "      <td>True</td>\n",
       "      <td>protein</td>\n",
       "    </tr>\n",
       "    <tr>\n",
       "      <th>EI24</th>\n",
       "      <td>1952.78</td>\n",
       "      <td>1.06316e-211</td>\n",
       "      <td>3.6231e-214</td>\n",
       "      <td>0.0658995</td>\n",
       "      <td>31.2345</td>\n",
       "      <td>0.0519298</td>\n",
       "      <td>7</td>\n",
       "      <td>NaN</td>\n",
       "      <td>biological regulation</td>\n",
       "      <td>ER</td>\n",
       "      <td>-2.05834</td>\n",
       "      <td>2</td>\n",
       "      <td>2.10973</td>\n",
       "      <td>NaN</td>\n",
       "      <td>regulation of biological process</td>\n",
       "      <td>True</td>\n",
       "      <td>protein</td>\n",
       "    </tr>\n",
       "    <tr>\n",
       "      <th>ANKRD1</th>\n",
       "      <td>15603.6</td>\n",
       "      <td>1e-310</td>\n",
       "      <td>1e-309</td>\n",
       "      <td>0.0403247</td>\n",
       "      <td>46.4681</td>\n",
       "      <td>0.169474</td>\n",
       "      <td>20</td>\n",
       "      <td>binding</td>\n",
       "      <td>cellular process</td>\n",
       "      <td>nucleus</td>\n",
       "      <td>-1.87382</td>\n",
       "      <td>2</td>\n",
       "      <td>3.1</td>\n",
       "      <td>protein binding</td>\n",
       "      <td>cellular response to stimulus</td>\n",
       "      <td>True</td>\n",
       "      <td>protein</td>\n",
       "    </tr>\n",
       "    <tr>\n",
       "      <th>KCNA4</th>\n",
       "      <td>NaN</td>\n",
       "      <td>NaN</td>\n",
       "      <td>NaN</td>\n",
       "      <td>NaN</td>\n",
       "      <td>NaN</td>\n",
       "      <td>0.0484211</td>\n",
       "      <td>18</td>\n",
       "      <td>transporter</td>\n",
       "      <td>localization</td>\n",
       "      <td>plasma_membrane</td>\n",
       "      <td>NaN</td>\n",
       "      <td>3</td>\n",
       "      <td>0</td>\n",
       "      <td>transmembrane transporter</td>\n",
       "      <td>establishment of localization</td>\n",
       "      <td>False</td>\n",
       "      <td>protein</td>\n",
       "    </tr>\n",
       "  </tbody>\n",
       "</table>\n",
       "</div>"
      ],
      "text/plain": [
       "       Base_Mean         P_adj       P_value     StdErr Wald_Stats  \\\n",
       "SCARA3   3190.95        1e-310        1e-309  0.0611261   -37.8121   \n",
       "GDF15    1481.45  4.24102e-253  9.87021e-256  0.0835517    34.1589   \n",
       "EI24     1952.78  1.06316e-211   3.6231e-214  0.0658995    31.2345   \n",
       "ANKRD1   15603.6        1e-310        1e-309  0.0403247    46.4681   \n",
       "KCNA4        NaN           NaN           NaN        NaN        NaN   \n",
       "\n",
       "       betweenness degree general_function        general_process  \\\n",
       "SCARA3   0.0263158     47          binding   response to stimulus   \n",
       "GDF15            0     12          binding  biological regulation   \n",
       "EI24     0.0519298      7              NaN  biological regulation   \n",
       "ANKRD1    0.169474     20          binding       cellular process   \n",
       "KCNA4    0.0484211     18      transporter           localization   \n",
       "\n",
       "               location   log2FC louvain_clusters    prize  \\\n",
       "SCARA3               ER  2.31131                0      3.1   \n",
       "GDF15     extracellular -2.85403                1  2.52373   \n",
       "EI24                 ER -2.05834                2  2.10973   \n",
       "ANKRD1          nucleus -1.87382                2      3.1   \n",
       "KCNA4   plasma_membrane      NaN                3        0   \n",
       "\n",
       "                specific_function                  specific_process terminal  \\\n",
       "SCARA3            protein binding                response to stress     True   \n",
       "GDF15             protein binding  regulation of biological process     True   \n",
       "EI24                          NaN  regulation of biological process     True   \n",
       "ANKRD1            protein binding     cellular response to stimulus     True   \n",
       "KCNA4   transmembrane transporter     establishment of localization    False   \n",
       "\n",
       "           type  \n",
       "SCARA3  protein  \n",
       "GDF15   protein  \n",
       "EI24    protein  \n",
       "ANKRD1  protein  \n",
       "KCNA4   protein  "
      ]
     },
     "execution_count": 10,
     "metadata": {},
     "output_type": "execute_result"
    }
   ],
   "source": [
    "oi.get_networkx_graph_as_dataframe_of_nodes(augmented_forest).head()"
   ]
  },
  {
   "cell_type": "code",
   "execution_count": 12,
   "metadata": {
    "scrolled": false
   },
   "outputs": [
    {
     "name": "stderr",
     "output_type": "stream",
     "text": [
      "03:03:01 - OI2: INFO - Inferring display parameters for StdErr\n",
      "03:03:01 - OI2: INFO - Inferring display parameters for log2FC\n",
      "03:03:01 - OI2: INFO - Inferring display parameters for Wald_Stats\n",
      "03:03:01 - OI2: INFO - Inferring display parameters for Base_Mean\n",
      "03:03:01 - OI2: INFO - Inferring display parameters for P_adj\n",
      "03:03:01 - OI2: INFO - Inferring display parameters for P_value\n",
      "03:03:01 - OI2: INFO - Final display parameters:\n",
      "03:03:01 - OI2: INFO - \n",
      "{\n",
      "    \"prize\": {\n",
      "        \"display\": \"color_scale\",\n",
      "        \"domain\": \"[0, 1e-10, 5.517829854063881]\",\n",
      "        \"range\": \"[\\\"lightgrey\\\", \\\"white\\\", \\\"red\\\"]\"\n",
      "    },\n",
      "    \"degree\": {\n",
      "        \"display\": \"color_scale\",\n",
      "        \"domain\": \"[0, 230]\",\n",
      "        \"range\": \"[\\\"lightblue\\\", \\\"red\\\"]\"\n",
      "    },\n",
      "    \"betweenness\": {\n",
      "        \"display\": \"color_scale\",\n",
      "        \"domain\": \"[0, 0.5398830409356724]\",\n",
      "        \"range\": \"[\\\"purple\\\", \\\"orange\\\"]\"\n",
      "    },\n",
      "    \"terminal\": {\n",
      "        \"display\": \"color_scale\",\n",
      "        \"domain\": \"[false, true]\",\n",
      "        \"range\": \"[\\\"grey\\\", \\\"orange\\\"]\"\n",
      "    },\n",
      "    \"type\": {\n",
      "        \"display\": \"shape\"\n",
      "    },\n",
      "    \"louvain_clusters\": {\n",
      "        \"display\": \"box\"\n",
      "    },\n",
      "    \"location\": {\n",
      "        \"display\": \"box\"\n",
      "    },\n",
      "    \"general_function\": {\n",
      "        \"display\": \"color_category\"\n",
      "    },\n",
      "    \"specific_function\": {\n",
      "        \"display\": \"color_category\"\n",
      "    },\n",
      "    \"general_process\": {\n",
      "        \"display\": \"box\"\n",
      "    },\n",
      "    \"specific_process\": {\n",
      "        \"display\": \"box\"\n",
      "    },\n",
      "    \"StdErr\": {\n",
      "        \"display\": \"color_scale\",\n",
      "        \"domain\": \"[0,0.183204989068986]\",\n",
      "        \"range\": \"[\\\"white\\\",\\\"red\\\"]\"\n",
      "    },\n",
      "    \"log2FC\": {\n",
      "        \"display\": \"color_scale\",\n",
      "        \"domain\": \"[-4.56655174140561,0,3.26836757362648]\",\n",
      "        \"range\": \"[\\\"blue\\\",\\\"white\\\",\\\"red\\\"]\"\n",
      "    },\n",
      "    \"Wald_Stats\": {\n",
      "        \"display\": \"color_scale\",\n",
      "        \"domain\": \"[-59.06946534061829,0,107.73086935173401]\",\n",
      "        \"range\": \"[\\\"blue\\\",\\\"white\\\",\\\"red\\\"]\"\n",
      "    },\n",
      "    \"Base_Mean\": {\n",
      "        \"display\": \"color_scale\",\n",
      "        \"domain\": \"[206.70695642104096,31700.4426523927]\",\n",
      "        \"range\": \"[\\\"purple\\\",\\\"orange\\\"]\"\n",
      "    },\n",
      "    \"P_adj\": {\n",
      "        \"display\": \"color_scale\",\n",
      "        \"domain\": \"[0,1.6482177757121994e-52]\",\n",
      "        \"range\": \"[\\\"white\\\",\\\"red\\\"]\"\n",
      "    },\n",
      "    \"P_value\": {\n",
      "        \"display\": \"color_scale\",\n",
      "        \"domain\": \"[0,5.0209609741378285e-54]\",\n",
      "        \"range\": \"[\\\"white\\\",\\\"red\\\"]\"\n",
      "    }\n",
      "}\n"
     ]
    },
    {
     "data": {
      "text/plain": [
       "PosixPath('/Users/alex/Desktop/graph.html')"
      ]
     },
     "execution_count": 12,
     "metadata": {},
     "output_type": "execute_result"
    }
   ],
   "source": [
    "oi.output_networkx_graph_as_interactive_html(augmented_forest, output_dir='/Users/alex/Desktop/')"
   ]
  },
  {
   "cell_type": "code",
   "execution_count": null,
   "metadata": {},
   "outputs": [],
   "source": []
  },
  {
   "cell_type": "code",
   "execution_count": null,
   "metadata": {},
   "outputs": [],
   "source": []
  },
  {
   "cell_type": "code",
   "execution_count": null,
   "metadata": {},
   "outputs": [],
   "source": []
  },
  {
   "cell_type": "code",
   "execution_count": null,
   "metadata": {},
   "outputs": [],
   "source": []
  }
 ],
 "metadata": {
  "kernelspec": {
   "display_name": "Python 3",
   "language": "python",
   "name": "python3"
  },
  "language_info": {
   "codemirror_mode": {
    "name": "ipython",
    "version": 3
   },
   "file_extension": ".py",
   "mimetype": "text/x-python",
   "name": "python",
   "nbconvert_exporter": "python",
   "pygments_lexer": "ipython3",
   "version": "3.7.0"
  }
 },
 "nbformat": 4,
 "nbformat_minor": 2
}
