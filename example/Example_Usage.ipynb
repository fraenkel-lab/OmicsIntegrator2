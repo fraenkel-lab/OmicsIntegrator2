{
 "cells": [
  {
   "cell_type": "markdown",
   "metadata": {},
   "source": [
    "# Using the OmicsIntegrator Package"
   ]
  },
  {
   "cell_type": "code",
   "execution_count": 1,
   "metadata": {},
   "outputs": [
    {
     "name": "stderr",
     "output_type": "stream",
     "text": [
      "10:33:35 - Graph: INFO - Duplicated edges in the interactome file (we'll keep the max cost):\n",
      "10:33:35 - Graph: INFO - []\n",
      "10:33:36 - Graph: INFO - Duplicated gene symbols in the prize file (we'll keep the max prize):\n",
      "10:33:36 - Graph: INFO - ['CTGF', 'EZR', 'HSPA5']\n",
      "10:33:36 - Graph: INFO - Members of the prize file not present in the interactome:\n",
      "10:33:36 - Graph: INFO - ['CALM1', 'KIAA1543', 'PKM2', 'PLEC1', 'RBM14', 'SFRS1']\n"
     ]
    }
   ],
   "source": [
    "%matplotlib inline\n",
    "import numpy as np\n",
    "import pandas as pd\n",
    "import networkx as nx\n",
    "\n",
    "# Use the following lines to test the basic functionality of the package if developing locally: \n",
    "import sys\n",
    "sys.path.insert(0, \"/Users/alex/Documents/OmicsIntegrator2/src\")\n",
    "from graph import *\n",
    "\n",
    "# import OmicsIntegrator as oi\n",
    "\n",
    "interactome_file = \"/Users/alex/Documents/OmicsIntegrator2/data/iref13.cleaned.connected.tsv\"\n",
    "prize_file = \"/Users/alex/Documents/OmicsIntegrator2/data/prizes.tsv\"\n",
    "graph = Graph(interactome_file, {'g':10000})\n",
    "\n",
    "graph.prepare_prizes(prize_file)\n"
   ]
  },
  {
   "cell_type": "code",
   "execution_count": 2,
   "metadata": {},
   "outputs": [],
   "source": [
    "vertex_indices, edge_indices = graph.pcsf()"
   ]
  },
  {
   "cell_type": "code",
   "execution_count": 3,
   "metadata": {
    "scrolled": false
   },
   "outputs": [
    {
     "name": "stderr",
     "output_type": "stream",
     "text": [
      "/Users/alex/Documents/OmicsIntegrator2/src/graph.py:718: FutureWarning: \n",
      "Passing list-likes to .loc or [] with any missing label will raise\n",
      "KeyError in the future, you can use .reindex() as an alternative.\n",
      "\n",
      "See the documentation here:\n",
      "http://pandas.pydata.org/pandas-docs/stable/indexing.html#deprecate-loc-reindex-listlike\n",
      "  nx.set_node_attributes(nxgraph, subcellular.loc[list(nxgraph.nodes())].dropna(how='all').to_dict(orient='index'))\n"
     ]
    },
    {
     "data": {
      "text/plain": [
       "<networkx.classes.graph.Graph at 0x10ca41630>"
      ]
     },
     "execution_count": 3,
     "metadata": {},
     "output_type": "execute_result"
    }
   ],
   "source": [
    "forest, augmented_forest = graph.output_forest_as_networkx(vertex_indices, edge_indices)\n",
    "forest"
   ]
  },
  {
   "cell_type": "code",
   "execution_count": 4,
   "metadata": {
    "scrolled": true
   },
   "outputs": [
    {
     "data": {
      "image/png": "[encoded data removed]",
      "text/plain": [
       "<matplotlib.figure.Figure at 0x108b62ac8>"
      ]
     },
     "metadata": {},
     "output_type": "display_data"
    }
   ],
   "source": [
    "nx.draw_spring(augmented_forest)"
   ]
  },
  {
   "cell_type": "code",
   "execution_count": 5,
   "metadata": {},
   "outputs": [
    {
     "data": {
      "text/plain": [
       "26.720706969999995"
      ]
     },
     "execution_count": 5,
     "metadata": {},
     "output_type": "execute_result"
    }
   ],
   "source": [
    "graph.pcsf_objective_value(forest)"
   ]
  },
  {
   "cell_type": "code",
   "execution_count": 6,
   "metadata": {
    "scrolled": false
   },
   "outputs": [
    {
     "data": {
      "text/html": [
       "<div>\n",
       "<style scoped>\n",
       "    .dataframe tbody tr th:only-of-type {\n",
       "        vertical-align: middle;\n",
       "    }\n",
       "\n",
       "    .dataframe tbody tr th {\n",
       "        vertical-align: top;\n",
       "    }\n",
       "\n",
       "    .dataframe thead th {\n",
       "        text-align: right;\n",
       "    }\n",
       "</style>\n",
       "<table border=\"1\" class=\"dataframe\">\n",
       "  <thead>\n",
       "    <tr style=\"text-align: right;\">\n",
       "      <th></th>\n",
       "      <th>betweenness</th>\n",
       "      <th>degree</th>\n",
       "      <th>location</th>\n",
       "      <th>louvainClusters</th>\n",
       "      <th>otherLocations</th>\n",
       "      <th>prize</th>\n",
       "      <th>type</th>\n",
       "    </tr>\n",
       "  </thead>\n",
       "  <tbody>\n",
       "    <tr>\n",
       "      <th>AJUBA</th>\n",
       "      <td>0.00262056</td>\n",
       "      <td>26</td>\n",
       "      <td>nucleus</td>\n",
       "      <td>3</td>\n",
       "      <td>[cytoskeleton, plasma_membrane, cytoplasm]</td>\n",
       "      <td>0</td>\n",
       "      <td>steiner</td>\n",
       "    </tr>\n",
       "    <tr>\n",
       "      <th>BCAR1</th>\n",
       "      <td>0.06737</td>\n",
       "      <td>78</td>\n",
       "      <td>plasma_membrane</td>\n",
       "      <td>4</td>\n",
       "      <td>[cytoplasm, cytoskeleton]</td>\n",
       "      <td>0.29</td>\n",
       "      <td>terminal</td>\n",
       "    </tr>\n",
       "    <tr>\n",
       "      <th>BTC</th>\n",
       "      <td>0</td>\n",
       "      <td>5</td>\n",
       "      <td>extracellular</td>\n",
       "      <td>0</td>\n",
       "      <td>[plasma_membrane, membrane]</td>\n",
       "      <td>0</td>\n",
       "      <td>steiner</td>\n",
       "    </tr>\n",
       "    <tr>\n",
       "      <th>CDH1</th>\n",
       "      <td>0.0583224</td>\n",
       "      <td>128</td>\n",
       "      <td>plasma_membrane</td>\n",
       "      <td>3</td>\n",
       "      <td>[protein complex, extracellular, golgi]</td>\n",
       "      <td>1.54</td>\n",
       "      <td>terminal</td>\n",
       "    </tr>\n",
       "    <tr>\n",
       "      <th>COL4A3</th>\n",
       "      <td>0.045173</td>\n",
       "      <td>26</td>\n",
       "      <td>extracellular</td>\n",
       "      <td>5</td>\n",
       "      <td>[protein complex, ER, cytoplasm]</td>\n",
       "      <td>0</td>\n",
       "      <td>steiner</td>\n",
       "    </tr>\n",
       "  </tbody>\n",
       "</table>\n",
       "</div>"
      ],
      "text/plain": [
       "       betweenness degree         location louvainClusters  \\\n",
       "AJUBA   0.00262056     26          nucleus               3   \n",
       "BCAR1      0.06737     78  plasma_membrane               4   \n",
       "BTC              0      5    extracellular               0   \n",
       "CDH1     0.0583224    128  plasma_membrane               3   \n",
       "COL4A3    0.045173     26    extracellular               5   \n",
       "\n",
       "                                    otherLocations prize      type  \n",
       "AJUBA   [cytoskeleton, plasma_membrane, cytoplasm]     0   steiner  \n",
       "BCAR1                    [cytoplasm, cytoskeleton]  0.29  terminal  \n",
       "BTC                    [plasma_membrane, membrane]     0   steiner  \n",
       "CDH1       [protein complex, extracellular, golgi]  1.54  terminal  \n",
       "COL4A3            [protein complex, ER, cytoplasm]     0   steiner  "
      ]
     },
     "execution_count": 6,
     "metadata": {},
     "output_type": "execute_result"
    }
   ],
   "source": [
    "get_networkx_graph_as_dataframe_of_nodes(augmented_forest).head()"
   ]
  },
  {
   "cell_type": "code",
   "execution_count": 7,
   "metadata": {
    "scrolled": false
   },
   "outputs": [
    {
     "name": "stdout",
     "output_type": "stream",
     "text": [
      "except\n"
     ]
    },
    {
     "data": {
      "text/plain": [
       "'/Users/alex/Desktop/example.html'"
      ]
     },
     "execution_count": 7,
     "metadata": {},
     "output_type": "execute_result"
    }
   ],
   "source": [
    "output_networkx_graph_as_interactive_html(augmented_forest, '/Users/alex/Desktop/', filename=\"example.html\")"
   ]
  },
  {
   "cell_type": "code",
   "execution_count": null,
   "metadata": {},
   "outputs": [],
   "source": []
  }
 ],
 "metadata": {
  "kernelspec": {
   "display_name": "Python 3",
   "language": "python",
   "name": "python3"
  },
  "language_info": {
   "codemirror_mode": {
    "name": "ipython",
    "version": 3
   },
   "file_extension": ".py",
   "mimetype": "text/x-python",
   "name": "python",
   "nbconvert_exporter": "python",
   "pygments_lexer": "ipython3",
   "version": "3.6.5"
  }
 },
 "nbformat": 4,
 "nbformat_minor": 2
}
