{
 "cells": [
  {
   "cell_type": "markdown",
   "metadata": {},
   "source": [
    "# Using the OmicsIntegrator Package"
   ]
  },
  {
   "cell_type": "code",
   "execution_count": 1,
   "metadata": {},
   "outputs": [],
   "source": [
    "%matplotlib inline\n",
    "import numpy as np\n",
    "import pandas as pd\n",
    "import networkx as nx"
   ]
  },
  {
   "cell_type": "code",
   "execution_count": 2,
   "metadata": {},
   "outputs": [],
   "source": [
    "# Use the following lines to test the basic functionality of the package if developing locally: \n",
    "import sys\n",
    "sys.path.insert(0, \"/Users/alex/Documents/OmicsIntegrator2/src\")\n",
    "import graph as oi\n",
    "\n",
    "# import OmicsIntegrator as oi"
   ]
  },
  {
   "cell_type": "code",
   "execution_count": 3,
   "metadata": {},
   "outputs": [],
   "source": [
    "interactome_file = \"../interactomes/inbiomap.9.12.2016.exp.oi2\"\n",
    "prize_file = \"/Users/alex/Documents/abcd1/human_deseq_prizes_200.tsv\"\n",
    "graph = oi.Graph(interactome_file, {'g':5})"
   ]
  },
  {
   "cell_type": "code",
   "execution_count": 4,
   "metadata": {},
   "outputs": [
    {
     "name": "stderr",
     "output_type": "stream",
     "text": [
      "06:17:46 - OI2: INFO - Duplicated gene symbols in the prize file (we'll keep the max prize):\n",
      "06:17:46 - OI2: INFO - []\n",
      "06:17:46 - OI2: INFO - Members of the prize file not present in the interactome:\n",
      "06:17:46 - OI2: INFO - ['ATP6V0E1', 'CXorf36', 'GLT25D1', 'NORAD', 'TNFSF4']\n"
     ]
    }
   ],
   "source": [
    "graph.prepare_prizes(prize_file)"
   ]
  },
  {
   "cell_type": "code",
   "execution_count": 5,
   "metadata": {},
   "outputs": [],
   "source": [
    "vertex_indices, edge_indices = graph.pcsf()"
   ]
  },
  {
   "cell_type": "code",
   "execution_count": 6,
   "metadata": {},
   "outputs": [
    {
     "data": {
      "text/plain": [
       "77"
      ]
     },
     "execution_count": 6,
     "metadata": {},
     "output_type": "execute_result"
    }
   ],
   "source": [
    "len(vertex_indices)"
   ]
  },
  {
   "cell_type": "code",
   "execution_count": 7,
   "metadata": {
    "scrolled": false
   },
   "outputs": [
    {
     "data": {
      "text/plain": [
       "<networkx.classes.graph.Graph at 0x118329710>"
      ]
     },
     "execution_count": 7,
     "metadata": {},
     "output_type": "execute_result"
    }
   ],
   "source": [
    "forest, augmented_forest = graph.output_forest_as_networkx(vertex_indices, edge_indices)\n",
    "forest"
   ]
  },
  {
   "cell_type": "code",
   "execution_count": 8,
   "metadata": {
    "scrolled": true
   },
   "outputs": [
    {
     "data": {
      "image/png": "[encoded data removed]",
      "text/plain": [
       "<matplotlib.figure.Figure at 0x10d961978>"
      ]
     },
     "metadata": {},
     "output_type": "display_data"
    }
   ],
   "source": [
    "nx.draw_spring(augmented_forest)"
   ]
  },
  {
   "cell_type": "code",
   "execution_count": 9,
   "metadata": {},
   "outputs": [
    {
     "data": {
      "text/plain": [
       "371.79260506471951"
      ]
     },
     "execution_count": 9,
     "metadata": {},
     "output_type": "execute_result"
    }
   ],
   "source": [
    "graph.pcsf_objective_value(forest)"
   ]
  },
  {
   "cell_type": "code",
   "execution_count": 10,
   "metadata": {
    "scrolled": true
   },
   "outputs": [
    {
     "data": {
      "text/html": [
       "<div>\n",
       "<style scoped>\n",
       "    .dataframe tbody tr th:only-of-type {\n",
       "        vertical-align: middle;\n",
       "    }\n",
       "\n",
       "    .dataframe tbody tr th {\n",
       "        vertical-align: top;\n",
       "    }\n",
       "\n",
       "    .dataframe thead th {\n",
       "        text-align: right;\n",
       "    }\n",
       "</style>\n",
       "<table border=\"1\" class=\"dataframe\">\n",
       "  <thead>\n",
       "    <tr style=\"text-align: right;\">\n",
       "      <th></th>\n",
       "      <th>Base_Mean</th>\n",
       "      <th>P_adj</th>\n",
       "      <th>P_value</th>\n",
       "      <th>StdErr</th>\n",
       "      <th>Wald_Stats</th>\n",
       "      <th>betweenness</th>\n",
       "      <th>degree</th>\n",
       "      <th>general_function</th>\n",
       "      <th>general_process</th>\n",
       "      <th>location</th>\n",
       "      <th>log2FC</th>\n",
       "      <th>louvainClusters</th>\n",
       "      <th>prize</th>\n",
       "      <th>specific_function</th>\n",
       "      <th>specific_process</th>\n",
       "      <th>terminal</th>\n",
       "      <th>type</th>\n",
       "    </tr>\n",
       "  </thead>\n",
       "  <tbody>\n",
       "    <tr>\n",
       "      <th>ABCD1</th>\n",
       "      <td>206.707</td>\n",
       "      <td>1.64822e-52</td>\n",
       "      <td>5.02096e-54</td>\n",
       "      <td>0.183205</td>\n",
       "      <td>15.4762</td>\n",
       "      <td>0.0263158</td>\n",
       "      <td>16</td>\n",
       "      <td>transporter</td>\n",
       "      <td>cellular process</td>\n",
       "      <td>peroxisome</td>\n",
       "      <td>-2.83532</td>\n",
       "      <td>0</td>\n",
       "      <td>5.51783</td>\n",
       "      <td>lipid transporter</td>\n",
       "      <td>cellular component organization</td>\n",
       "      <td>True</td>\n",
       "      <td>protein</td>\n",
       "    </tr>\n",
       "    <tr>\n",
       "      <th>ADD3</th>\n",
       "      <td>2596.83</td>\n",
       "      <td>3.43013e-293</td>\n",
       "      <td>5.41704e-296</td>\n",
       "      <td>0.062866</td>\n",
       "      <td>-36.7708</td>\n",
       "      <td>0</td>\n",
       "      <td>25</td>\n",
       "      <td>structural molecule</td>\n",
       "      <td>cellular process</td>\n",
       "      <td>nucleus</td>\n",
       "      <td>2.31163</td>\n",
       "      <td>2</td>\n",
       "      <td>2.92465</td>\n",
       "      <td>structural constituent of cytoskeleton</td>\n",
       "      <td>cellular component organization</td>\n",
       "      <td>True</td>\n",
       "      <td>protein</td>\n",
       "    </tr>\n",
       "    <tr>\n",
       "      <th>AMOTL2</th>\n",
       "      <td>3096.33</td>\n",
       "      <td>8.1149e-294</td>\n",
       "      <td>1.24782e-296</td>\n",
       "      <td>0.0530887</td>\n",
       "      <td>36.8106</td>\n",
       "      <td>0</td>\n",
       "      <td>79</td>\n",
       "      <td>binding</td>\n",
       "      <td>cellular process</td>\n",
       "      <td>cytoplasm</td>\n",
       "      <td>-1.95423</td>\n",
       "      <td>4</td>\n",
       "      <td>2.93091</td>\n",
       "      <td>protein binding</td>\n",
       "      <td>cell communication</td>\n",
       "      <td>True</td>\n",
       "      <td>protein</td>\n",
       "    </tr>\n",
       "    <tr>\n",
       "      <th>ANKRD1</th>\n",
       "      <td>15603.6</td>\n",
       "      <td>1e-310</td>\n",
       "      <td>1e-309</td>\n",
       "      <td>0.0403247</td>\n",
       "      <td>46.4681</td>\n",
       "      <td>0.169474</td>\n",
       "      <td>20</td>\n",
       "      <td>binding</td>\n",
       "      <td>cellular process</td>\n",
       "      <td>nucleus</td>\n",
       "      <td>-1.87382</td>\n",
       "      <td>4</td>\n",
       "      <td>3.1</td>\n",
       "      <td>protein binding</td>\n",
       "      <td>cellular response to stimulus</td>\n",
       "      <td>True</td>\n",
       "      <td>protein</td>\n",
       "    </tr>\n",
       "    <tr>\n",
       "      <th>ARHGDIB</th>\n",
       "      <td>NaN</td>\n",
       "      <td>NaN</td>\n",
       "      <td>NaN</td>\n",
       "      <td>NaN</td>\n",
       "      <td>NaN</td>\n",
       "      <td>0.190877</td>\n",
       "      <td>15</td>\n",
       "      <td>binding</td>\n",
       "      <td>biological regulation</td>\n",
       "      <td>extracellular</td>\n",
       "      <td>NaN</td>\n",
       "      <td>4</td>\n",
       "      <td>0</td>\n",
       "      <td>protein binding</td>\n",
       "      <td>regulation of biological process</td>\n",
       "      <td>False</td>\n",
       "      <td>protein</td>\n",
       "    </tr>\n",
       "  </tbody>\n",
       "</table>\n",
       "</div>"
      ],
      "text/plain": [
       "        Base_Mean         P_adj       P_value     StdErr Wald_Stats  \\\n",
       "ABCD1     206.707   1.64822e-52   5.02096e-54   0.183205    15.4762   \n",
       "ADD3      2596.83  3.43013e-293  5.41704e-296   0.062866   -36.7708   \n",
       "AMOTL2    3096.33   8.1149e-294  1.24782e-296  0.0530887    36.8106   \n",
       "ANKRD1    15603.6        1e-310        1e-309  0.0403247    46.4681   \n",
       "ARHGDIB       NaN           NaN           NaN        NaN        NaN   \n",
       "\n",
       "        betweenness degree     general_function        general_process  \\\n",
       "ABCD1     0.0263158     16          transporter       cellular process   \n",
       "ADD3              0     25  structural molecule       cellular process   \n",
       "AMOTL2            0     79              binding       cellular process   \n",
       "ANKRD1     0.169474     20              binding       cellular process   \n",
       "ARHGDIB    0.190877     15              binding  biological regulation   \n",
       "\n",
       "              location   log2FC louvainClusters    prize  \\\n",
       "ABCD1       peroxisome -2.83532               0  5.51783   \n",
       "ADD3           nucleus  2.31163               2  2.92465   \n",
       "AMOTL2       cytoplasm -1.95423               4  2.93091   \n",
       "ANKRD1         nucleus -1.87382               4      3.1   \n",
       "ARHGDIB  extracellular      NaN               4        0   \n",
       "\n",
       "                              specific_function  \\\n",
       "ABCD1                         lipid transporter   \n",
       "ADD3     structural constituent of cytoskeleton   \n",
       "AMOTL2                          protein binding   \n",
       "ANKRD1                          protein binding   \n",
       "ARHGDIB                         protein binding   \n",
       "\n",
       "                         specific_process terminal     type  \n",
       "ABCD1     cellular component organization     True  protein  \n",
       "ADD3      cellular component organization     True  protein  \n",
       "AMOTL2                 cell communication     True  protein  \n",
       "ANKRD1      cellular response to stimulus     True  protein  \n",
       "ARHGDIB  regulation of biological process    False  protein  "
      ]
     },
     "execution_count": 10,
     "metadata": {},
     "output_type": "execute_result"
    }
   ],
   "source": [
    "oi.get_networkx_graph_as_dataframe_of_nodes(augmented_forest).head()"
   ]
  },
  {
   "cell_type": "code",
   "execution_count": 11,
   "metadata": {
    "scrolled": false
   },
   "outputs": [
    {
     "data": {
      "text/plain": [
       "PosixPath('/Users/alex/Desktop/graph.html')"
      ]
     },
     "execution_count": 11,
     "metadata": {},
     "output_type": "execute_result"
    }
   ],
   "source": [
    "oi.output_networkx_graph_as_interactive_html(augmented_forest, '/Users/alex/Desktop/')"
   ]
  },
  {
   "cell_type": "code",
   "execution_count": null,
   "metadata": {},
   "outputs": [],
   "source": []
  }
 ],
 "metadata": {
  "kernelspec": {
   "display_name": "Python 3",
   "language": "python",
   "name": "python3"
  },
  "language_info": {
   "codemirror_mode": {
    "name": "ipython",
    "version": 3
   },
   "file_extension": ".py",
   "mimetype": "text/x-python",
   "name": "python",
   "nbconvert_exporter": "python",
   "pygments_lexer": "ipython3",
   "version": "3.6.5"
  }
 },
 "nbformat": 4,
 "nbformat_minor": 2
}
