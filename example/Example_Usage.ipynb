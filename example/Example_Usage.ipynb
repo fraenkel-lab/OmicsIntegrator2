{
 "cells": [
  {
   "cell_type": "markdown",
   "metadata": {},
   "source": [
    "# Using the OmicsIntegrator Package"
   ]
  },
  {
   "cell_type": "code",
   "execution_count": 1,
   "metadata": {},
   "outputs": [
    {
     "name": "stderr",
     "output_type": "stream",
     "text": [
      "09:22:38 - Graph: INFO - Duplicated gene symbols in the prize file (we'll keep the max prize):\n",
      "09:22:38 - Graph: INFO - ['CTGF', 'EZR', 'HSPA5']\n",
      "09:22:38 - Graph: INFO - Members of the prize file not present in the interactome:\n",
      "09:22:38 - Graph: INFO - ['CALM1', 'KIAA1543', 'PKM2', 'PLEC1', 'RBM14', 'SFRS1']\n"
     ]
    }
   ],
   "source": [
    "%matplotlib inline\n",
    "import numpy as np\n",
    "import pandas as pd\n",
    "import networkx as nx\n",
    "\n",
    "# Use the following lines to test the basic functionality of the package if developing locally: \n",
    "import sys\n",
    "sys.path.insert(0, \"/Users/alex/Documents/OmicsIntegrator2/src\")\n",
    "from graph import *\n",
    "\n",
    "# from OmicsIntegrator import *\n",
    "\n",
    "interactome_file = \"/Users/alex/Documents/OmicsIntegrator2/data/iref13.cleaned.connected.tsv\"\n",
    "prize_file = \"/Users/alex/Documents/OmicsIntegrator2/data/prizes.tsv\"\n",
    "graph = Graph(interactome_file, {'a':100000000}, skip_checks=True)\n",
    "\n",
    "graph.prepare_prizes(prize_file)\n"
   ]
  },
  {
   "cell_type": "code",
   "execution_count": 2,
   "metadata": {},
   "outputs": [],
   "source": [
    "vertex_indices, edge_indices = graph.pcsf()"
   ]
  },
  {
   "cell_type": "code",
   "execution_count": 3,
   "metadata": {
    "scrolled": false
   },
   "outputs": [
    {
     "name": "stderr",
     "output_type": "stream",
     "text": [
      "/Users/alex/Documents/OmicsIntegrator2/src/graph.py:358: FutureWarning: \n",
      "Passing list-likes to .loc or [] with any missing label will raise\n",
      "KeyError in the future, you can use .reindex() as an alternative.\n",
      "\n",
      "See the documentation here:\n",
      "http://pandas.pydata.org/pandas-docs/stable/indexing.html#deprecate-loc-reindex-listlike\n",
      "  nx.set_node_attributes(forest, self.node_attributes.loc[list(forest.nodes())].dropna(how='all').to_dict(orient='index'))\n",
      "/Users/alex/Documents/OmicsIntegrator2/src/graph.py:725: FutureWarning: \n",
      "Passing list-likes to .loc or [] with any missing label will raise\n",
      "KeyError in the future, you can use .reindex() as an alternative.\n",
      "\n",
      "See the documentation here:\n",
      "http://pandas.pydata.org/pandas-docs/stable/indexing.html#deprecate-loc-reindex-listlike\n",
      "  nx.set_node_attributes(nxgraph, subcellular.loc[list(nxgraph.nodes())].dropna(how='all').to_dict(orient='index'))\n"
     ]
    },
    {
     "data": {
      "text/plain": [
       "<networkx.classes.graph.Graph at 0x10b32f6d8>"
      ]
     },
     "execution_count": 3,
     "metadata": {},
     "output_type": "execute_result"
    }
   ],
   "source": [
    "forest, augmented_forest = graph.output_forest_as_networkx(vertex_indices, edge_indices)\n",
    "forest"
   ]
  },
  {
   "cell_type": "code",
   "execution_count": 4,
   "metadata": {},
   "outputs": [
    {
     "data": {
      "image/png": "[encoded data removed]",
      "text/plain": [
       "<matplotlib.figure.Figure at 0x10b292518>"
      ]
     },
     "metadata": {},
     "output_type": "display_data"
    }
   ],
   "source": [
    "nx.draw_spring(augmented_forest)"
   ]
  },
  {
   "cell_type": "code",
   "execution_count": 5,
   "metadata": {},
   "outputs": [
    {
     "data": {
      "text/plain": [
       "20.350854129999981"
      ]
     },
     "execution_count": 5,
     "metadata": {},
     "output_type": "execute_result"
    }
   ],
   "source": [
    "graph.pcsf_objective_value(forest)"
   ]
  },
  {
   "cell_type": "code",
   "execution_count": 6,
   "metadata": {
    "scrolled": false
   },
   "outputs": [
    {
     "data": {
      "text/html": [
       "<div>\n",
       "<style scoped>\n",
       "    .dataframe tbody tr th:only-of-type {\n",
       "        vertical-align: middle;\n",
       "    }\n",
       "\n",
       "    .dataframe tbody tr th {\n",
       "        vertical-align: top;\n",
       "    }\n",
       "\n",
       "    .dataframe thead th {\n",
       "        text-align: right;\n",
       "    }\n",
       "</style>\n",
       "<table border=\"1\" class=\"dataframe\">\n",
       "  <thead>\n",
       "    <tr style=\"text-align: right;\">\n",
       "      <th></th>\n",
       "      <th>betweenness</th>\n",
       "      <th>degree</th>\n",
       "      <th>location</th>\n",
       "      <th>louvainClusters</th>\n",
       "      <th>prize</th>\n",
       "    </tr>\n",
       "  </thead>\n",
       "  <tbody>\n",
       "    <tr>\n",
       "      <th>ABI3</th>\n",
       "      <td>0.0263158</td>\n",
       "      <td>26</td>\n",
       "      <td>membrane</td>\n",
       "      <td>1</td>\n",
       "      <td>NaN</td>\n",
       "    </tr>\n",
       "    <tr>\n",
       "      <th>ATG12</th>\n",
       "      <td>0.0508391</td>\n",
       "      <td>67</td>\n",
       "      <td>cytoplasm</td>\n",
       "      <td>6</td>\n",
       "      <td>NaN</td>\n",
       "    </tr>\n",
       "    <tr>\n",
       "      <th>BCAR1</th>\n",
       "      <td>0.0206567</td>\n",
       "      <td>78</td>\n",
       "      <td>cytoskeleton</td>\n",
       "      <td>0</td>\n",
       "      <td>0.29</td>\n",
       "    </tr>\n",
       "    <tr>\n",
       "      <th>CASP6</th>\n",
       "      <td>0.000602339</td>\n",
       "      <td>52</td>\n",
       "      <td>cytoplasm</td>\n",
       "      <td>3</td>\n",
       "      <td>NaN</td>\n",
       "    </tr>\n",
       "    <tr>\n",
       "      <th>CD47</th>\n",
       "      <td>0</td>\n",
       "      <td>18</td>\n",
       "      <td>extracellular</td>\n",
       "      <td>0</td>\n",
       "      <td>NaN</td>\n",
       "    </tr>\n",
       "  </tbody>\n",
       "</table>\n",
       "</div>"
      ],
      "text/plain": [
       "       betweenness degree       location louvainClusters prize\n",
       "ABI3     0.0263158     26       membrane               1   NaN\n",
       "ATG12    0.0508391     67      cytoplasm               6   NaN\n",
       "BCAR1    0.0206567     78   cytoskeleton               0  0.29\n",
       "CASP6  0.000602339     52      cytoplasm               3   NaN\n",
       "CD47             0     18  extracellular               0   NaN"
      ]
     },
     "execution_count": 6,
     "metadata": {},
     "output_type": "execute_result"
    }
   ],
   "source": [
    "get_networkx_graph_as_dataframe_of_nodes(augmented_forest).head()"
   ]
  },
  {
   "cell_type": "code",
   "execution_count": 12,
   "metadata": {
    "scrolled": false
   },
   "outputs": [
    {
     "data": {
      "text/plain": [
       "'/Users/alex/Documents/OmicsIntegrator2/example/graph.html'"
      ]
     },
     "execution_count": 12,
     "metadata": {},
     "output_type": "execute_result"
    }
   ],
   "source": [
    "output_networkx_graph_as_interactive_html(augmented_forest, '.')"
   ]
  },
  {
   "cell_type": "code",
   "execution_count": null,
   "metadata": {},
   "outputs": [],
   "source": []
  }
 ],
 "metadata": {
  "kernelspec": {
   "display_name": "Python 3",
   "language": "python",
   "name": "python3"
  },
  "language_info": {
   "codemirror_mode": {
    "name": "ipython",
    "version": 3
   },
   "file_extension": ".py",
   "mimetype": "text/x-python",
   "name": "python",
   "nbconvert_exporter": "python",
   "pygments_lexer": "ipython3",
   "version": "3.6.3"
  }
 },
 "nbformat": 4,
 "nbformat_minor": 2
}
