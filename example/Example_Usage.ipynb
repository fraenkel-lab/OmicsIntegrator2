{
 "cells": [
  {
   "cell_type": "markdown",
   "metadata": {},
   "source": [
    "# Using the OmicsIntegrator Package"
   ]
  },
  {
   "cell_type": "code",
   "execution_count": 1,
   "metadata": {},
   "outputs": [],
   "source": [
    "%matplotlib inline\n",
    "import numpy as np\n",
    "import pandas as pd\n",
    "import networkx as nx"
   ]
  },
  {
   "cell_type": "code",
   "execution_count": 2,
   "metadata": {},
   "outputs": [],
   "source": [
    "# Use the following lines to test the basic functionality of the package if developing locally: \n",
    "import sys\n",
    "sys.path.insert(0, \"/Users/alex/Documents/OmicsIntegrator2/src\")\n",
    "import graph as oi\n",
    "\n",
    "# import OmicsIntegrator as oi"
   ]
  },
  {
   "cell_type": "code",
   "execution_count": 3,
   "metadata": {},
   "outputs": [],
   "source": [
    "interactome_file = \"../interactomes/inbiomap.9.12.2016.exp.oi2\"\n",
    "prize_file = \"/Users/alex/Documents/abcd1/human_deseq_prizes_200.tsv\"\n",
    "graph = oi.Graph(interactome_file, {'g':5})"
   ]
  },
  {
   "cell_type": "code",
   "execution_count": 4,
   "metadata": {},
   "outputs": [
    {
     "name": "stderr",
     "output_type": "stream",
     "text": [
      "01:04:15 - OI2: INFO - Duplicated gene symbols in the prize file (we'll keep the max prize):\n",
      "01:04:15 - OI2: INFO - []\n",
      "01:04:15 - OI2: INFO - Members of the prize file not present in the interactome:\n",
      "01:04:15 - OI2: INFO - ['ATP6V0E1', 'CXorf36', 'GLT25D1', 'NORAD', 'TNFSF4']\n"
     ]
    }
   ],
   "source": [
    "graph.prepare_prizes(prize_file)"
   ]
  },
  {
   "cell_type": "code",
   "execution_count": 5,
   "metadata": {},
   "outputs": [],
   "source": [
    "vertex_indices, edge_indices = graph.pcsf()"
   ]
  },
  {
   "cell_type": "code",
   "execution_count": 6,
   "metadata": {},
   "outputs": [
    {
     "data": {
      "text/plain": [
       "77"
      ]
     },
     "execution_count": 6,
     "metadata": {},
     "output_type": "execute_result"
    }
   ],
   "source": [
    "len(vertex_indices)"
   ]
  },
  {
   "cell_type": "code",
   "execution_count": 7,
   "metadata": {
    "scrolled": false
   },
   "outputs": [
    {
     "data": {
      "text/plain": [
       "<networkx.classes.graph.Graph at 0x10f4650b8>"
      ]
     },
     "execution_count": 7,
     "metadata": {},
     "output_type": "execute_result"
    }
   ],
   "source": [
    "forest, augmented_forest = graph.output_forest_as_networkx(vertex_indices, edge_indices)\n",
    "forest"
   ]
  },
  {
   "cell_type": "code",
   "execution_count": 8,
   "metadata": {
    "scrolled": true
   },
   "outputs": [
    {
     "name": "stderr",
     "output_type": "stream",
     "text": [
      "/usr/local/lib/python3.7/site-packages/networkx/drawing/nx_pylab.py:611: MatplotlibDeprecationWarning: isinstance(..., numbers.Number)\n",
      "  if cb.is_numlike(alpha):\n"
     ]
    },
    {
     "data": {
      "image/png": "[encoded data removed]",
      "text/plain": [
       "<Figure size 432x288 with 1 Axes>"
      ]
     },
     "metadata": {},
     "output_type": "display_data"
    }
   ],
   "source": [
    "nx.draw_spring(augmented_forest)"
   ]
  },
  {
   "cell_type": "code",
   "execution_count": 9,
   "metadata": {},
   "outputs": [
    {
     "data": {
      "text/plain": [
       "371.7926050647195"
      ]
     },
     "execution_count": 9,
     "metadata": {},
     "output_type": "execute_result"
    }
   ],
   "source": [
    "graph.pcsf_objective_value(forest)"
   ]
  },
  {
   "cell_type": "code",
   "execution_count": 10,
   "metadata": {
    "scrolled": true
   },
   "outputs": [
    {
     "data": {
      "text/html": [
       "<div>\n",
       "<style scoped>\n",
       "    .dataframe tbody tr th:only-of-type {\n",
       "        vertical-align: middle;\n",
       "    }\n",
       "\n",
       "    .dataframe tbody tr th {\n",
       "        vertical-align: top;\n",
       "    }\n",
       "\n",
       "    .dataframe thead th {\n",
       "        text-align: right;\n",
       "    }\n",
       "</style>\n",
       "<table border=\"1\" class=\"dataframe\">\n",
       "  <thead>\n",
       "    <tr style=\"text-align: right;\">\n",
       "      <th></th>\n",
       "      <th>Base_Mean</th>\n",
       "      <th>P_adj</th>\n",
       "      <th>P_value</th>\n",
       "      <th>StdErr</th>\n",
       "      <th>Wald_Stats</th>\n",
       "      <th>betweenness</th>\n",
       "      <th>degree</th>\n",
       "      <th>general_function</th>\n",
       "      <th>general_process</th>\n",
       "      <th>location</th>\n",
       "      <th>log2FC</th>\n",
       "      <th>louvain_clusters</th>\n",
       "      <th>prize</th>\n",
       "      <th>specific_function</th>\n",
       "      <th>specific_process</th>\n",
       "      <th>terminal</th>\n",
       "      <th>type</th>\n",
       "    </tr>\n",
       "  </thead>\n",
       "  <tbody>\n",
       "    <tr>\n",
       "      <th>KCNA4</th>\n",
       "      <td>NaN</td>\n",
       "      <td>NaN</td>\n",
       "      <td>NaN</td>\n",
       "      <td>NaN</td>\n",
       "      <td>NaN</td>\n",
       "      <td>0.0484211</td>\n",
       "      <td>18</td>\n",
       "      <td>transporter</td>\n",
       "      <td>localization</td>\n",
       "      <td>plasma_membrane</td>\n",
       "      <td>NaN</td>\n",
       "      <td>0</td>\n",
       "      <td>0</td>\n",
       "      <td>transmembrane transporter</td>\n",
       "      <td>establishment of localization</td>\n",
       "      <td>False</td>\n",
       "      <td>protein</td>\n",
       "    </tr>\n",
       "    <tr>\n",
       "      <th>STAT5A</th>\n",
       "      <td>NaN</td>\n",
       "      <td>NaN</td>\n",
       "      <td>NaN</td>\n",
       "      <td>NaN</td>\n",
       "      <td>NaN</td>\n",
       "      <td>0.0902164</td>\n",
       "      <td>87</td>\n",
       "      <td>transcription regulator</td>\n",
       "      <td>cellular process</td>\n",
       "      <td>nucleus</td>\n",
       "      <td>NaN</td>\n",
       "      <td>1</td>\n",
       "      <td>0</td>\n",
       "      <td>DNA-binding transcription factor</td>\n",
       "      <td>cellular response to stimulus</td>\n",
       "      <td>False</td>\n",
       "      <td>protein</td>\n",
       "    </tr>\n",
       "    <tr>\n",
       "      <th>STOM</th>\n",
       "      <td>6249.28</td>\n",
       "      <td>9.87156e-197</td>\n",
       "      <td>3.8564e-199</td>\n",
       "      <td>0.0436482</td>\n",
       "      <td>30.1076</td>\n",
       "      <td>0.0263158</td>\n",
       "      <td>107</td>\n",
       "      <td>binding</td>\n",
       "      <td>cellular process</td>\n",
       "      <td>vesicle</td>\n",
       "      <td>-1.31414</td>\n",
       "      <td>2</td>\n",
       "      <td>1.96006</td>\n",
       "      <td>protein binding</td>\n",
       "      <td>cell activation</td>\n",
       "      <td>True</td>\n",
       "      <td>protein</td>\n",
       "    </tr>\n",
       "    <tr>\n",
       "      <th>DKK1</th>\n",
       "      <td>1105.15</td>\n",
       "      <td>2.45959e-256</td>\n",
       "      <td>5.41759e-259</td>\n",
       "      <td>0.0860106</td>\n",
       "      <td>34.3778</td>\n",
       "      <td>0.054152</td>\n",
       "      <td>17</td>\n",
       "      <td>binding</td>\n",
       "      <td>biological regulation</td>\n",
       "      <td>endosome</td>\n",
       "      <td>-2.95685</td>\n",
       "      <td>3</td>\n",
       "      <td>2.55609</td>\n",
       "      <td>protein binding</td>\n",
       "      <td>regulation of biological process</td>\n",
       "      <td>True</td>\n",
       "      <td>protein</td>\n",
       "    </tr>\n",
       "    <tr>\n",
       "      <th>EXTL3</th>\n",
       "      <td>NaN</td>\n",
       "      <td>NaN</td>\n",
       "      <td>NaN</td>\n",
       "      <td>NaN</td>\n",
       "      <td>NaN</td>\n",
       "      <td>0.0519298</td>\n",
       "      <td>16</td>\n",
       "      <td>catalytic</td>\n",
       "      <td>cellular process</td>\n",
       "      <td>ER</td>\n",
       "      <td>NaN</td>\n",
       "      <td>4</td>\n",
       "      <td>0</td>\n",
       "      <td>transferase</td>\n",
       "      <td>cell communication</td>\n",
       "      <td>False</td>\n",
       "      <td>protein</td>\n",
       "    </tr>\n",
       "  </tbody>\n",
       "</table>\n",
       "</div>"
      ],
      "text/plain": [
       "       Base_Mean         P_adj       P_value     StdErr Wald_Stats  \\\n",
       "KCNA4        NaN           NaN           NaN        NaN        NaN   \n",
       "STAT5A       NaN           NaN           NaN        NaN        NaN   \n",
       "STOM     6249.28  9.87156e-197   3.8564e-199  0.0436482    30.1076   \n",
       "DKK1     1105.15  2.45959e-256  5.41759e-259  0.0860106    34.3778   \n",
       "EXTL3        NaN           NaN           NaN        NaN        NaN   \n",
       "\n",
       "       betweenness degree         general_function        general_process  \\\n",
       "KCNA4    0.0484211     18              transporter           localization   \n",
       "STAT5A   0.0902164     87  transcription regulator       cellular process   \n",
       "STOM     0.0263158    107                  binding       cellular process   \n",
       "DKK1      0.054152     17                  binding  biological regulation   \n",
       "EXTL3    0.0519298     16                catalytic       cellular process   \n",
       "\n",
       "               location   log2FC louvain_clusters    prize  \\\n",
       "KCNA4   plasma_membrane      NaN                0        0   \n",
       "STAT5A          nucleus      NaN                1        0   \n",
       "STOM            vesicle -1.31414                2  1.96006   \n",
       "DKK1           endosome -2.95685                3  2.55609   \n",
       "EXTL3                ER      NaN                4        0   \n",
       "\n",
       "                       specific_function                  specific_process  \\\n",
       "KCNA4          transmembrane transporter     establishment of localization   \n",
       "STAT5A  DNA-binding transcription factor     cellular response to stimulus   \n",
       "STOM                     protein binding                   cell activation   \n",
       "DKK1                     protein binding  regulation of biological process   \n",
       "EXTL3                        transferase                cell communication   \n",
       "\n",
       "       terminal     type  \n",
       "KCNA4     False  protein  \n",
       "STAT5A    False  protein  \n",
       "STOM       True  protein  \n",
       "DKK1       True  protein  \n",
       "EXTL3     False  protein  "
      ]
     },
     "execution_count": 10,
     "metadata": {},
     "output_type": "execute_result"
    }
   ],
   "source": [
    "oi.get_networkx_graph_as_dataframe_of_nodes(augmented_forest).head()"
   ]
  },
  {
   "cell_type": "code",
   "execution_count": 11,
   "metadata": {
    "scrolled": false
   },
   "outputs": [
    {
     "data": {
      "text/plain": [
       "PosixPath('/Users/alex/Desktop/graph.html')"
      ]
     },
     "execution_count": 11,
     "metadata": {},
     "output_type": "execute_result"
    }
   ],
   "source": [
    "oi.output_networkx_graph_as_interactive_html(augmented_forest, output_dir='/Users/alex/Desktop/')"
   ]
  },
  {
   "cell_type": "code",
   "execution_count": null,
   "metadata": {},
   "outputs": [],
   "source": []
  }
 ],
 "metadata": {
  "kernelspec": {
   "display_name": "Python 3",
   "language": "python",
   "name": "python3"
  },
  "language_info": {
   "codemirror_mode": {
    "name": "ipython",
    "version": 3
   },
   "file_extension": ".py",
   "mimetype": "text/x-python",
   "name": "python",
   "nbconvert_exporter": "python",
   "pygments_lexer": "ipython3",
   "version": "3.7.1"
  }
 },
 "nbformat": 4,
 "nbformat_minor": 2
}
