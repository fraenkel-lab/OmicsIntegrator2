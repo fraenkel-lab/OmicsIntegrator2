{
 "cells": [
  {
   "cell_type": "markdown",
   "metadata": {},
   "source": [
    "# Using the OmicsIntegrator Package"
   ]
  },
  {
   "cell_type": "code",
   "execution_count": 1,
   "metadata": {},
   "outputs": [],
   "source": [
    "%matplotlib inline\n",
    "import numpy as np\n",
    "import pandas as pd\n",
    "import networkx as nx\n",
    "\n",
    "import OmicsIntegrator as oi"
   ]
  },
  {
   "cell_type": "code",
   "execution_count": 2,
   "metadata": {},
   "outputs": [],
   "source": [
    "interactome_file = \"../interactomes/inbiomap.9.12.2016.exp.oi2\"\n",
    "prize_file = \"./example_prizes.tsv\"\n",
    "graph = oi.Graph(interactome_file, {'g':5})"
   ]
  },
  {
   "cell_type": "code",
   "execution_count": 3,
   "metadata": {},
   "outputs": [
    {
     "name": "stderr",
     "output_type": "stream",
     "text": [
      "04:12:04 - OI2: INFO - Duplicated gene symbols in the prize file (we'll keep the max prize):\n",
      "04:12:04 - OI2: INFO - ['TGFB1']\n",
      "04:12:04 - OI2: INFO - Members of the prize file not present in the interactome:\n",
      "04:12:04 - OI2: INFO - ['AIM1', 'APOL3', 'ATP6V0E1', 'CXorf36', 'FAM198B', 'FAM63B', 'GLT25D1', 'NORAD', 'PRR29', 'RP6-99M1.2', 'TNFSF4']\n"
     ]
    }
   ],
   "source": [
    "graph.prepare_prizes(prize_file)"
   ]
  },
  {
   "cell_type": "code",
   "execution_count": 4,
   "metadata": {},
   "outputs": [],
   "source": [
    "vertex_indices, edge_indices = graph.pcsf()"
   ]
  },
  {
   "cell_type": "code",
   "execution_count": 5,
   "metadata": {},
   "outputs": [
    {
     "data": {
      "text/plain": [
       "93"
      ]
     },
     "execution_count": 5,
     "metadata": {},
     "output_type": "execute_result"
    }
   ],
   "source": [
    "len(vertex_indices)"
   ]
  },
  {
   "cell_type": "code",
   "execution_count": 6,
   "metadata": {
    "scrolled": false
   },
   "outputs": [
    {
     "data": {
      "text/plain": [
       "<networkx.classes.graph.Graph at 0x138d76208>"
      ]
     },
     "execution_count": 6,
     "metadata": {},
     "output_type": "execute_result"
    }
   ],
   "source": [
    "forest, augmented_forest = graph.output_forest_as_networkx(vertex_indices, edge_indices)\n",
    "forest"
   ]
  },
  {
   "cell_type": "code",
   "execution_count": 7,
   "metadata": {
    "scrolled": true
   },
   "outputs": [
    {
     "name": "stderr",
     "output_type": "stream",
     "text": [
      "/Users/alex/Documents/OmicsIntegrator2/venv/lib/python3.7/site-packages/networkx/drawing/nx_pylab.py:611: MatplotlibDeprecationWarning: isinstance(..., numbers.Number)\n",
      "  if cb.is_numlike(alpha):\n"
     ]
    },
    {
     "data": {
      "image/png": "[encoded data removed]",
      "text/plain": [
       "<Figure size 432x288 with 1 Axes>"
      ]
     },
     "metadata": {},
     "output_type": "display_data"
    }
   ],
   "source": [
    "nx.draw_spring(augmented_forest)"
   ]
  },
  {
   "cell_type": "code",
   "execution_count": 8,
   "metadata": {},
   "outputs": [
    {
     "data": {
      "text/plain": [
       "638.3993087190331"
      ]
     },
     "execution_count": 8,
     "metadata": {},
     "output_type": "execute_result"
    }
   ],
   "source": [
    "graph.pcsf_objective_value(forest)"
   ]
  },
  {
   "cell_type": "code",
   "execution_count": 9,
   "metadata": {
    "scrolled": true
   },
   "outputs": [
    {
     "data": {
      "text/html": [
       "<div>\n",
       "<style scoped>\n",
       "    .dataframe tbody tr th:only-of-type {\n",
       "        vertical-align: middle;\n",
       "    }\n",
       "\n",
       "    .dataframe tbody tr th {\n",
       "        vertical-align: top;\n",
       "    }\n",
       "\n",
       "    .dataframe thead th {\n",
       "        text-align: right;\n",
       "    }\n",
       "</style>\n",
       "<table border=\"1\" class=\"dataframe\">\n",
       "  <thead>\n",
       "    <tr style=\"text-align: right;\">\n",
       "      <th></th>\n",
       "      <th>prize</th>\n",
       "      <th>Base_Mean</th>\n",
       "      <th>log2FC</th>\n",
       "      <th>StdErr</th>\n",
       "      <th>Wald_Stats</th>\n",
       "      <th>P_value</th>\n",
       "      <th>P_adj</th>\n",
       "      <th>terminal</th>\n",
       "      <th>type</th>\n",
       "      <th>degree</th>\n",
       "      <th>betweenness</th>\n",
       "      <th>louvain_clusters</th>\n",
       "      <th>location</th>\n",
       "      <th>general_process</th>\n",
       "      <th>specific_process</th>\n",
       "      <th>general_function</th>\n",
       "      <th>specific_function</th>\n",
       "    </tr>\n",
       "  </thead>\n",
       "  <tbody>\n",
       "    <tr>\n",
       "      <th>ABCD1</th>\n",
       "      <td>5.517830</td>\n",
       "      <td>206.706956</td>\n",
       "      <td>-2.835321</td>\n",
       "      <td>0.183205</td>\n",
       "      <td>15.476223</td>\n",
       "      <td>5.020961e-54</td>\n",
       "      <td>1.648218e-52</td>\n",
       "      <td>True</td>\n",
       "      <td>protein</td>\n",
       "      <td>16</td>\n",
       "      <td>0.000000</td>\n",
       "      <td>0</td>\n",
       "      <td>peroxisome</td>\n",
       "      <td>cellular process</td>\n",
       "      <td>cellular component organization</td>\n",
       "      <td>transporter</td>\n",
       "      <td>lipid transporter</td>\n",
       "    </tr>\n",
       "    <tr>\n",
       "      <th>ADD3</th>\n",
       "      <td>2.924647</td>\n",
       "      <td>2596.830442</td>\n",
       "      <td>2.311630</td>\n",
       "      <td>0.062866</td>\n",
       "      <td>-36.770760</td>\n",
       "      <td>5.417044e-296</td>\n",
       "      <td>3.430129e-293</td>\n",
       "      <td>True</td>\n",
       "      <td>protein</td>\n",
       "      <td>25</td>\n",
       "      <td>0.000000</td>\n",
       "      <td>5</td>\n",
       "      <td>nucleus</td>\n",
       "      <td>cellular process</td>\n",
       "      <td>cellular component organization</td>\n",
       "      <td>structural molecule</td>\n",
       "      <td>structural constituent of cytoskeleton</td>\n",
       "    </tr>\n",
       "    <tr>\n",
       "      <th>AMOTL2</th>\n",
       "      <td>2.930907</td>\n",
       "      <td>3096.331203</td>\n",
       "      <td>-1.954230</td>\n",
       "      <td>0.053089</td>\n",
       "      <td>36.810636</td>\n",
       "      <td>1.247823e-296</td>\n",
       "      <td>8.114896e-294</td>\n",
       "      <td>True</td>\n",
       "      <td>protein</td>\n",
       "      <td>79</td>\n",
       "      <td>0.000000</td>\n",
       "      <td>7</td>\n",
       "      <td>cytoplasm</td>\n",
       "      <td>cellular process</td>\n",
       "      <td>cell communication</td>\n",
       "      <td>binding</td>\n",
       "      <td>protein binding</td>\n",
       "    </tr>\n",
       "    <tr>\n",
       "      <th>AP2A1</th>\n",
       "      <td>1.135907</td>\n",
       "      <td>2452.825093</td>\n",
       "      <td>1.391865</td>\n",
       "      <td>0.060715</td>\n",
       "      <td>-22.924545</td>\n",
       "      <td>2.644816e-116</td>\n",
       "      <td>2.566111e-114</td>\n",
       "      <td>True</td>\n",
       "      <td>protein</td>\n",
       "      <td>101</td>\n",
       "      <td>0.178466</td>\n",
       "      <td>7</td>\n",
       "      <td>golgi</td>\n",
       "      <td>biological regulation</td>\n",
       "      <td>regulation of biological process</td>\n",
       "      <td>binding</td>\n",
       "      <td>protein binding</td>\n",
       "    </tr>\n",
       "    <tr>\n",
       "      <th>BACE1</th>\n",
       "      <td>1.243755</td>\n",
       "      <td>1469.981300</td>\n",
       "      <td>2.035023</td>\n",
       "      <td>0.084830</td>\n",
       "      <td>-23.989391</td>\n",
       "      <td>3.588534e-127</td>\n",
       "      <td>4.212063e-125</td>\n",
       "      <td>True</td>\n",
       "      <td>protein</td>\n",
       "      <td>24</td>\n",
       "      <td>0.063784</td>\n",
       "      <td>0</td>\n",
       "      <td>golgi</td>\n",
       "      <td>metabolic process</td>\n",
       "      <td>nitrogen compound metabolic process</td>\n",
       "      <td>catalytic</td>\n",
       "      <td>hydrolase</td>\n",
       "    </tr>\n",
       "  </tbody>\n",
       "</table>\n",
       "</div>"
      ],
      "text/plain": [
       "           prize    Base_Mean    log2FC    StdErr  Wald_Stats        P_value  \\\n",
       "ABCD1   5.517830   206.706956 -2.835321  0.183205   15.476223   5.020961e-54   \n",
       "ADD3    2.924647  2596.830442  2.311630  0.062866  -36.770760  5.417044e-296   \n",
       "AMOTL2  2.930907  3096.331203 -1.954230  0.053089   36.810636  1.247823e-296   \n",
       "AP2A1   1.135907  2452.825093  1.391865  0.060715  -22.924545  2.644816e-116   \n",
       "BACE1   1.243755  1469.981300  2.035023  0.084830  -23.989391  3.588534e-127   \n",
       "\n",
       "                P_adj  terminal     type  degree  betweenness  \\\n",
       "ABCD1    1.648218e-52      True  protein      16     0.000000   \n",
       "ADD3    3.430129e-293      True  protein      25     0.000000   \n",
       "AMOTL2  8.114896e-294      True  protein      79     0.000000   \n",
       "AP2A1   2.566111e-114      True  protein     101     0.178466   \n",
       "BACE1   4.212063e-125      True  protein      24     0.063784   \n",
       "\n",
       "       louvain_clusters    location        general_process  \\\n",
       "ABCD1                 0  peroxisome       cellular process   \n",
       "ADD3                  5     nucleus       cellular process   \n",
       "AMOTL2                7   cytoplasm       cellular process   \n",
       "AP2A1                 7       golgi  biological regulation   \n",
       "BACE1                 0       golgi      metabolic process   \n",
       "\n",
       "                           specific_process     general_function  \\\n",
       "ABCD1       cellular component organization          transporter   \n",
       "ADD3        cellular component organization  structural molecule   \n",
       "AMOTL2                   cell communication              binding   \n",
       "AP2A1      regulation of biological process              binding   \n",
       "BACE1   nitrogen compound metabolic process            catalytic   \n",
       "\n",
       "                             specific_function  \n",
       "ABCD1                        lipid transporter  \n",
       "ADD3    structural constituent of cytoskeleton  \n",
       "AMOTL2                         protein binding  \n",
       "AP2A1                          protein binding  \n",
       "BACE1                                hydrolase  "
      ]
     },
     "execution_count": 9,
     "metadata": {},
     "output_type": "execute_result"
    }
   ],
   "source": [
    "oi.get_networkx_graph_as_dataframe_of_nodes(augmented_forest).head()"
   ]
  },
  {
   "cell_type": "code",
   "execution_count": 10,
   "metadata": {
    "scrolled": false
   },
   "outputs": [
    {
     "data": {
      "text/plain": [
       "PosixPath('/Users/alex/Desktop/graph.html')"
      ]
     },
     "execution_count": 10,
     "metadata": {},
     "output_type": "execute_result"
    }
   ],
   "source": [
    "oi.output_networkx_graph_as_interactive_html(augmented_forest, output_dir='/Users/alex/Desktop/')"
   ]
  },
  {
   "cell_type": "code",
   "execution_count": null,
   "metadata": {},
   "outputs": [],
   "source": []
  }
 ],
 "metadata": {
  "kernelspec": {
   "display_name": "Python 3",
   "language": "python",
   "name": "python3"
  },
  "language_info": {
   "codemirror_mode": {
    "name": "ipython",
    "version": 3
   },
   "file_extension": ".py",
   "mimetype": "text/x-python",
   "name": "python",
   "nbconvert_exporter": "python",
   "pygments_lexer": "ipython3",
   "version": "3.7.2"
  }
 },
 "nbformat": 4,
 "nbformat_minor": 2
}
