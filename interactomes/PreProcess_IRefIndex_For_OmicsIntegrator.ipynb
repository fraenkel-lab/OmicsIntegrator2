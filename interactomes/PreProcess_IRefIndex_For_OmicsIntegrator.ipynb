{
 "cells": [
  {
   "cell_type": "markdown",
   "metadata": {},
   "source": [
    "# PreProcessing IRefIndex for OmicsIntegrator\n",
    "\n",
    "All Fraenkel-lab interactomes have been pre-processed to have 3 columns: 2 interactors and a scalar confidence\n",
    "However, OmicsIntegrator requires that edges have a cost, not a confidence. This notebook sets costs on the edges and augments those interactomes for use in OmicsIntegrator."
   ]
  },
  {
   "cell_type": "code",
   "execution_count": 1,
   "metadata": {},
   "outputs": [],
   "source": [
    "import numpy as np\n",
    "import pandas as pd\n",
    "import matplotlib.pyplot as plt\n",
    "%matplotlib inline"
   ]
  },
  {
   "cell_type": "code",
   "execution_count": 2,
   "metadata": {},
   "outputs": [
    {
     "data": {
      "text/html": [
       "<div>\n",
       "<style scoped>\n",
       "    .dataframe tbody tr th:only-of-type {\n",
       "        vertical-align: middle;\n",
       "    }\n",
       "\n",
       "    .dataframe tbody tr th {\n",
       "        vertical-align: top;\n",
       "    }\n",
       "\n",
       "    .dataframe thead th {\n",
       "        text-align: right;\n",
       "    }\n",
       "</style>\n",
       "<table border=\"1\" class=\"dataframe\">\n",
       "  <thead>\n",
       "    <tr style=\"text-align: right;\">\n",
       "      <th></th>\n",
       "      <th>protein1</th>\n",
       "      <th>protein2</th>\n",
       "      <th>Interaction detection methods</th>\n",
       "      <th>Confidence score: hpr</th>\n",
       "      <th>Confidence score: lpr</th>\n",
       "      <th>Confidence score: np</th>\n",
       "    </tr>\n",
       "  </thead>\n",
       "  <tbody>\n",
       "    <tr>\n",
       "      <th>0</th>\n",
       "      <td>0610009B22Rik</td>\n",
       "      <td>REPS2</td>\n",
       "      <td>two hybrid</td>\n",
       "      <td>14.0</td>\n",
       "      <td>14.0</td>\n",
       "      <td>1.0</td>\n",
       "    </tr>\n",
       "    <tr>\n",
       "      <th>1</th>\n",
       "      <td>0610009B22Rik</td>\n",
       "      <td>TRAPPC3</td>\n",
       "      <td>two hybrid</td>\n",
       "      <td>14.0</td>\n",
       "      <td>14.0</td>\n",
       "      <td>1.0</td>\n",
       "    </tr>\n",
       "    <tr>\n",
       "      <th>2</th>\n",
       "      <td>0610009B22Rik</td>\n",
       "      <td>LAP3</td>\n",
       "      <td>two hybrid</td>\n",
       "      <td>14.0</td>\n",
       "      <td>14.0</td>\n",
       "      <td>1.0</td>\n",
       "    </tr>\n",
       "    <tr>\n",
       "      <th>3</th>\n",
       "      <td>0610009B22Rik</td>\n",
       "      <td>POSTN</td>\n",
       "      <td>two hybrid</td>\n",
       "      <td>14.0</td>\n",
       "      <td>14.0</td>\n",
       "      <td>1.0</td>\n",
       "    </tr>\n",
       "    <tr>\n",
       "      <th>4</th>\n",
       "      <td>0610009B22Rik</td>\n",
       "      <td>SPATA22</td>\n",
       "      <td>two hybrid</td>\n",
       "      <td>14.0</td>\n",
       "      <td>14.0</td>\n",
       "      <td>1.0</td>\n",
       "    </tr>\n",
       "  </tbody>\n",
       "</table>\n",
       "</div>"
      ],
      "text/plain": [
       "        protein1 protein2 Interaction detection methods  \\\n",
       "0  0610009B22Rik    REPS2                    two hybrid   \n",
       "1  0610009B22Rik  TRAPPC3                    two hybrid   \n",
       "2  0610009B22Rik     LAP3                    two hybrid   \n",
       "3  0610009B22Rik    POSTN                    two hybrid   \n",
       "4  0610009B22Rik  SPATA22                    two hybrid   \n",
       "\n",
       "   Confidence score: hpr  Confidence score: lpr  Confidence score: np  \n",
       "0                   14.0                   14.0                   1.0  \n",
       "1                   14.0                   14.0                   1.0  \n",
       "2                   14.0                   14.0                   1.0  \n",
       "3                   14.0                   14.0                   1.0  \n",
       "4                   14.0                   14.0                   1.0  "
      ]
     },
     "execution_count": 2,
     "metadata": {},
     "output_type": "execute_result"
    }
   ],
   "source": [
    "irefindex = pd.read_pickle(\"../../interactomes/IRefIndex/iref15.1.22.2018.cleaned.namespace-mapped.full.pickle\")\n",
    "irefindex.head()"
   ]
  },
  {
   "cell_type": "code",
   "execution_count": 3,
   "metadata": {},
   "outputs": [],
   "source": [
    "# irefindex['confidence'].astype(float).plot.hist(bins=100)"
   ]
  },
  {
   "cell_type": "code",
   "execution_count": 4,
   "metadata": {},
   "outputs": [],
   "source": [
    "# irefindex['confidence'].astype(float).plot.hist(bins=100)"
   ]
  },
  {
   "cell_type": "code",
   "execution_count": 5,
   "metadata": {},
   "outputs": [],
   "source": [
    "# irefindex['cost'] = 1.5 - irefindex['confidence'].astype(float)\n",
    "# del irefindex['confidence']\n",
    "\n",
    "# irefindex.head()"
   ]
  },
  {
   "cell_type": "code",
   "execution_count": 6,
   "metadata": {},
   "outputs": [],
   "source": [
    "# irefindex = irefindex.reset_index(drop=True)\n",
    "# irefindex.head()"
   ]
  },
  {
   "cell_type": "code",
   "execution_count": 7,
   "metadata": {},
   "outputs": [],
   "source": [
    "# irefindex.to_pickle('iref15.1.22.2018.full.oi-ready.pickle')"
   ]
  },
  {
   "cell_type": "markdown",
   "metadata": {},
   "source": [
    "### Until such a time we have a real confidence associated with edges in IRefIndex, we can't proceed"
   ]
  }
 ],
 "metadata": {
  "kernelspec": {
   "display_name": "Python 3",
   "language": "python",
   "name": "python3"
  },
  "language_info": {
   "codemirror_mode": {
    "name": "ipython",
    "version": 3
   },
   "file_extension": ".py",
   "mimetype": "text/x-python",
   "name": "python",
   "nbconvert_exporter": "python",
   "pygments_lexer": "ipython3",
   "version": "3.6.5"
  }
 },
 "nbformat": 4,
 "nbformat_minor": 2
}
